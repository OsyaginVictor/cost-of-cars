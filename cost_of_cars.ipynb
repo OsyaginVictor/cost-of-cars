{
  "cells": [
    {
      "cell_type": "markdown",
      "metadata": {
        "id": "view-in-github",
        "colab_type": "text"
      },
      "source": [
        "<a href=\"https://colab.research.google.com/github/OsyaginVictor/cost-of-cars/blob/main/cost_of_cars.ipynb\" target=\"_parent\"><img src=\"https://colab.research.google.com/assets/colab-badge.svg\" alt=\"Open In Colab\"/></a>"
      ]
    },
    {
      "cell_type": "markdown",
      "metadata": {
        "id": "8HzVPcxoIvvT"
      },
      "source": [
        "# Определение стоимости автомобилей"
      ]
    },
    {
      "cell_type": "markdown",
      "metadata": {
        "id": "zv6PytEAIvvU"
      },
      "source": [
        "Сервис по продаже автомобилей с пробегом «Не бит, не крашен» разрабатывает приложение для привлечения новых клиентов. В нём можно быстро узнать рыночную стоимость своего автомобиля. В вашем распоряжении исторические данные: технические характеристики, комплектации и цены автомобилей. Вам нужно построить модель для определения стоимости.\n",
        "\n",
        "Заказчику важны:\n",
        "\n",
        "- качество предсказания;\n",
        "- скорость предсказания;\n",
        "- время обучения."
      ]
    },
    {
      "cell_type": "markdown",
      "metadata": {
        "id": "1XT467i2IvvU"
      },
      "source": [
        "\n",
        "## Подготовка данных"
      ]
    },
    {
      "cell_type": "markdown",
      "metadata": {
        "id": "g7oorkNsIvvU"
      },
      "source": [
        "Запишем признаки,чтобы удобно было искать нужные.\n",
        "\n",
        "DateCrawled — дата скачивания анкеты из базы\n",
        "\n",
        "VehicleType — тип автомобильного кузова\n",
        "\n",
        "RegistrationYear — год регистрации автомобиля\n",
        "\n",
        "Gearbox — тип коробки передач\n",
        "\n",
        "Power — мощность (л. с.)\n",
        "\n",
        "Model — модель автомобиля\n",
        "\n",
        "Kilometer — пробег (км)\n",
        "\n",
        "RegistrationMonth — месяц регистрации автомобиля\n",
        "\n",
        "FuelType — тип топлива\n",
        "\n",
        "Brand — марка автомобиля\n",
        "\n",
        "Repaired — была машина в ремонте или нет\n",
        "\n",
        "DateCreated — дата создания анкеты\n",
        "\n",
        "NumberOfPictures — количество фотографий автомобиля\n",
        "\n",
        "PostalCode — почтовый индекс владельца анкеты (пользователя)\n",
        "\n",
        "LastSeen — дата последней активности пользователя\n",
        "\n",
        "Целевой признак\n",
        "\n",
        "Price — цена (евро)"
      ]
    },
    {
      "cell_type": "code",
      "execution_count": null,
      "metadata": {
        "id": "mCbYSRD8IvvU"
      },
      "outputs": [],
      "source": [
        "import pandas as pd\n",
        "import numpy as np\n",
        "import re\n",
        "from scipy import stats as st\n",
        "import matplotlib.pyplot as plt\n",
        "\n",
        "from IPython.display import display\n",
        "from numpy.random import RandomState\n",
        "from scipy import stats\n",
        "\n",
        "from sklearn.inspection import permutation_importance\n",
        "from sklearn.preprocessing import StandardScaler\n",
        "from sklearn.model_selection import train_test_split, cross_val_score, GridSearchCV\n",
        "from sklearn.linear_model import LinearRegression, ElasticNet, Ridge, Lasso\n",
        "from sklearn.ensemble import GradientBoostingRegressor, RandomForestRegressor\n",
        "from sklearn.metrics import mean_squared_error, make_scorer\n",
        "from sklearn.preprocessing import OrdinalEncoder\n",
        "import lightgbm\n",
        "import catboost\n",
        "%matplotlib inline\n"
      ]
    },
    {
      "cell_type": "code",
      "execution_count": null,
      "metadata": {
        "id": "ygLmwI-sIvvV"
      },
      "outputs": [],
      "source": [
        "df = pd.read_csv('/datasets/autos.csv')"
      ]
    },
    {
      "cell_type": "code",
      "execution_count": null,
      "metadata": {
        "id": "jaEVgugmIvvV"
      },
      "outputs": [],
      "source": [
        "pd.set_option('display.max_columns', None)"
      ]
    },
    {
      "cell_type": "code",
      "execution_count": null,
      "metadata": {
        "scrolled": true,
        "id": "ge5tlX1EIvvV",
        "outputId": "44127b19-0122-4ef1-cfeb-e3ebb391c79d"
      },
      "outputs": [
        {
          "data": {
            "text/html": [
              "<div>\n",
              "<style scoped>\n",
              "    .dataframe tbody tr th:only-of-type {\n",
              "        vertical-align: middle;\n",
              "    }\n",
              "\n",
              "    .dataframe tbody tr th {\n",
              "        vertical-align: top;\n",
              "    }\n",
              "\n",
              "    .dataframe thead th {\n",
              "        text-align: right;\n",
              "    }\n",
              "</style>\n",
              "<table border=\"1\" class=\"dataframe\">\n",
              "  <thead>\n",
              "    <tr style=\"text-align: right;\">\n",
              "      <th></th>\n",
              "      <th>DateCrawled</th>\n",
              "      <th>Price</th>\n",
              "      <th>VehicleType</th>\n",
              "      <th>RegistrationYear</th>\n",
              "      <th>Gearbox</th>\n",
              "      <th>Power</th>\n",
              "      <th>Model</th>\n",
              "      <th>Kilometer</th>\n",
              "      <th>RegistrationMonth</th>\n",
              "      <th>FuelType</th>\n",
              "      <th>Brand</th>\n",
              "      <th>Repaired</th>\n",
              "      <th>DateCreated</th>\n",
              "      <th>NumberOfPictures</th>\n",
              "      <th>PostalCode</th>\n",
              "      <th>LastSeen</th>\n",
              "    </tr>\n",
              "  </thead>\n",
              "  <tbody>\n",
              "    <tr>\n",
              "      <th>0</th>\n",
              "      <td>2016-03-24 11:52:17</td>\n",
              "      <td>480</td>\n",
              "      <td>NaN</td>\n",
              "      <td>1993</td>\n",
              "      <td>manual</td>\n",
              "      <td>0</td>\n",
              "      <td>golf</td>\n",
              "      <td>150000</td>\n",
              "      <td>0</td>\n",
              "      <td>petrol</td>\n",
              "      <td>volkswagen</td>\n",
              "      <td>NaN</td>\n",
              "      <td>2016-03-24 00:00:00</td>\n",
              "      <td>0</td>\n",
              "      <td>70435</td>\n",
              "      <td>2016-04-07 03:16:57</td>\n",
              "    </tr>\n",
              "    <tr>\n",
              "      <th>1</th>\n",
              "      <td>2016-03-24 10:58:45</td>\n",
              "      <td>18300</td>\n",
              "      <td>coupe</td>\n",
              "      <td>2011</td>\n",
              "      <td>manual</td>\n",
              "      <td>190</td>\n",
              "      <td>NaN</td>\n",
              "      <td>125000</td>\n",
              "      <td>5</td>\n",
              "      <td>gasoline</td>\n",
              "      <td>audi</td>\n",
              "      <td>yes</td>\n",
              "      <td>2016-03-24 00:00:00</td>\n",
              "      <td>0</td>\n",
              "      <td>66954</td>\n",
              "      <td>2016-04-07 01:46:50</td>\n",
              "    </tr>\n",
              "    <tr>\n",
              "      <th>2</th>\n",
              "      <td>2016-03-14 12:52:21</td>\n",
              "      <td>9800</td>\n",
              "      <td>suv</td>\n",
              "      <td>2004</td>\n",
              "      <td>auto</td>\n",
              "      <td>163</td>\n",
              "      <td>grand</td>\n",
              "      <td>125000</td>\n",
              "      <td>8</td>\n",
              "      <td>gasoline</td>\n",
              "      <td>jeep</td>\n",
              "      <td>NaN</td>\n",
              "      <td>2016-03-14 00:00:00</td>\n",
              "      <td>0</td>\n",
              "      <td>90480</td>\n",
              "      <td>2016-04-05 12:47:46</td>\n",
              "    </tr>\n",
              "    <tr>\n",
              "      <th>3</th>\n",
              "      <td>2016-03-17 16:54:04</td>\n",
              "      <td>1500</td>\n",
              "      <td>small</td>\n",
              "      <td>2001</td>\n",
              "      <td>manual</td>\n",
              "      <td>75</td>\n",
              "      <td>golf</td>\n",
              "      <td>150000</td>\n",
              "      <td>6</td>\n",
              "      <td>petrol</td>\n",
              "      <td>volkswagen</td>\n",
              "      <td>no</td>\n",
              "      <td>2016-03-17 00:00:00</td>\n",
              "      <td>0</td>\n",
              "      <td>91074</td>\n",
              "      <td>2016-03-17 17:40:17</td>\n",
              "    </tr>\n",
              "    <tr>\n",
              "      <th>4</th>\n",
              "      <td>2016-03-31 17:25:20</td>\n",
              "      <td>3600</td>\n",
              "      <td>small</td>\n",
              "      <td>2008</td>\n",
              "      <td>manual</td>\n",
              "      <td>69</td>\n",
              "      <td>fabia</td>\n",
              "      <td>90000</td>\n",
              "      <td>7</td>\n",
              "      <td>gasoline</td>\n",
              "      <td>skoda</td>\n",
              "      <td>no</td>\n",
              "      <td>2016-03-31 00:00:00</td>\n",
              "      <td>0</td>\n",
              "      <td>60437</td>\n",
              "      <td>2016-04-06 10:17:21</td>\n",
              "    </tr>\n",
              "    <tr>\n",
              "      <th>5</th>\n",
              "      <td>2016-04-04 17:36:23</td>\n",
              "      <td>650</td>\n",
              "      <td>sedan</td>\n",
              "      <td>1995</td>\n",
              "      <td>manual</td>\n",
              "      <td>102</td>\n",
              "      <td>3er</td>\n",
              "      <td>150000</td>\n",
              "      <td>10</td>\n",
              "      <td>petrol</td>\n",
              "      <td>bmw</td>\n",
              "      <td>yes</td>\n",
              "      <td>2016-04-04 00:00:00</td>\n",
              "      <td>0</td>\n",
              "      <td>33775</td>\n",
              "      <td>2016-04-06 19:17:07</td>\n",
              "    </tr>\n",
              "    <tr>\n",
              "      <th>6</th>\n",
              "      <td>2016-04-01 20:48:51</td>\n",
              "      <td>2200</td>\n",
              "      <td>convertible</td>\n",
              "      <td>2004</td>\n",
              "      <td>manual</td>\n",
              "      <td>109</td>\n",
              "      <td>2_reihe</td>\n",
              "      <td>150000</td>\n",
              "      <td>8</td>\n",
              "      <td>petrol</td>\n",
              "      <td>peugeot</td>\n",
              "      <td>no</td>\n",
              "      <td>2016-04-01 00:00:00</td>\n",
              "      <td>0</td>\n",
              "      <td>67112</td>\n",
              "      <td>2016-04-05 18:18:39</td>\n",
              "    </tr>\n",
              "    <tr>\n",
              "      <th>7</th>\n",
              "      <td>2016-03-21 18:54:38</td>\n",
              "      <td>0</td>\n",
              "      <td>sedan</td>\n",
              "      <td>1980</td>\n",
              "      <td>manual</td>\n",
              "      <td>50</td>\n",
              "      <td>other</td>\n",
              "      <td>40000</td>\n",
              "      <td>7</td>\n",
              "      <td>petrol</td>\n",
              "      <td>volkswagen</td>\n",
              "      <td>no</td>\n",
              "      <td>2016-03-21 00:00:00</td>\n",
              "      <td>0</td>\n",
              "      <td>19348</td>\n",
              "      <td>2016-03-25 16:47:58</td>\n",
              "    </tr>\n",
              "    <tr>\n",
              "      <th>8</th>\n",
              "      <td>2016-04-04 23:42:13</td>\n",
              "      <td>14500</td>\n",
              "      <td>bus</td>\n",
              "      <td>2014</td>\n",
              "      <td>manual</td>\n",
              "      <td>125</td>\n",
              "      <td>c_max</td>\n",
              "      <td>30000</td>\n",
              "      <td>8</td>\n",
              "      <td>petrol</td>\n",
              "      <td>ford</td>\n",
              "      <td>NaN</td>\n",
              "      <td>2016-04-04 00:00:00</td>\n",
              "      <td>0</td>\n",
              "      <td>94505</td>\n",
              "      <td>2016-04-04 23:42:13</td>\n",
              "    </tr>\n",
              "    <tr>\n",
              "      <th>9</th>\n",
              "      <td>2016-03-17 10:53:50</td>\n",
              "      <td>999</td>\n",
              "      <td>small</td>\n",
              "      <td>1998</td>\n",
              "      <td>manual</td>\n",
              "      <td>101</td>\n",
              "      <td>golf</td>\n",
              "      <td>150000</td>\n",
              "      <td>0</td>\n",
              "      <td>NaN</td>\n",
              "      <td>volkswagen</td>\n",
              "      <td>NaN</td>\n",
              "      <td>2016-03-17 00:00:00</td>\n",
              "      <td>0</td>\n",
              "      <td>27472</td>\n",
              "      <td>2016-03-31 17:17:06</td>\n",
              "    </tr>\n",
              "    <tr>\n",
              "      <th>10</th>\n",
              "      <td>2016-03-26 19:54:18</td>\n",
              "      <td>2000</td>\n",
              "      <td>sedan</td>\n",
              "      <td>2004</td>\n",
              "      <td>manual</td>\n",
              "      <td>105</td>\n",
              "      <td>3_reihe</td>\n",
              "      <td>150000</td>\n",
              "      <td>12</td>\n",
              "      <td>petrol</td>\n",
              "      <td>mazda</td>\n",
              "      <td>no</td>\n",
              "      <td>2016-03-26 00:00:00</td>\n",
              "      <td>0</td>\n",
              "      <td>96224</td>\n",
              "      <td>2016-04-06 10:45:34</td>\n",
              "    </tr>\n",
              "    <tr>\n",
              "      <th>11</th>\n",
              "      <td>2016-04-07 10:06:22</td>\n",
              "      <td>2799</td>\n",
              "      <td>wagon</td>\n",
              "      <td>2005</td>\n",
              "      <td>manual</td>\n",
              "      <td>140</td>\n",
              "      <td>passat</td>\n",
              "      <td>150000</td>\n",
              "      <td>12</td>\n",
              "      <td>gasoline</td>\n",
              "      <td>volkswagen</td>\n",
              "      <td>yes</td>\n",
              "      <td>2016-04-07 00:00:00</td>\n",
              "      <td>0</td>\n",
              "      <td>57290</td>\n",
              "      <td>2016-04-07 10:25:17</td>\n",
              "    </tr>\n",
              "    <tr>\n",
              "      <th>12</th>\n",
              "      <td>2016-03-15 22:49:09</td>\n",
              "      <td>999</td>\n",
              "      <td>wagon</td>\n",
              "      <td>1995</td>\n",
              "      <td>manual</td>\n",
              "      <td>115</td>\n",
              "      <td>passat</td>\n",
              "      <td>150000</td>\n",
              "      <td>11</td>\n",
              "      <td>petrol</td>\n",
              "      <td>volkswagen</td>\n",
              "      <td>NaN</td>\n",
              "      <td>2016-03-15 00:00:00</td>\n",
              "      <td>0</td>\n",
              "      <td>37269</td>\n",
              "      <td>2016-04-01 13:16:16</td>\n",
              "    </tr>\n",
              "    <tr>\n",
              "      <th>13</th>\n",
              "      <td>2016-03-21 21:37:40</td>\n",
              "      <td>2500</td>\n",
              "      <td>wagon</td>\n",
              "      <td>2004</td>\n",
              "      <td>manual</td>\n",
              "      <td>131</td>\n",
              "      <td>passat</td>\n",
              "      <td>150000</td>\n",
              "      <td>2</td>\n",
              "      <td>NaN</td>\n",
              "      <td>volkswagen</td>\n",
              "      <td>no</td>\n",
              "      <td>2016-03-21 00:00:00</td>\n",
              "      <td>0</td>\n",
              "      <td>90762</td>\n",
              "      <td>2016-03-23 02:50:54</td>\n",
              "    </tr>\n",
              "    <tr>\n",
              "      <th>14</th>\n",
              "      <td>2016-03-21 12:57:01</td>\n",
              "      <td>17999</td>\n",
              "      <td>suv</td>\n",
              "      <td>2011</td>\n",
              "      <td>manual</td>\n",
              "      <td>190</td>\n",
              "      <td>navara</td>\n",
              "      <td>70000</td>\n",
              "      <td>3</td>\n",
              "      <td>gasoline</td>\n",
              "      <td>nissan</td>\n",
              "      <td>no</td>\n",
              "      <td>2016-03-21 00:00:00</td>\n",
              "      <td>0</td>\n",
              "      <td>4177</td>\n",
              "      <td>2016-04-06 07:45:42</td>\n",
              "    </tr>\n",
              "    <tr>\n",
              "      <th>15</th>\n",
              "      <td>2016-03-11 21:39:15</td>\n",
              "      <td>450</td>\n",
              "      <td>small</td>\n",
              "      <td>1910</td>\n",
              "      <td>NaN</td>\n",
              "      <td>0</td>\n",
              "      <td>ka</td>\n",
              "      <td>5000</td>\n",
              "      <td>0</td>\n",
              "      <td>petrol</td>\n",
              "      <td>ford</td>\n",
              "      <td>NaN</td>\n",
              "      <td>2016-03-11 00:00:00</td>\n",
              "      <td>0</td>\n",
              "      <td>24148</td>\n",
              "      <td>2016-03-19 08:46:47</td>\n",
              "    </tr>\n",
              "    <tr>\n",
              "      <th>16</th>\n",
              "      <td>2016-04-01 12:46:46</td>\n",
              "      <td>300</td>\n",
              "      <td>NaN</td>\n",
              "      <td>2016</td>\n",
              "      <td>NaN</td>\n",
              "      <td>60</td>\n",
              "      <td>polo</td>\n",
              "      <td>150000</td>\n",
              "      <td>0</td>\n",
              "      <td>petrol</td>\n",
              "      <td>volkswagen</td>\n",
              "      <td>NaN</td>\n",
              "      <td>2016-04-01 00:00:00</td>\n",
              "      <td>0</td>\n",
              "      <td>38871</td>\n",
              "      <td>2016-04-01 12:46:46</td>\n",
              "    </tr>\n",
              "    <tr>\n",
              "      <th>17</th>\n",
              "      <td>2016-03-20 10:25:19</td>\n",
              "      <td>1750</td>\n",
              "      <td>small</td>\n",
              "      <td>2004</td>\n",
              "      <td>auto</td>\n",
              "      <td>75</td>\n",
              "      <td>twingo</td>\n",
              "      <td>150000</td>\n",
              "      <td>2</td>\n",
              "      <td>petrol</td>\n",
              "      <td>renault</td>\n",
              "      <td>no</td>\n",
              "      <td>2016-03-20 00:00:00</td>\n",
              "      <td>0</td>\n",
              "      <td>65599</td>\n",
              "      <td>2016-04-06 13:16:07</td>\n",
              "    </tr>\n",
              "    <tr>\n",
              "      <th>18</th>\n",
              "      <td>2016-03-23 15:48:05</td>\n",
              "      <td>7550</td>\n",
              "      <td>bus</td>\n",
              "      <td>2007</td>\n",
              "      <td>manual</td>\n",
              "      <td>136</td>\n",
              "      <td>c_max</td>\n",
              "      <td>150000</td>\n",
              "      <td>6</td>\n",
              "      <td>gasoline</td>\n",
              "      <td>ford</td>\n",
              "      <td>no</td>\n",
              "      <td>2016-03-23 00:00:00</td>\n",
              "      <td>0</td>\n",
              "      <td>88361</td>\n",
              "      <td>2016-04-05 18:45:11</td>\n",
              "    </tr>\n",
              "    <tr>\n",
              "      <th>19</th>\n",
              "      <td>2016-04-01 22:55:47</td>\n",
              "      <td>1850</td>\n",
              "      <td>bus</td>\n",
              "      <td>2004</td>\n",
              "      <td>manual</td>\n",
              "      <td>102</td>\n",
              "      <td>a_klasse</td>\n",
              "      <td>150000</td>\n",
              "      <td>1</td>\n",
              "      <td>petrol</td>\n",
              "      <td>mercedes_benz</td>\n",
              "      <td>no</td>\n",
              "      <td>2016-04-01 00:00:00</td>\n",
              "      <td>0</td>\n",
              "      <td>49565</td>\n",
              "      <td>2016-04-05 22:46:05</td>\n",
              "    </tr>\n",
              "  </tbody>\n",
              "</table>\n",
              "</div>"
            ],
            "text/plain": [
              "            DateCrawled  Price  VehicleType  RegistrationYear Gearbox  Power  \\\n",
              "0   2016-03-24 11:52:17    480          NaN              1993  manual      0   \n",
              "1   2016-03-24 10:58:45  18300        coupe              2011  manual    190   \n",
              "2   2016-03-14 12:52:21   9800          suv              2004    auto    163   \n",
              "3   2016-03-17 16:54:04   1500        small              2001  manual     75   \n",
              "4   2016-03-31 17:25:20   3600        small              2008  manual     69   \n",
              "5   2016-04-04 17:36:23    650        sedan              1995  manual    102   \n",
              "6   2016-04-01 20:48:51   2200  convertible              2004  manual    109   \n",
              "7   2016-03-21 18:54:38      0        sedan              1980  manual     50   \n",
              "8   2016-04-04 23:42:13  14500          bus              2014  manual    125   \n",
              "9   2016-03-17 10:53:50    999        small              1998  manual    101   \n",
              "10  2016-03-26 19:54:18   2000        sedan              2004  manual    105   \n",
              "11  2016-04-07 10:06:22   2799        wagon              2005  manual    140   \n",
              "12  2016-03-15 22:49:09    999        wagon              1995  manual    115   \n",
              "13  2016-03-21 21:37:40   2500        wagon              2004  manual    131   \n",
              "14  2016-03-21 12:57:01  17999          suv              2011  manual    190   \n",
              "15  2016-03-11 21:39:15    450        small              1910     NaN      0   \n",
              "16  2016-04-01 12:46:46    300          NaN              2016     NaN     60   \n",
              "17  2016-03-20 10:25:19   1750        small              2004    auto     75   \n",
              "18  2016-03-23 15:48:05   7550          bus              2007  manual    136   \n",
              "19  2016-04-01 22:55:47   1850          bus              2004  manual    102   \n",
              "\n",
              "       Model  Kilometer  RegistrationMonth  FuelType          Brand Repaired  \\\n",
              "0       golf     150000                  0    petrol     volkswagen      NaN   \n",
              "1        NaN     125000                  5  gasoline           audi      yes   \n",
              "2      grand     125000                  8  gasoline           jeep      NaN   \n",
              "3       golf     150000                  6    petrol     volkswagen       no   \n",
              "4      fabia      90000                  7  gasoline          skoda       no   \n",
              "5        3er     150000                 10    petrol            bmw      yes   \n",
              "6    2_reihe     150000                  8    petrol        peugeot       no   \n",
              "7      other      40000                  7    petrol     volkswagen       no   \n",
              "8      c_max      30000                  8    petrol           ford      NaN   \n",
              "9       golf     150000                  0       NaN     volkswagen      NaN   \n",
              "10   3_reihe     150000                 12    petrol          mazda       no   \n",
              "11    passat     150000                 12  gasoline     volkswagen      yes   \n",
              "12    passat     150000                 11    petrol     volkswagen      NaN   \n",
              "13    passat     150000                  2       NaN     volkswagen       no   \n",
              "14    navara      70000                  3  gasoline         nissan       no   \n",
              "15        ka       5000                  0    petrol           ford      NaN   \n",
              "16      polo     150000                  0    petrol     volkswagen      NaN   \n",
              "17    twingo     150000                  2    petrol        renault       no   \n",
              "18     c_max     150000                  6  gasoline           ford       no   \n",
              "19  a_klasse     150000                  1    petrol  mercedes_benz       no   \n",
              "\n",
              "            DateCreated  NumberOfPictures  PostalCode             LastSeen  \n",
              "0   2016-03-24 00:00:00                 0       70435  2016-04-07 03:16:57  \n",
              "1   2016-03-24 00:00:00                 0       66954  2016-04-07 01:46:50  \n",
              "2   2016-03-14 00:00:00                 0       90480  2016-04-05 12:47:46  \n",
              "3   2016-03-17 00:00:00                 0       91074  2016-03-17 17:40:17  \n",
              "4   2016-03-31 00:00:00                 0       60437  2016-04-06 10:17:21  \n",
              "5   2016-04-04 00:00:00                 0       33775  2016-04-06 19:17:07  \n",
              "6   2016-04-01 00:00:00                 0       67112  2016-04-05 18:18:39  \n",
              "7   2016-03-21 00:00:00                 0       19348  2016-03-25 16:47:58  \n",
              "8   2016-04-04 00:00:00                 0       94505  2016-04-04 23:42:13  \n",
              "9   2016-03-17 00:00:00                 0       27472  2016-03-31 17:17:06  \n",
              "10  2016-03-26 00:00:00                 0       96224  2016-04-06 10:45:34  \n",
              "11  2016-04-07 00:00:00                 0       57290  2016-04-07 10:25:17  \n",
              "12  2016-03-15 00:00:00                 0       37269  2016-04-01 13:16:16  \n",
              "13  2016-03-21 00:00:00                 0       90762  2016-03-23 02:50:54  \n",
              "14  2016-03-21 00:00:00                 0        4177  2016-04-06 07:45:42  \n",
              "15  2016-03-11 00:00:00                 0       24148  2016-03-19 08:46:47  \n",
              "16  2016-04-01 00:00:00                 0       38871  2016-04-01 12:46:46  \n",
              "17  2016-03-20 00:00:00                 0       65599  2016-04-06 13:16:07  \n",
              "18  2016-03-23 00:00:00                 0       88361  2016-04-05 18:45:11  \n",
              "19  2016-04-01 00:00:00                 0       49565  2016-04-05 22:46:05  "
            ]
          },
          "execution_count": 4,
          "metadata": {},
          "output_type": "execute_result"
        }
      ],
      "source": [
        "df.head(20)"
      ]
    },
    {
      "cell_type": "markdown",
      "metadata": {
        "id": "9PKfvaeMIvvV"
      },
      "source": [
        "Приведем данные к змеиному языку."
      ]
    },
    {
      "cell_type": "code",
      "execution_count": null,
      "metadata": {
        "scrolled": true,
        "id": "_w5yfjKgIvvV",
        "outputId": "7cc98996-349f-45ae-a449-8975e07e718d"
      },
      "outputs": [
        {
          "data": {
            "text/plain": [
              "Index(['date_crawled', 'price', 'vehicle_type', 'registration_year', 'gearbox',\n",
              "       'power', 'model', 'kilometer', 'registration_month', 'fuel_type',\n",
              "       'brand', 'repaired', 'date_created', 'number_of_pictures',\n",
              "       'postal_code', 'last_seen'],\n",
              "      dtype='object')"
            ]
          },
          "execution_count": 5,
          "metadata": {},
          "output_type": "execute_result"
        }
      ],
      "source": [
        "df.columns = [re.sub(r'(?<!^)(?=[A-Z])', '_', i).lower()for i in df.columns]\n",
        "df.columns"
      ]
    },
    {
      "cell_type": "markdown",
      "metadata": {
        "id": "jTid7fGRIvvW"
      },
      "source": [
        "Посмотрим на наши данные"
      ]
    },
    {
      "cell_type": "code",
      "execution_count": null,
      "metadata": {
        "id": "nhQW4WlRIvvW",
        "outputId": "b719345f-076b-4a43-bf6f-74d061863303"
      },
      "outputs": [
        {
          "name": "stdout",
          "output_type": "stream",
          "text": [
            "<class 'pandas.core.frame.DataFrame'>\n",
            "RangeIndex: 354369 entries, 0 to 354368\n",
            "Data columns (total 16 columns):\n",
            " #   Column              Non-Null Count   Dtype \n",
            "---  ------              --------------   ----- \n",
            " 0   date_crawled        354369 non-null  object\n",
            " 1   price               354369 non-null  int64 \n",
            " 2   vehicle_type        316879 non-null  object\n",
            " 3   registration_year   354369 non-null  int64 \n",
            " 4   gearbox             334536 non-null  object\n",
            " 5   power               354369 non-null  int64 \n",
            " 6   model               334664 non-null  object\n",
            " 7   kilometer           354369 non-null  int64 \n",
            " 8   registration_month  354369 non-null  int64 \n",
            " 9   fuel_type           321474 non-null  object\n",
            " 10  brand               354369 non-null  object\n",
            " 11  repaired            283215 non-null  object\n",
            " 12  date_created        354369 non-null  object\n",
            " 13  number_of_pictures  354369 non-null  int64 \n",
            " 14  postal_code         354369 non-null  int64 \n",
            " 15  last_seen           354369 non-null  object\n",
            "dtypes: int64(7), object(9)\n",
            "memory usage: 43.3+ MB\n"
          ]
        }
      ],
      "source": [
        "df.info()"
      ]
    },
    {
      "cell_type": "code",
      "execution_count": null,
      "metadata": {
        "id": "d1FnaW6dIvvW",
        "outputId": "b47fc785-b728-42f6-d59c-9792d52c5332"
      },
      "outputs": [
        {
          "data": {
            "text/plain": [
              "(354369, 16)"
            ]
          },
          "execution_count": 7,
          "metadata": {},
          "output_type": "execute_result"
        }
      ],
      "source": [
        "df.shape"
      ]
    },
    {
      "cell_type": "code",
      "execution_count": null,
      "metadata": {
        "id": "oJDsBLdeIvvW",
        "outputId": "27e51138-0cca-4212-a308-954cc0aa510e"
      },
      "outputs": [
        {
          "data": {
            "text/html": [
              "<div>\n",
              "<style scoped>\n",
              "    .dataframe tbody tr th:only-of-type {\n",
              "        vertical-align: middle;\n",
              "    }\n",
              "\n",
              "    .dataframe tbody tr th {\n",
              "        vertical-align: top;\n",
              "    }\n",
              "\n",
              "    .dataframe thead th {\n",
              "        text-align: right;\n",
              "    }\n",
              "</style>\n",
              "<table border=\"1\" class=\"dataframe\">\n",
              "  <thead>\n",
              "    <tr style=\"text-align: right;\">\n",
              "      <th></th>\n",
              "      <th>price</th>\n",
              "      <th>registration_year</th>\n",
              "      <th>power</th>\n",
              "      <th>kilometer</th>\n",
              "      <th>registration_month</th>\n",
              "      <th>number_of_pictures</th>\n",
              "      <th>postal_code</th>\n",
              "    </tr>\n",
              "  </thead>\n",
              "  <tbody>\n",
              "    <tr>\n",
              "      <th>count</th>\n",
              "      <td>354369.000000</td>\n",
              "      <td>354369.000000</td>\n",
              "      <td>354369.000000</td>\n",
              "      <td>354369.000000</td>\n",
              "      <td>354369.000000</td>\n",
              "      <td>354369.0</td>\n",
              "      <td>354369.000000</td>\n",
              "    </tr>\n",
              "    <tr>\n",
              "      <th>mean</th>\n",
              "      <td>4416.656776</td>\n",
              "      <td>2004.234448</td>\n",
              "      <td>110.094337</td>\n",
              "      <td>128211.172535</td>\n",
              "      <td>5.714645</td>\n",
              "      <td>0.0</td>\n",
              "      <td>50508.689087</td>\n",
              "    </tr>\n",
              "    <tr>\n",
              "      <th>std</th>\n",
              "      <td>4514.158514</td>\n",
              "      <td>90.227958</td>\n",
              "      <td>189.850405</td>\n",
              "      <td>37905.341530</td>\n",
              "      <td>3.726421</td>\n",
              "      <td>0.0</td>\n",
              "      <td>25783.096248</td>\n",
              "    </tr>\n",
              "    <tr>\n",
              "      <th>min</th>\n",
              "      <td>0.000000</td>\n",
              "      <td>1000.000000</td>\n",
              "      <td>0.000000</td>\n",
              "      <td>5000.000000</td>\n",
              "      <td>0.000000</td>\n",
              "      <td>0.0</td>\n",
              "      <td>1067.000000</td>\n",
              "    </tr>\n",
              "    <tr>\n",
              "      <th>25%</th>\n",
              "      <td>1050.000000</td>\n",
              "      <td>1999.000000</td>\n",
              "      <td>69.000000</td>\n",
              "      <td>125000.000000</td>\n",
              "      <td>3.000000</td>\n",
              "      <td>0.0</td>\n",
              "      <td>30165.000000</td>\n",
              "    </tr>\n",
              "    <tr>\n",
              "      <th>50%</th>\n",
              "      <td>2700.000000</td>\n",
              "      <td>2003.000000</td>\n",
              "      <td>105.000000</td>\n",
              "      <td>150000.000000</td>\n",
              "      <td>6.000000</td>\n",
              "      <td>0.0</td>\n",
              "      <td>49413.000000</td>\n",
              "    </tr>\n",
              "    <tr>\n",
              "      <th>75%</th>\n",
              "      <td>6400.000000</td>\n",
              "      <td>2008.000000</td>\n",
              "      <td>143.000000</td>\n",
              "      <td>150000.000000</td>\n",
              "      <td>9.000000</td>\n",
              "      <td>0.0</td>\n",
              "      <td>71083.000000</td>\n",
              "    </tr>\n",
              "    <tr>\n",
              "      <th>max</th>\n",
              "      <td>20000.000000</td>\n",
              "      <td>9999.000000</td>\n",
              "      <td>20000.000000</td>\n",
              "      <td>150000.000000</td>\n",
              "      <td>12.000000</td>\n",
              "      <td>0.0</td>\n",
              "      <td>99998.000000</td>\n",
              "    </tr>\n",
              "  </tbody>\n",
              "</table>\n",
              "</div>"
            ],
            "text/plain": [
              "               price  registration_year          power      kilometer  \\\n",
              "count  354369.000000      354369.000000  354369.000000  354369.000000   \n",
              "mean     4416.656776        2004.234448     110.094337  128211.172535   \n",
              "std      4514.158514          90.227958     189.850405   37905.341530   \n",
              "min         0.000000        1000.000000       0.000000    5000.000000   \n",
              "25%      1050.000000        1999.000000      69.000000  125000.000000   \n",
              "50%      2700.000000        2003.000000     105.000000  150000.000000   \n",
              "75%      6400.000000        2008.000000     143.000000  150000.000000   \n",
              "max     20000.000000        9999.000000   20000.000000  150000.000000   \n",
              "\n",
              "       registration_month  number_of_pictures    postal_code  \n",
              "count       354369.000000            354369.0  354369.000000  \n",
              "mean             5.714645                 0.0   50508.689087  \n",
              "std              3.726421                 0.0   25783.096248  \n",
              "min              0.000000                 0.0    1067.000000  \n",
              "25%              3.000000                 0.0   30165.000000  \n",
              "50%              6.000000                 0.0   49413.000000  \n",
              "75%              9.000000                 0.0   71083.000000  \n",
              "max             12.000000                 0.0   99998.000000  "
            ]
          },
          "execution_count": 8,
          "metadata": {},
          "output_type": "execute_result"
        }
      ],
      "source": [
        "df.describe()"
      ]
    },
    {
      "cell_type": "markdown",
      "metadata": {
        "id": "hWXzgvR3IvvW"
      },
      "source": [
        "Отсмотрев данные,можно понять,что в столбцах 'date_crawled' , 'date_created' , 'last_seen' неверно указан тип данных - эти данные никак не влияют на стоимость автомобиля,их можно удалить.\n",
        "\n",
        "В столбце 'number_of_pictures' везде проставлены нули,так что можно этот столбец удалить. Так же для нашей модели не важны данные столбца \"postal_code\", этот столбец тоже удалим.\n",
        "\n",
        "В столбце с целевым признаком,есть нулевые значения,это явная ошибка эти данные нужно удалить.\n",
        "\n",
        "Так же,в столбце 'Power' можно заметить выбросы и нули,строки с выбросами можно удалить. Строки в которых значения л\\с меньше 40 можно удалить,так как это слишком маленькое значение для машины,не стал приводить данные,где присутствуют нули к среднему или медианному значению,так как очень большой разброс в мощности автомобилей. Здесь мы так же посмотрим на мощность автомобилей на рынке. На данный момент,машина с самым большим кол-вом л\\с - это Dagger GT компании TranStar Racing LLC.Мощность автомобиля составляет 2028 л\\с,но это машина скорее для энтузиастов,ведь на ней можно ехать всего лишь 10 минут,ведь расход топлива составляет 20л.в минуту.Поэтому не будем операться на эту машину,возьмем более реальную модель - Bugatti. Кол-во л\\с варируется от 1200 до 1500.Возьмем максимальное значение от этих чисел 1500 и удалим значения больше этого числа.\n",
        "\n",
        "Заметил,что в столбце 'Kilometer' есть много машин с пробегом в 150к,что делать с такими данными не знаю,поэтому оставим так как есть.\n"
      ]
    },
    {
      "cell_type": "code",
      "execution_count": null,
      "metadata": {
        "id": "jAIatH0WIvvW"
      },
      "outputs": [],
      "source": [
        "df = df.drop(['number_of_pictures', 'date_created', 'date_crawled', 'last_seen','postal_code'], axis=1)"
      ]
    },
    {
      "cell_type": "markdown",
      "metadata": {
        "id": "2oR9voakIvvW"
      },
      "source": [
        "Посмотрим на кол-во дубликатов в данных"
      ]
    },
    {
      "cell_type": "code",
      "execution_count": null,
      "metadata": {
        "id": "ruACK_S-IvvW",
        "outputId": "817f3393-adb4-4464-db9d-3cbfdabff4a8"
      },
      "outputs": [
        {
          "data": {
            "text/plain": [
              "27543"
            ]
          },
          "execution_count": 10,
          "metadata": {},
          "output_type": "execute_result"
        }
      ],
      "source": [
        "df.duplicated().sum()"
      ]
    },
    {
      "cell_type": "markdown",
      "metadata": {
        "id": "hf1FTNaFIvvW"
      },
      "source": [
        "Удалим эти дубликаты"
      ]
    },
    {
      "cell_type": "code",
      "execution_count": null,
      "metadata": {
        "id": "L27NZqkWIvvX"
      },
      "outputs": [],
      "source": [
        "df = df.drop_duplicates()"
      ]
    },
    {
      "cell_type": "code",
      "execution_count": null,
      "metadata": {
        "id": "hUbA0YTPIvvX"
      },
      "outputs": [],
      "source": [
        "df = df.loc[df['price'] != 0]"
      ]
    },
    {
      "cell_type": "code",
      "execution_count": null,
      "metadata": {
        "id": "kF3eEqoSIvvX"
      },
      "outputs": [],
      "source": [
        "df = df.loc[(df[['power']] < 1500).any(axis=1)]"
      ]
    },
    {
      "cell_type": "code",
      "execution_count": null,
      "metadata": {
        "id": "6tJnRQfaIvvX"
      },
      "outputs": [],
      "source": [
        "df = df.loc[(df[['power']] > 40).any(axis=1)]"
      ]
    },
    {
      "cell_type": "code",
      "execution_count": null,
      "metadata": {
        "id": "vX8I-FR_IvvX",
        "outputId": "f67eae5a-888d-49c6-8e97-5904ff107ece"
      },
      "outputs": [
        {
          "data": {
            "text/html": [
              "<div>\n",
              "<style scoped>\n",
              "    .dataframe tbody tr th:only-of-type {\n",
              "        vertical-align: middle;\n",
              "    }\n",
              "\n",
              "    .dataframe tbody tr th {\n",
              "        vertical-align: top;\n",
              "    }\n",
              "\n",
              "    .dataframe thead th {\n",
              "        text-align: right;\n",
              "    }\n",
              "</style>\n",
              "<table border=\"1\" class=\"dataframe\">\n",
              "  <thead>\n",
              "    <tr style=\"text-align: right;\">\n",
              "      <th></th>\n",
              "      <th>price</th>\n",
              "      <th>registration_year</th>\n",
              "      <th>power</th>\n",
              "      <th>kilometer</th>\n",
              "      <th>registration_month</th>\n",
              "    </tr>\n",
              "  </thead>\n",
              "  <tbody>\n",
              "    <tr>\n",
              "      <th>count</th>\n",
              "      <td>281750.000000</td>\n",
              "      <td>281750.000000</td>\n",
              "      <td>281750.000000</td>\n",
              "      <td>281750.000000</td>\n",
              "      <td>281750.000000</td>\n",
              "    </tr>\n",
              "    <tr>\n",
              "      <th>mean</th>\n",
              "      <td>4798.019507</td>\n",
              "      <td>2003.550037</td>\n",
              "      <td>121.105111</td>\n",
              "      <td>128624.223602</td>\n",
              "      <td>5.944220</td>\n",
              "    </tr>\n",
              "    <tr>\n",
              "      <th>std</th>\n",
              "      <td>4592.838452</td>\n",
              "      <td>32.311454</td>\n",
              "      <td>58.037598</td>\n",
              "      <td>36560.539254</td>\n",
              "      <td>3.604135</td>\n",
              "    </tr>\n",
              "    <tr>\n",
              "      <th>min</th>\n",
              "      <td>1.000000</td>\n",
              "      <td>1000.000000</td>\n",
              "      <td>41.000000</td>\n",
              "      <td>5000.000000</td>\n",
              "      <td>0.000000</td>\n",
              "    </tr>\n",
              "    <tr>\n",
              "      <th>25%</th>\n",
              "      <td>1300.000000</td>\n",
              "      <td>1999.000000</td>\n",
              "      <td>76.000000</td>\n",
              "      <td>125000.000000</td>\n",
              "      <td>3.000000</td>\n",
              "    </tr>\n",
              "    <tr>\n",
              "      <th>50%</th>\n",
              "      <td>3099.000000</td>\n",
              "      <td>2003.000000</td>\n",
              "      <td>110.000000</td>\n",
              "      <td>150000.000000</td>\n",
              "      <td>6.000000</td>\n",
              "    </tr>\n",
              "    <tr>\n",
              "      <th>75%</th>\n",
              "      <td>6900.000000</td>\n",
              "      <td>2008.000000</td>\n",
              "      <td>150.000000</td>\n",
              "      <td>150000.000000</td>\n",
              "      <td>9.000000</td>\n",
              "    </tr>\n",
              "    <tr>\n",
              "      <th>max</th>\n",
              "      <td>20000.000000</td>\n",
              "      <td>9999.000000</td>\n",
              "      <td>1436.000000</td>\n",
              "      <td>150000.000000</td>\n",
              "      <td>12.000000</td>\n",
              "    </tr>\n",
              "  </tbody>\n",
              "</table>\n",
              "</div>"
            ],
            "text/plain": [
              "               price  registration_year          power      kilometer  \\\n",
              "count  281750.000000      281750.000000  281750.000000  281750.000000   \n",
              "mean     4798.019507        2003.550037     121.105111  128624.223602   \n",
              "std      4592.838452          32.311454      58.037598   36560.539254   \n",
              "min         1.000000        1000.000000      41.000000    5000.000000   \n",
              "25%      1300.000000        1999.000000      76.000000  125000.000000   \n",
              "50%      3099.000000        2003.000000     110.000000  150000.000000   \n",
              "75%      6900.000000        2008.000000     150.000000  150000.000000   \n",
              "max     20000.000000        9999.000000    1436.000000  150000.000000   \n",
              "\n",
              "       registration_month  \n",
              "count       281750.000000  \n",
              "mean             5.944220  \n",
              "std              3.604135  \n",
              "min              0.000000  \n",
              "25%              3.000000  \n",
              "50%              6.000000  \n",
              "75%              9.000000  \n",
              "max             12.000000  "
            ]
          },
          "execution_count": 15,
          "metadata": {},
          "output_type": "execute_result"
        }
      ],
      "source": [
        "df.describe()"
      ]
    },
    {
      "cell_type": "code",
      "execution_count": null,
      "metadata": {
        "id": "zSC4vaZ_IvvX"
      },
      "outputs": [],
      "source": [
        "result1 = df[df['power']<100]"
      ]
    },
    {
      "cell_type": "code",
      "execution_count": null,
      "metadata": {
        "id": "JoVoMlx_IvvX"
      },
      "outputs": [],
      "source": [
        "result = df[df['power']>1000]"
      ]
    },
    {
      "cell_type": "code",
      "execution_count": null,
      "metadata": {
        "id": "lRX6ggipIvvX",
        "outputId": "7c58554c-ec4f-4353-f459-0e92da4f5219"
      },
      "outputs": [
        {
          "data": {
            "text/html": [
              "<div>\n",
              "<style scoped>\n",
              "    .dataframe tbody tr th:only-of-type {\n",
              "        vertical-align: middle;\n",
              "    }\n",
              "\n",
              "    .dataframe tbody tr th {\n",
              "        vertical-align: top;\n",
              "    }\n",
              "\n",
              "    .dataframe thead th {\n",
              "        text-align: right;\n",
              "    }\n",
              "</style>\n",
              "<table border=\"1\" class=\"dataframe\">\n",
              "  <thead>\n",
              "    <tr style=\"text-align: right;\">\n",
              "      <th></th>\n",
              "      <th>price</th>\n",
              "      <th>vehicle_type</th>\n",
              "      <th>registration_year</th>\n",
              "      <th>gearbox</th>\n",
              "      <th>power</th>\n",
              "      <th>model</th>\n",
              "      <th>kilometer</th>\n",
              "      <th>registration_month</th>\n",
              "      <th>fuel_type</th>\n",
              "      <th>brand</th>\n",
              "      <th>repaired</th>\n",
              "    </tr>\n",
              "  </thead>\n",
              "  <tbody>\n",
              "    <tr>\n",
              "      <th>3</th>\n",
              "      <td>1500</td>\n",
              "      <td>small</td>\n",
              "      <td>2001</td>\n",
              "      <td>manual</td>\n",
              "      <td>75</td>\n",
              "      <td>golf</td>\n",
              "      <td>150000</td>\n",
              "      <td>6</td>\n",
              "      <td>petrol</td>\n",
              "      <td>volkswagen</td>\n",
              "      <td>no</td>\n",
              "    </tr>\n",
              "    <tr>\n",
              "      <th>4</th>\n",
              "      <td>3600</td>\n",
              "      <td>small</td>\n",
              "      <td>2008</td>\n",
              "      <td>manual</td>\n",
              "      <td>69</td>\n",
              "      <td>fabia</td>\n",
              "      <td>90000</td>\n",
              "      <td>7</td>\n",
              "      <td>gasoline</td>\n",
              "      <td>skoda</td>\n",
              "      <td>no</td>\n",
              "    </tr>\n",
              "    <tr>\n",
              "      <th>16</th>\n",
              "      <td>300</td>\n",
              "      <td>NaN</td>\n",
              "      <td>2016</td>\n",
              "      <td>NaN</td>\n",
              "      <td>60</td>\n",
              "      <td>polo</td>\n",
              "      <td>150000</td>\n",
              "      <td>0</td>\n",
              "      <td>petrol</td>\n",
              "      <td>volkswagen</td>\n",
              "      <td>NaN</td>\n",
              "    </tr>\n",
              "    <tr>\n",
              "      <th>17</th>\n",
              "      <td>1750</td>\n",
              "      <td>small</td>\n",
              "      <td>2004</td>\n",
              "      <td>auto</td>\n",
              "      <td>75</td>\n",
              "      <td>twingo</td>\n",
              "      <td>150000</td>\n",
              "      <td>2</td>\n",
              "      <td>petrol</td>\n",
              "      <td>renault</td>\n",
              "      <td>no</td>\n",
              "    </tr>\n",
              "    <tr>\n",
              "      <th>22</th>\n",
              "      <td>2900</td>\n",
              "      <td>NaN</td>\n",
              "      <td>2018</td>\n",
              "      <td>manual</td>\n",
              "      <td>90</td>\n",
              "      <td>meriva</td>\n",
              "      <td>150000</td>\n",
              "      <td>5</td>\n",
              "      <td>petrol</td>\n",
              "      <td>opel</td>\n",
              "      <td>no</td>\n",
              "    </tr>\n",
              "    <tr>\n",
              "      <th>...</th>\n",
              "      <td>...</td>\n",
              "      <td>...</td>\n",
              "      <td>...</td>\n",
              "      <td>...</td>\n",
              "      <td>...</td>\n",
              "      <td>...</td>\n",
              "      <td>...</td>\n",
              "      <td>...</td>\n",
              "      <td>...</td>\n",
              "      <td>...</td>\n",
              "      <td>...</td>\n",
              "    </tr>\n",
              "    <tr>\n",
              "      <th>354342</th>\n",
              "      <td>600</td>\n",
              "      <td>small</td>\n",
              "      <td>1998</td>\n",
              "      <td>manual</td>\n",
              "      <td>54</td>\n",
              "      <td>corsa</td>\n",
              "      <td>150000</td>\n",
              "      <td>1</td>\n",
              "      <td>petrol</td>\n",
              "      <td>opel</td>\n",
              "      <td>no</td>\n",
              "    </tr>\n",
              "    <tr>\n",
              "      <th>354345</th>\n",
              "      <td>1700</td>\n",
              "      <td>small</td>\n",
              "      <td>1999</td>\n",
              "      <td>manual</td>\n",
              "      <td>68</td>\n",
              "      <td>justy</td>\n",
              "      <td>70000</td>\n",
              "      <td>11</td>\n",
              "      <td>petrol</td>\n",
              "      <td>subaru</td>\n",
              "      <td>no</td>\n",
              "    </tr>\n",
              "    <tr>\n",
              "      <th>354356</th>\n",
              "      <td>999</td>\n",
              "      <td>convertible</td>\n",
              "      <td>2000</td>\n",
              "      <td>manual</td>\n",
              "      <td>95</td>\n",
              "      <td>megane</td>\n",
              "      <td>150000</td>\n",
              "      <td>4</td>\n",
              "      <td>petrol</td>\n",
              "      <td>renault</td>\n",
              "      <td>NaN</td>\n",
              "    </tr>\n",
              "    <tr>\n",
              "      <th>354357</th>\n",
              "      <td>1690</td>\n",
              "      <td>wagon</td>\n",
              "      <td>2004</td>\n",
              "      <td>manual</td>\n",
              "      <td>55</td>\n",
              "      <td>fabia</td>\n",
              "      <td>150000</td>\n",
              "      <td>4</td>\n",
              "      <td>petrol</td>\n",
              "      <td>skoda</td>\n",
              "      <td>NaN</td>\n",
              "    </tr>\n",
              "    <tr>\n",
              "      <th>354358</th>\n",
              "      <td>1490</td>\n",
              "      <td>small</td>\n",
              "      <td>1998</td>\n",
              "      <td>manual</td>\n",
              "      <td>50</td>\n",
              "      <td>lupo</td>\n",
              "      <td>150000</td>\n",
              "      <td>9</td>\n",
              "      <td>petrol</td>\n",
              "      <td>volkswagen</td>\n",
              "      <td>no</td>\n",
              "    </tr>\n",
              "  </tbody>\n",
              "</table>\n",
              "<p>101397 rows × 11 columns</p>\n",
              "</div>"
            ],
            "text/plain": [
              "        price vehicle_type  registration_year gearbox  power   model  \\\n",
              "3        1500        small               2001  manual     75    golf   \n",
              "4        3600        small               2008  manual     69   fabia   \n",
              "16        300          NaN               2016     NaN     60    polo   \n",
              "17       1750        small               2004    auto     75  twingo   \n",
              "22       2900          NaN               2018  manual     90  meriva   \n",
              "...       ...          ...                ...     ...    ...     ...   \n",
              "354342    600        small               1998  manual     54   corsa   \n",
              "354345   1700        small               1999  manual     68   justy   \n",
              "354356    999  convertible               2000  manual     95  megane   \n",
              "354357   1690        wagon               2004  manual     55   fabia   \n",
              "354358   1490        small               1998  manual     50    lupo   \n",
              "\n",
              "        kilometer  registration_month fuel_type       brand repaired  \n",
              "3          150000                   6    petrol  volkswagen       no  \n",
              "4           90000                   7  gasoline       skoda       no  \n",
              "16         150000                   0    petrol  volkswagen      NaN  \n",
              "17         150000                   2    petrol     renault       no  \n",
              "22         150000                   5    petrol        opel       no  \n",
              "...           ...                 ...       ...         ...      ...  \n",
              "354342     150000                   1    petrol        opel       no  \n",
              "354345      70000                  11    petrol      subaru       no  \n",
              "354356     150000                   4    petrol     renault      NaN  \n",
              "354357     150000                   4    petrol       skoda      NaN  \n",
              "354358     150000                   9    petrol  volkswagen       no  \n",
              "\n",
              "[101397 rows x 11 columns]"
            ]
          },
          "execution_count": 18,
          "metadata": {},
          "output_type": "execute_result"
        }
      ],
      "source": [
        "result1"
      ]
    },
    {
      "cell_type": "code",
      "execution_count": null,
      "metadata": {
        "id": "RbP3AkdGIvvX",
        "outputId": "a11987ae-fc1e-4189-d736-7f10fb509e13"
      },
      "outputs": [
        {
          "data": {
            "text/html": [
              "<div>\n",
              "<style scoped>\n",
              "    .dataframe tbody tr th:only-of-type {\n",
              "        vertical-align: middle;\n",
              "    }\n",
              "\n",
              "    .dataframe tbody tr th {\n",
              "        vertical-align: top;\n",
              "    }\n",
              "\n",
              "    .dataframe thead th {\n",
              "        text-align: right;\n",
              "    }\n",
              "</style>\n",
              "<table border=\"1\" class=\"dataframe\">\n",
              "  <thead>\n",
              "    <tr style=\"text-align: right;\">\n",
              "      <th></th>\n",
              "      <th>price</th>\n",
              "      <th>vehicle_type</th>\n",
              "      <th>registration_year</th>\n",
              "      <th>gearbox</th>\n",
              "      <th>power</th>\n",
              "      <th>model</th>\n",
              "      <th>kilometer</th>\n",
              "      <th>registration_month</th>\n",
              "      <th>fuel_type</th>\n",
              "      <th>brand</th>\n",
              "      <th>repaired</th>\n",
              "    </tr>\n",
              "  </thead>\n",
              "  <tbody>\n",
              "    <tr>\n",
              "      <th>1816</th>\n",
              "      <td>3200</td>\n",
              "      <td>small</td>\n",
              "      <td>2004</td>\n",
              "      <td>manual</td>\n",
              "      <td>1398</td>\n",
              "      <td>corolla</td>\n",
              "      <td>5000</td>\n",
              "      <td>6</td>\n",
              "      <td>petrol</td>\n",
              "      <td>toyota</td>\n",
              "      <td>no</td>\n",
              "    </tr>\n",
              "    <tr>\n",
              "      <th>5328</th>\n",
              "      <td>500</td>\n",
              "      <td>wagon</td>\n",
              "      <td>1999</td>\n",
              "      <td>manual</td>\n",
              "      <td>1001</td>\n",
              "      <td>astra</td>\n",
              "      <td>150000</td>\n",
              "      <td>7</td>\n",
              "      <td>petrol</td>\n",
              "      <td>opel</td>\n",
              "      <td>NaN</td>\n",
              "    </tr>\n",
              "    <tr>\n",
              "      <th>7720</th>\n",
              "      <td>1500</td>\n",
              "      <td>small</td>\n",
              "      <td>2000</td>\n",
              "      <td>manual</td>\n",
              "      <td>1400</td>\n",
              "      <td>NaN</td>\n",
              "      <td>150000</td>\n",
              "      <td>0</td>\n",
              "      <td>petrol</td>\n",
              "      <td>honda</td>\n",
              "      <td>NaN</td>\n",
              "    </tr>\n",
              "    <tr>\n",
              "      <th>19826</th>\n",
              "      <td>3390</td>\n",
              "      <td>sedan</td>\n",
              "      <td>2009</td>\n",
              "      <td>manual</td>\n",
              "      <td>1240</td>\n",
              "      <td>micra</td>\n",
              "      <td>60000</td>\n",
              "      <td>3</td>\n",
              "      <td>petrol</td>\n",
              "      <td>nissan</td>\n",
              "      <td>no</td>\n",
              "    </tr>\n",
              "    <tr>\n",
              "      <th>21609</th>\n",
              "      <td>200</td>\n",
              "      <td>small</td>\n",
              "      <td>2000</td>\n",
              "      <td>manual</td>\n",
              "      <td>1200</td>\n",
              "      <td>NaN</td>\n",
              "      <td>125000</td>\n",
              "      <td>4</td>\n",
              "      <td>petrol</td>\n",
              "      <td>lancia</td>\n",
              "      <td>NaN</td>\n",
              "    </tr>\n",
              "    <tr>\n",
              "      <th>...</th>\n",
              "      <td>...</td>\n",
              "      <td>...</td>\n",
              "      <td>...</td>\n",
              "      <td>...</td>\n",
              "      <td>...</td>\n",
              "      <td>...</td>\n",
              "      <td>...</td>\n",
              "      <td>...</td>\n",
              "      <td>...</td>\n",
              "      <td>...</td>\n",
              "      <td>...</td>\n",
              "    </tr>\n",
              "    <tr>\n",
              "      <th>342305</th>\n",
              "      <td>2350</td>\n",
              "      <td>bus</td>\n",
              "      <td>2002</td>\n",
              "      <td>manual</td>\n",
              "      <td>1250</td>\n",
              "      <td>galaxy</td>\n",
              "      <td>150000</td>\n",
              "      <td>0</td>\n",
              "      <td>gasoline</td>\n",
              "      <td>ford</td>\n",
              "      <td>NaN</td>\n",
              "    </tr>\n",
              "    <tr>\n",
              "      <th>345756</th>\n",
              "      <td>850</td>\n",
              "      <td>NaN</td>\n",
              "      <td>2005</td>\n",
              "      <td>manual</td>\n",
              "      <td>1003</td>\n",
              "      <td>ka</td>\n",
              "      <td>5000</td>\n",
              "      <td>12</td>\n",
              "      <td>petrol</td>\n",
              "      <td>ford</td>\n",
              "      <td>no</td>\n",
              "    </tr>\n",
              "    <tr>\n",
              "      <th>347016</th>\n",
              "      <td>450</td>\n",
              "      <td>sedan</td>\n",
              "      <td>1996</td>\n",
              "      <td>auto</td>\n",
              "      <td>1004</td>\n",
              "      <td>vectra</td>\n",
              "      <td>80000</td>\n",
              "      <td>5</td>\n",
              "      <td>petrol</td>\n",
              "      <td>opel</td>\n",
              "      <td>yes</td>\n",
              "    </tr>\n",
              "    <tr>\n",
              "      <th>348968</th>\n",
              "      <td>250</td>\n",
              "      <td>small</td>\n",
              "      <td>1999</td>\n",
              "      <td>manual</td>\n",
              "      <td>1241</td>\n",
              "      <td>ypsilon</td>\n",
              "      <td>150000</td>\n",
              "      <td>5</td>\n",
              "      <td>petrol</td>\n",
              "      <td>lancia</td>\n",
              "      <td>yes</td>\n",
              "    </tr>\n",
              "    <tr>\n",
              "      <th>351947</th>\n",
              "      <td>1500</td>\n",
              "      <td>bus</td>\n",
              "      <td>2001</td>\n",
              "      <td>manual</td>\n",
              "      <td>1001</td>\n",
              "      <td>zafira</td>\n",
              "      <td>5000</td>\n",
              "      <td>7</td>\n",
              "      <td>gasoline</td>\n",
              "      <td>opel</td>\n",
              "      <td>no</td>\n",
              "    </tr>\n",
              "  </tbody>\n",
              "</table>\n",
              "<p>90 rows × 11 columns</p>\n",
              "</div>"
            ],
            "text/plain": [
              "        price vehicle_type  registration_year gearbox  power    model  \\\n",
              "1816     3200        small               2004  manual   1398  corolla   \n",
              "5328      500        wagon               1999  manual   1001    astra   \n",
              "7720     1500        small               2000  manual   1400      NaN   \n",
              "19826    3390        sedan               2009  manual   1240    micra   \n",
              "21609     200        small               2000  manual   1200      NaN   \n",
              "...       ...          ...                ...     ...    ...      ...   \n",
              "342305   2350          bus               2002  manual   1250   galaxy   \n",
              "345756    850          NaN               2005  manual   1003       ka   \n",
              "347016    450        sedan               1996    auto   1004   vectra   \n",
              "348968    250        small               1999  manual   1241  ypsilon   \n",
              "351947   1500          bus               2001  manual   1001   zafira   \n",
              "\n",
              "        kilometer  registration_month fuel_type   brand repaired  \n",
              "1816         5000                   6    petrol  toyota       no  \n",
              "5328       150000                   7    petrol    opel      NaN  \n",
              "7720       150000                   0    petrol   honda      NaN  \n",
              "19826       60000                   3    petrol  nissan       no  \n",
              "21609      125000                   4    petrol  lancia      NaN  \n",
              "...           ...                 ...       ...     ...      ...  \n",
              "342305     150000                   0  gasoline    ford      NaN  \n",
              "345756       5000                  12    petrol    ford       no  \n",
              "347016      80000                   5    petrol    opel      yes  \n",
              "348968     150000                   5    petrol  lancia      yes  \n",
              "351947       5000                   7  gasoline    opel       no  \n",
              "\n",
              "[90 rows x 11 columns]"
            ]
          },
          "execution_count": 19,
          "metadata": {},
          "output_type": "execute_result"
        }
      ],
      "source": [
        "result"
      ]
    },
    {
      "cell_type": "markdown",
      "metadata": {
        "id": "mb3dHeJ8IvvX"
      },
      "source": [
        "Даже после удаления строк можно заметить что в данных много ошибок,взять например машину nissan micra sedan. Кол-во л\\с реального автомобиля варируется от 50 до 117 л\\с,в таблице же указаны 1240.Будь эти данные реальны,я бы попросил всё досканально проверить,но имеем,что имеем,поэтому будем продолжать строить модели для предсказания стоимости автомобиля."
      ]
    },
    {
      "cell_type": "code",
      "execution_count": null,
      "metadata": {
        "id": "pUwYcWgdIvvX",
        "outputId": "07c12a0e-5924-40ca-b761-f6ac87da694b"
      },
      "outputs": [
        {
          "data": {
            "text/html": [
              "<div>\n",
              "<style scoped>\n",
              "    .dataframe tbody tr th:only-of-type {\n",
              "        vertical-align: middle;\n",
              "    }\n",
              "\n",
              "    .dataframe tbody tr th {\n",
              "        vertical-align: top;\n",
              "    }\n",
              "\n",
              "    .dataframe thead th {\n",
              "        text-align: right;\n",
              "    }\n",
              "</style>\n",
              "<table border=\"1\" class=\"dataframe\">\n",
              "  <thead>\n",
              "    <tr style=\"text-align: right;\">\n",
              "      <th></th>\n",
              "      <th>price</th>\n",
              "      <th>vehicle_type</th>\n",
              "      <th>registration_year</th>\n",
              "      <th>gearbox</th>\n",
              "      <th>power</th>\n",
              "      <th>model</th>\n",
              "      <th>kilometer</th>\n",
              "      <th>registration_month</th>\n",
              "      <th>fuel_type</th>\n",
              "      <th>brand</th>\n",
              "      <th>repaired</th>\n",
              "    </tr>\n",
              "  </thead>\n",
              "  <tbody>\n",
              "    <tr>\n",
              "      <th>1</th>\n",
              "      <td>18300</td>\n",
              "      <td>coupe</td>\n",
              "      <td>2011</td>\n",
              "      <td>manual</td>\n",
              "      <td>190</td>\n",
              "      <td>NaN</td>\n",
              "      <td>125000</td>\n",
              "      <td>5</td>\n",
              "      <td>gasoline</td>\n",
              "      <td>audi</td>\n",
              "      <td>yes</td>\n",
              "    </tr>\n",
              "    <tr>\n",
              "      <th>2</th>\n",
              "      <td>9800</td>\n",
              "      <td>suv</td>\n",
              "      <td>2004</td>\n",
              "      <td>auto</td>\n",
              "      <td>163</td>\n",
              "      <td>grand</td>\n",
              "      <td>125000</td>\n",
              "      <td>8</td>\n",
              "      <td>gasoline</td>\n",
              "      <td>jeep</td>\n",
              "      <td>NaN</td>\n",
              "    </tr>\n",
              "    <tr>\n",
              "      <th>3</th>\n",
              "      <td>1500</td>\n",
              "      <td>small</td>\n",
              "      <td>2001</td>\n",
              "      <td>manual</td>\n",
              "      <td>75</td>\n",
              "      <td>golf</td>\n",
              "      <td>150000</td>\n",
              "      <td>6</td>\n",
              "      <td>petrol</td>\n",
              "      <td>volkswagen</td>\n",
              "      <td>no</td>\n",
              "    </tr>\n",
              "    <tr>\n",
              "      <th>4</th>\n",
              "      <td>3600</td>\n",
              "      <td>small</td>\n",
              "      <td>2008</td>\n",
              "      <td>manual</td>\n",
              "      <td>69</td>\n",
              "      <td>fabia</td>\n",
              "      <td>90000</td>\n",
              "      <td>7</td>\n",
              "      <td>gasoline</td>\n",
              "      <td>skoda</td>\n",
              "      <td>no</td>\n",
              "    </tr>\n",
              "    <tr>\n",
              "      <th>5</th>\n",
              "      <td>650</td>\n",
              "      <td>sedan</td>\n",
              "      <td>1995</td>\n",
              "      <td>manual</td>\n",
              "      <td>102</td>\n",
              "      <td>3er</td>\n",
              "      <td>150000</td>\n",
              "      <td>10</td>\n",
              "      <td>petrol</td>\n",
              "      <td>bmw</td>\n",
              "      <td>yes</td>\n",
              "    </tr>\n",
              "    <tr>\n",
              "      <th>...</th>\n",
              "      <td>...</td>\n",
              "      <td>...</td>\n",
              "      <td>...</td>\n",
              "      <td>...</td>\n",
              "      <td>...</td>\n",
              "      <td>...</td>\n",
              "      <td>...</td>\n",
              "      <td>...</td>\n",
              "      <td>...</td>\n",
              "      <td>...</td>\n",
              "      <td>...</td>\n",
              "    </tr>\n",
              "    <tr>\n",
              "      <th>354361</th>\n",
              "      <td>5250</td>\n",
              "      <td>NaN</td>\n",
              "      <td>2016</td>\n",
              "      <td>auto</td>\n",
              "      <td>150</td>\n",
              "      <td>159</td>\n",
              "      <td>150000</td>\n",
              "      <td>12</td>\n",
              "      <td>NaN</td>\n",
              "      <td>alfa_romeo</td>\n",
              "      <td>no</td>\n",
              "    </tr>\n",
              "    <tr>\n",
              "      <th>354362</th>\n",
              "      <td>3200</td>\n",
              "      <td>sedan</td>\n",
              "      <td>2004</td>\n",
              "      <td>manual</td>\n",
              "      <td>225</td>\n",
              "      <td>leon</td>\n",
              "      <td>150000</td>\n",
              "      <td>5</td>\n",
              "      <td>petrol</td>\n",
              "      <td>seat</td>\n",
              "      <td>yes</td>\n",
              "    </tr>\n",
              "    <tr>\n",
              "      <th>354366</th>\n",
              "      <td>1199</td>\n",
              "      <td>convertible</td>\n",
              "      <td>2000</td>\n",
              "      <td>auto</td>\n",
              "      <td>101</td>\n",
              "      <td>fortwo</td>\n",
              "      <td>125000</td>\n",
              "      <td>3</td>\n",
              "      <td>petrol</td>\n",
              "      <td>smart</td>\n",
              "      <td>no</td>\n",
              "    </tr>\n",
              "    <tr>\n",
              "      <th>354367</th>\n",
              "      <td>9200</td>\n",
              "      <td>bus</td>\n",
              "      <td>1996</td>\n",
              "      <td>manual</td>\n",
              "      <td>102</td>\n",
              "      <td>transporter</td>\n",
              "      <td>150000</td>\n",
              "      <td>3</td>\n",
              "      <td>gasoline</td>\n",
              "      <td>volkswagen</td>\n",
              "      <td>no</td>\n",
              "    </tr>\n",
              "    <tr>\n",
              "      <th>354368</th>\n",
              "      <td>3400</td>\n",
              "      <td>wagon</td>\n",
              "      <td>2002</td>\n",
              "      <td>manual</td>\n",
              "      <td>100</td>\n",
              "      <td>golf</td>\n",
              "      <td>150000</td>\n",
              "      <td>6</td>\n",
              "      <td>gasoline</td>\n",
              "      <td>volkswagen</td>\n",
              "      <td>NaN</td>\n",
              "    </tr>\n",
              "  </tbody>\n",
              "</table>\n",
              "<p>281750 rows × 11 columns</p>\n",
              "</div>"
            ],
            "text/plain": [
              "        price vehicle_type  registration_year gearbox  power        model  \\\n",
              "1       18300        coupe               2011  manual    190          NaN   \n",
              "2        9800          suv               2004    auto    163        grand   \n",
              "3        1500        small               2001  manual     75         golf   \n",
              "4        3600        small               2008  manual     69        fabia   \n",
              "5         650        sedan               1995  manual    102          3er   \n",
              "...       ...          ...                ...     ...    ...          ...   \n",
              "354361   5250          NaN               2016    auto    150          159   \n",
              "354362   3200        sedan               2004  manual    225         leon   \n",
              "354366   1199  convertible               2000    auto    101       fortwo   \n",
              "354367   9200          bus               1996  manual    102  transporter   \n",
              "354368   3400        wagon               2002  manual    100         golf   \n",
              "\n",
              "        kilometer  registration_month fuel_type       brand repaired  \n",
              "1          125000                   5  gasoline        audi      yes  \n",
              "2          125000                   8  gasoline        jeep      NaN  \n",
              "3          150000                   6    petrol  volkswagen       no  \n",
              "4           90000                   7  gasoline       skoda       no  \n",
              "5          150000                  10    petrol         bmw      yes  \n",
              "...           ...                 ...       ...         ...      ...  \n",
              "354361     150000                  12       NaN  alfa_romeo       no  \n",
              "354362     150000                   5    petrol        seat      yes  \n",
              "354366     125000                   3    petrol       smart       no  \n",
              "354367     150000                   3  gasoline  volkswagen       no  \n",
              "354368     150000                   6  gasoline  volkswagen      NaN  \n",
              "\n",
              "[281750 rows x 11 columns]"
            ]
          },
          "execution_count": 20,
          "metadata": {},
          "output_type": "execute_result"
        }
      ],
      "source": [
        "df"
      ]
    },
    {
      "cell_type": "markdown",
      "metadata": {
        "id": "pws_852dIvvX"
      },
      "source": [
        "Так же посмотрим на количество пропусков в столбце с моделью машины"
      ]
    },
    {
      "cell_type": "code",
      "execution_count": null,
      "metadata": {
        "id": "yOqcxff6IvvY",
        "outputId": "2cb53e56-9cb3-4b70-a1a8-f4d325b33ea3"
      },
      "outputs": [
        {
          "data": {
            "text/plain": [
              "'Количество объявлений с незаполненной моделью: 11690'"
            ]
          },
          "execution_count": 21,
          "metadata": {},
          "output_type": "execute_result"
        }
      ],
      "source": [
        "f\"Количество объявлений с незаполненной моделью: {len(df.loc[df['model'].isna()])}\""
      ]
    },
    {
      "cell_type": "markdown",
      "metadata": {
        "id": "wfmsLJd4IvvY"
      },
      "source": [
        "Заполнить эти пропуски корректно не получится,а это один из основных  признаков стоимости автомобиля,чтобы модель нормально работала удалим эти пропуски"
      ]
    },
    {
      "cell_type": "code",
      "execution_count": null,
      "metadata": {
        "id": "o4Z4-GHZIvvY"
      },
      "outputs": [],
      "source": [
        "df = df.loc[~df['model'].isna()]"
      ]
    },
    {
      "cell_type": "markdown",
      "metadata": {
        "id": "BSAcl_sCIvvY"
      },
      "source": [
        "в столбце repaired так же есть пропуски,их заполним заглушкой unknown"
      ]
    },
    {
      "cell_type": "code",
      "execution_count": null,
      "metadata": {
        "id": "cS67VI2UIvvY",
        "outputId": "709995bd-5a3a-4ada-ce97-f793e2341558"
      },
      "outputs": [
        {
          "name": "stderr",
          "output_type": "stream",
          "text": [
            "/tmp/ipykernel_119/3541733968.py:1: SettingWithCopyWarning: \n",
            "A value is trying to be set on a copy of a slice from a DataFrame.\n",
            "Try using .loc[row_indexer,col_indexer] = value instead\n",
            "\n",
            "See the caveats in the documentation: https://pandas.pydata.org/pandas-docs/stable/user_guide/indexing.html#returning-a-view-versus-a-copy\n",
            "  df['repaired'] = df['repaired'].fillna('unknown')\n"
          ]
        }
      ],
      "source": [
        "df['repaired'] = df['repaired'].fillna('unknown')"
      ]
    },
    {
      "cell_type": "markdown",
      "metadata": {
        "id": "OAgFXZXGIvvY"
      },
      "source": [
        "В столбце с годом регистрации автомобиля так же есть ошибки, чтобы модель лучше работала нужно удалить данные,где год регистрации больше чем 2023."
      ]
    },
    {
      "cell_type": "code",
      "execution_count": null,
      "metadata": {
        "id": "PcoJXzYcIvvY"
      },
      "outputs": [],
      "source": [
        "df = df.loc[df['registration_year'] <= 2023]"
      ]
    },
    {
      "cell_type": "markdown",
      "metadata": {
        "id": "RoaQm1voIvvY"
      },
      "source": [
        "Такие параметры как VehicleType, Gearbox, FuelType c большой вероятностью одинаковы в одинаковых моделях автомобилей. Заполним пропуски в данных признаках наиболее частым значением той же модели."
      ]
    },
    {
      "cell_type": "code",
      "execution_count": null,
      "metadata": {
        "id": "mZAE8h5mIvva"
      },
      "outputs": [],
      "source": [
        "df['vehicle_type'] = df['vehicle_type'].fillna(df\n",
        "                                                  .groupby('model')['vehicle_type']\n",
        "                                                  .transform(lambda x: x.value_counts().idxmax())\n",
        "                                                 )"
      ]
    },
    {
      "cell_type": "code",
      "execution_count": null,
      "metadata": {
        "id": "bIbQlGlvIvva"
      },
      "outputs": [],
      "source": [
        "df['gearbox'] = df['gearbox'].fillna(df\n",
        "                                         .groupby('model')['vehicle_type']\n",
        "                                         .transform(lambda x: x.value_counts().idxmax())\n",
        "                                        )"
      ]
    },
    {
      "cell_type": "code",
      "execution_count": null,
      "metadata": {
        "id": "UC__Py2jIvva"
      },
      "outputs": [],
      "source": [
        "df['fuel_type'] = df['fuel_type'].fillna(df\n",
        "                                           .groupby('model')['vehicle_type']\n",
        "                                           .transform(lambda x: x.value_counts().idxmax())\n",
        "                                          )"
      ]
    },
    {
      "cell_type": "markdown",
      "metadata": {
        "id": "E8-jUACBIvvb"
      },
      "source": [
        "Посмотрим на данные после преобразования"
      ]
    },
    {
      "cell_type": "code",
      "execution_count": null,
      "metadata": {
        "id": "yo4AJ4irIvvb",
        "outputId": "ead65318-da84-4c3f-bdb1-3fc33d4ba795"
      },
      "outputs": [
        {
          "data": {
            "text/html": [
              "<div>\n",
              "<style scoped>\n",
              "    .dataframe tbody tr th:only-of-type {\n",
              "        vertical-align: middle;\n",
              "    }\n",
              "\n",
              "    .dataframe tbody tr th {\n",
              "        vertical-align: top;\n",
              "    }\n",
              "\n",
              "    .dataframe thead th {\n",
              "        text-align: right;\n",
              "    }\n",
              "</style>\n",
              "<table border=\"1\" class=\"dataframe\">\n",
              "  <thead>\n",
              "    <tr style=\"text-align: right;\">\n",
              "      <th></th>\n",
              "      <th>price</th>\n",
              "      <th>vehicle_type</th>\n",
              "      <th>registration_year</th>\n",
              "      <th>gearbox</th>\n",
              "      <th>power</th>\n",
              "      <th>model</th>\n",
              "      <th>kilometer</th>\n",
              "      <th>registration_month</th>\n",
              "      <th>fuel_type</th>\n",
              "      <th>brand</th>\n",
              "      <th>repaired</th>\n",
              "    </tr>\n",
              "  </thead>\n",
              "  <tbody>\n",
              "    <tr>\n",
              "      <th>2</th>\n",
              "      <td>9800</td>\n",
              "      <td>suv</td>\n",
              "      <td>2004</td>\n",
              "      <td>auto</td>\n",
              "      <td>163</td>\n",
              "      <td>grand</td>\n",
              "      <td>125000</td>\n",
              "      <td>8</td>\n",
              "      <td>gasoline</td>\n",
              "      <td>jeep</td>\n",
              "      <td>unknown</td>\n",
              "    </tr>\n",
              "    <tr>\n",
              "      <th>3</th>\n",
              "      <td>1500</td>\n",
              "      <td>small</td>\n",
              "      <td>2001</td>\n",
              "      <td>manual</td>\n",
              "      <td>75</td>\n",
              "      <td>golf</td>\n",
              "      <td>150000</td>\n",
              "      <td>6</td>\n",
              "      <td>petrol</td>\n",
              "      <td>volkswagen</td>\n",
              "      <td>no</td>\n",
              "    </tr>\n",
              "    <tr>\n",
              "      <th>4</th>\n",
              "      <td>3600</td>\n",
              "      <td>small</td>\n",
              "      <td>2008</td>\n",
              "      <td>manual</td>\n",
              "      <td>69</td>\n",
              "      <td>fabia</td>\n",
              "      <td>90000</td>\n",
              "      <td>7</td>\n",
              "      <td>gasoline</td>\n",
              "      <td>skoda</td>\n",
              "      <td>no</td>\n",
              "    </tr>\n",
              "    <tr>\n",
              "      <th>5</th>\n",
              "      <td>650</td>\n",
              "      <td>sedan</td>\n",
              "      <td>1995</td>\n",
              "      <td>manual</td>\n",
              "      <td>102</td>\n",
              "      <td>3er</td>\n",
              "      <td>150000</td>\n",
              "      <td>10</td>\n",
              "      <td>petrol</td>\n",
              "      <td>bmw</td>\n",
              "      <td>yes</td>\n",
              "    </tr>\n",
              "    <tr>\n",
              "      <th>6</th>\n",
              "      <td>2200</td>\n",
              "      <td>convertible</td>\n",
              "      <td>2004</td>\n",
              "      <td>manual</td>\n",
              "      <td>109</td>\n",
              "      <td>2_reihe</td>\n",
              "      <td>150000</td>\n",
              "      <td>8</td>\n",
              "      <td>petrol</td>\n",
              "      <td>peugeot</td>\n",
              "      <td>no</td>\n",
              "    </tr>\n",
              "    <tr>\n",
              "      <th>...</th>\n",
              "      <td>...</td>\n",
              "      <td>...</td>\n",
              "      <td>...</td>\n",
              "      <td>...</td>\n",
              "      <td>...</td>\n",
              "      <td>...</td>\n",
              "      <td>...</td>\n",
              "      <td>...</td>\n",
              "      <td>...</td>\n",
              "      <td>...</td>\n",
              "      <td>...</td>\n",
              "    </tr>\n",
              "    <tr>\n",
              "      <th>354361</th>\n",
              "      <td>5250</td>\n",
              "      <td>wagon</td>\n",
              "      <td>2016</td>\n",
              "      <td>auto</td>\n",
              "      <td>150</td>\n",
              "      <td>159</td>\n",
              "      <td>150000</td>\n",
              "      <td>12</td>\n",
              "      <td>wagon</td>\n",
              "      <td>alfa_romeo</td>\n",
              "      <td>no</td>\n",
              "    </tr>\n",
              "    <tr>\n",
              "      <th>354362</th>\n",
              "      <td>3200</td>\n",
              "      <td>sedan</td>\n",
              "      <td>2004</td>\n",
              "      <td>manual</td>\n",
              "      <td>225</td>\n",
              "      <td>leon</td>\n",
              "      <td>150000</td>\n",
              "      <td>5</td>\n",
              "      <td>petrol</td>\n",
              "      <td>seat</td>\n",
              "      <td>yes</td>\n",
              "    </tr>\n",
              "    <tr>\n",
              "      <th>354366</th>\n",
              "      <td>1199</td>\n",
              "      <td>convertible</td>\n",
              "      <td>2000</td>\n",
              "      <td>auto</td>\n",
              "      <td>101</td>\n",
              "      <td>fortwo</td>\n",
              "      <td>125000</td>\n",
              "      <td>3</td>\n",
              "      <td>petrol</td>\n",
              "      <td>smart</td>\n",
              "      <td>no</td>\n",
              "    </tr>\n",
              "    <tr>\n",
              "      <th>354367</th>\n",
              "      <td>9200</td>\n",
              "      <td>bus</td>\n",
              "      <td>1996</td>\n",
              "      <td>manual</td>\n",
              "      <td>102</td>\n",
              "      <td>transporter</td>\n",
              "      <td>150000</td>\n",
              "      <td>3</td>\n",
              "      <td>gasoline</td>\n",
              "      <td>volkswagen</td>\n",
              "      <td>no</td>\n",
              "    </tr>\n",
              "    <tr>\n",
              "      <th>354368</th>\n",
              "      <td>3400</td>\n",
              "      <td>wagon</td>\n",
              "      <td>2002</td>\n",
              "      <td>manual</td>\n",
              "      <td>100</td>\n",
              "      <td>golf</td>\n",
              "      <td>150000</td>\n",
              "      <td>6</td>\n",
              "      <td>gasoline</td>\n",
              "      <td>volkswagen</td>\n",
              "      <td>unknown</td>\n",
              "    </tr>\n",
              "  </tbody>\n",
              "</table>\n",
              "<p>270048 rows × 11 columns</p>\n",
              "</div>"
            ],
            "text/plain": [
              "        price vehicle_type  registration_year gearbox  power        model  \\\n",
              "2        9800          suv               2004    auto    163        grand   \n",
              "3        1500        small               2001  manual     75         golf   \n",
              "4        3600        small               2008  manual     69        fabia   \n",
              "5         650        sedan               1995  manual    102          3er   \n",
              "6        2200  convertible               2004  manual    109      2_reihe   \n",
              "...       ...          ...                ...     ...    ...          ...   \n",
              "354361   5250        wagon               2016    auto    150          159   \n",
              "354362   3200        sedan               2004  manual    225         leon   \n",
              "354366   1199  convertible               2000    auto    101       fortwo   \n",
              "354367   9200          bus               1996  manual    102  transporter   \n",
              "354368   3400        wagon               2002  manual    100         golf   \n",
              "\n",
              "        kilometer  registration_month fuel_type       brand repaired  \n",
              "2          125000                   8  gasoline        jeep  unknown  \n",
              "3          150000                   6    petrol  volkswagen       no  \n",
              "4           90000                   7  gasoline       skoda       no  \n",
              "5          150000                  10    petrol         bmw      yes  \n",
              "6          150000                   8    petrol     peugeot       no  \n",
              "...           ...                 ...       ...         ...      ...  \n",
              "354361     150000                  12     wagon  alfa_romeo       no  \n",
              "354362     150000                   5    petrol        seat      yes  \n",
              "354366     125000                   3    petrol       smart       no  \n",
              "354367     150000                   3  gasoline  volkswagen       no  \n",
              "354368     150000                   6  gasoline  volkswagen  unknown  \n",
              "\n",
              "[270048 rows x 11 columns]"
            ]
          },
          "execution_count": 28,
          "metadata": {},
          "output_type": "execute_result"
        }
      ],
      "source": [
        "df"
      ]
    },
    {
      "cell_type": "code",
      "execution_count": null,
      "metadata": {
        "id": "qj1jTHqnIvvb"
      },
      "outputs": [],
      "source": [
        "result2 = df[df['registration_month']<1]"
      ]
    },
    {
      "cell_type": "code",
      "execution_count": null,
      "metadata": {
        "id": "HZRFY6UqIvvb",
        "outputId": "b6d729f1-c8d8-4de5-f3ad-8e51f74a2b0a"
      },
      "outputs": [
        {
          "data": {
            "text/html": [
              "<div>\n",
              "<style scoped>\n",
              "    .dataframe tbody tr th:only-of-type {\n",
              "        vertical-align: middle;\n",
              "    }\n",
              "\n",
              "    .dataframe tbody tr th {\n",
              "        vertical-align: top;\n",
              "    }\n",
              "\n",
              "    .dataframe thead th {\n",
              "        text-align: right;\n",
              "    }\n",
              "</style>\n",
              "<table border=\"1\" class=\"dataframe\">\n",
              "  <thead>\n",
              "    <tr style=\"text-align: right;\">\n",
              "      <th></th>\n",
              "      <th>price</th>\n",
              "      <th>vehicle_type</th>\n",
              "      <th>registration_year</th>\n",
              "      <th>gearbox</th>\n",
              "      <th>power</th>\n",
              "      <th>model</th>\n",
              "      <th>kilometer</th>\n",
              "      <th>registration_month</th>\n",
              "      <th>fuel_type</th>\n",
              "      <th>brand</th>\n",
              "      <th>repaired</th>\n",
              "    </tr>\n",
              "  </thead>\n",
              "  <tbody>\n",
              "    <tr>\n",
              "      <th>9</th>\n",
              "      <td>999</td>\n",
              "      <td>small</td>\n",
              "      <td>1998</td>\n",
              "      <td>manual</td>\n",
              "      <td>101</td>\n",
              "      <td>golf</td>\n",
              "      <td>150000</td>\n",
              "      <td>0</td>\n",
              "      <td>sedan</td>\n",
              "      <td>volkswagen</td>\n",
              "      <td>unknown</td>\n",
              "    </tr>\n",
              "    <tr>\n",
              "      <th>16</th>\n",
              "      <td>300</td>\n",
              "      <td>small</td>\n",
              "      <td>2016</td>\n",
              "      <td>small</td>\n",
              "      <td>60</td>\n",
              "      <td>polo</td>\n",
              "      <td>150000</td>\n",
              "      <td>0</td>\n",
              "      <td>petrol</td>\n",
              "      <td>volkswagen</td>\n",
              "      <td>unknown</td>\n",
              "    </tr>\n",
              "    <tr>\n",
              "      <th>36</th>\n",
              "      <td>1600</td>\n",
              "      <td>other</td>\n",
              "      <td>1991</td>\n",
              "      <td>manual</td>\n",
              "      <td>75</td>\n",
              "      <td>kadett</td>\n",
              "      <td>70000</td>\n",
              "      <td>0</td>\n",
              "      <td>sedan</td>\n",
              "      <td>opel</td>\n",
              "      <td>unknown</td>\n",
              "    </tr>\n",
              "    <tr>\n",
              "      <th>80</th>\n",
              "      <td>250</td>\n",
              "      <td>wagon</td>\n",
              "      <td>2000</td>\n",
              "      <td>manual</td>\n",
              "      <td>155</td>\n",
              "      <td>156</td>\n",
              "      <td>150000</td>\n",
              "      <td>0</td>\n",
              "      <td>petrol</td>\n",
              "      <td>alfa_romeo</td>\n",
              "      <td>yes</td>\n",
              "    </tr>\n",
              "    <tr>\n",
              "      <th>92</th>\n",
              "      <td>250</td>\n",
              "      <td>small</td>\n",
              "      <td>2000</td>\n",
              "      <td>small</td>\n",
              "      <td>60</td>\n",
              "      <td>ka</td>\n",
              "      <td>150000</td>\n",
              "      <td>0</td>\n",
              "      <td>small</td>\n",
              "      <td>ford</td>\n",
              "      <td>unknown</td>\n",
              "    </tr>\n",
              "    <tr>\n",
              "      <th>...</th>\n",
              "      <td>...</td>\n",
              "      <td>...</td>\n",
              "      <td>...</td>\n",
              "      <td>...</td>\n",
              "      <td>...</td>\n",
              "      <td>...</td>\n",
              "      <td>...</td>\n",
              "      <td>...</td>\n",
              "      <td>...</td>\n",
              "      <td>...</td>\n",
              "      <td>...</td>\n",
              "    </tr>\n",
              "    <tr>\n",
              "      <th>354204</th>\n",
              "      <td>250</td>\n",
              "      <td>wagon</td>\n",
              "      <td>1993</td>\n",
              "      <td>manual</td>\n",
              "      <td>75</td>\n",
              "      <td>golf</td>\n",
              "      <td>150000</td>\n",
              "      <td>0</td>\n",
              "      <td>petrol</td>\n",
              "      <td>volkswagen</td>\n",
              "      <td>no</td>\n",
              "    </tr>\n",
              "    <tr>\n",
              "      <th>354206</th>\n",
              "      <td>1700</td>\n",
              "      <td>sedan</td>\n",
              "      <td>1997</td>\n",
              "      <td>manual</td>\n",
              "      <td>101</td>\n",
              "      <td>a4</td>\n",
              "      <td>150000</td>\n",
              "      <td>0</td>\n",
              "      <td>petrol</td>\n",
              "      <td>audi</td>\n",
              "      <td>yes</td>\n",
              "    </tr>\n",
              "    <tr>\n",
              "      <th>354297</th>\n",
              "      <td>400</td>\n",
              "      <td>wagon</td>\n",
              "      <td>1996</td>\n",
              "      <td>manual</td>\n",
              "      <td>150</td>\n",
              "      <td>a4</td>\n",
              "      <td>150000</td>\n",
              "      <td>0</td>\n",
              "      <td>petrol</td>\n",
              "      <td>audi</td>\n",
              "      <td>unknown</td>\n",
              "    </tr>\n",
              "    <tr>\n",
              "      <th>354326</th>\n",
              "      <td>1300</td>\n",
              "      <td>small</td>\n",
              "      <td>1999</td>\n",
              "      <td>manual</td>\n",
              "      <td>75</td>\n",
              "      <td>2_reihe</td>\n",
              "      <td>125000</td>\n",
              "      <td>0</td>\n",
              "      <td>small</td>\n",
              "      <td>peugeot</td>\n",
              "      <td>unknown</td>\n",
              "    </tr>\n",
              "    <tr>\n",
              "      <th>354329</th>\n",
              "      <td>350</td>\n",
              "      <td>small</td>\n",
              "      <td>1996</td>\n",
              "      <td>small</td>\n",
              "      <td>65</td>\n",
              "      <td>punto</td>\n",
              "      <td>150000</td>\n",
              "      <td>0</td>\n",
              "      <td>small</td>\n",
              "      <td>fiat</td>\n",
              "      <td>unknown</td>\n",
              "    </tr>\n",
              "  </tbody>\n",
              "</table>\n",
              "<p>16648 rows × 11 columns</p>\n",
              "</div>"
            ],
            "text/plain": [
              "        price vehicle_type  registration_year gearbox  power    model  \\\n",
              "9         999        small               1998  manual    101     golf   \n",
              "16        300        small               2016   small     60     polo   \n",
              "36       1600        other               1991  manual     75   kadett   \n",
              "80        250        wagon               2000  manual    155      156   \n",
              "92        250        small               2000   small     60       ka   \n",
              "...       ...          ...                ...     ...    ...      ...   \n",
              "354204    250        wagon               1993  manual     75     golf   \n",
              "354206   1700        sedan               1997  manual    101       a4   \n",
              "354297    400        wagon               1996  manual    150       a4   \n",
              "354326   1300        small               1999  manual     75  2_reihe   \n",
              "354329    350        small               1996   small     65    punto   \n",
              "\n",
              "        kilometer  registration_month fuel_type       brand repaired  \n",
              "9          150000                   0     sedan  volkswagen  unknown  \n",
              "16         150000                   0    petrol  volkswagen  unknown  \n",
              "36          70000                   0     sedan        opel  unknown  \n",
              "80         150000                   0    petrol  alfa_romeo      yes  \n",
              "92         150000                   0     small        ford  unknown  \n",
              "...           ...                 ...       ...         ...      ...  \n",
              "354204     150000                   0    petrol  volkswagen       no  \n",
              "354206     150000                   0    petrol        audi      yes  \n",
              "354297     150000                   0    petrol        audi  unknown  \n",
              "354326     125000                   0     small     peugeot  unknown  \n",
              "354329     150000                   0     small        fiat  unknown  \n",
              "\n",
              "[16648 rows x 11 columns]"
            ]
          },
          "execution_count": 76,
          "metadata": {},
          "output_type": "execute_result"
        }
      ],
      "source": [
        "result2"
      ]
    },
    {
      "cell_type": "code",
      "execution_count": null,
      "metadata": {
        "id": "JQdD0cA_Ivvb",
        "outputId": "9d584571-55ae-4695-cfd4-8fd7c272984c"
      },
      "outputs": [
        {
          "data": {
            "text/plain": [
              "13"
            ]
          },
          "execution_count": 29,
          "metadata": {},
          "output_type": "execute_result"
        }
      ],
      "source": [
        "len(df['registration_month'].unique())"
      ]
    },
    {
      "cell_type": "code",
      "execution_count": null,
      "metadata": {
        "id": "IJlyCVcgIvvb",
        "outputId": "b7f11f05-1a74-4f9f-dfa9-6a6884383b8a"
      },
      "outputs": [
        {
          "name": "stdout",
          "output_type": "stream",
          "text": [
            "<class 'pandas.core.frame.DataFrame'>\n",
            "Int64Index: 270048 entries, 2 to 354368\n",
            "Data columns (total 11 columns):\n",
            " #   Column              Non-Null Count   Dtype \n",
            "---  ------              --------------   ----- \n",
            " 0   price               270048 non-null  int64 \n",
            " 1   vehicle_type        270048 non-null  object\n",
            " 2   registration_year   270048 non-null  int64 \n",
            " 3   gearbox             270048 non-null  object\n",
            " 4   power               270048 non-null  int64 \n",
            " 5   model               270048 non-null  object\n",
            " 6   kilometer           270048 non-null  int64 \n",
            " 7   registration_month  270048 non-null  int64 \n",
            " 8   fuel_type           270048 non-null  object\n",
            " 9   brand               270048 non-null  object\n",
            " 10  repaired            270048 non-null  object\n",
            "dtypes: int64(5), object(6)\n",
            "memory usage: 24.7+ MB\n"
          ]
        }
      ],
      "source": [
        "df.info()"
      ]
    },
    {
      "cell_type": "markdown",
      "metadata": {
        "id": "wFpmbKC7Ivvb"
      },
      "source": [
        "Дальше произведем кодировку при помощи  one-hot encoding.Так же попробуем совместить признак Model c признаком Brand и закодировать значением: Model.size() / Brand.size()"
      ]
    },
    {
      "cell_type": "code",
      "execution_count": null,
      "metadata": {
        "id": "Bi0l_CPPIvvb"
      },
      "outputs": [],
      "source": [
        "df['brand_model'] = df['brand'].astype(str) + ' ' + df['model'].astype(str)\n",
        "df['model_code'] = df['brand_model'].map(df.groupby('brand_model').size()) / \\\n",
        "                     df['brand'].map(df.groupby('brand').size())\n",
        "data = df.drop(['brand_model', 'brand', 'model'], axis=1)"
      ]
    },
    {
      "cell_type": "code",
      "execution_count": null,
      "metadata": {
        "id": "LL7nRlDsIvvc"
      },
      "outputs": [],
      "source": [
        "def get_dummies_func(df, column, prefix):\n",
        "    df1 = pd.get_dummies(df[column], prefix=prefix, drop_first=True)\n",
        "    df = df.drop(column, axis=1)\n",
        "    return data.join(df1)"
      ]
    },
    {
      "cell_type": "markdown",
      "metadata": {
        "id": "cX1qKTBmIvvc"
      },
      "source": [
        "<font color='blue'><b>Комментарий ревьюера: </b></font> ⚠️\\\n",
        "<font color='darkorange'>`pd.get_dummies` - Хороший инструмент для быстрого анализа, но для новых данных если набор категорий будет отличаться, получить данные с такой-же размерностью будет нельзя. Для возможности работы модели с новыми данными нужен OneHotEncoder.</font>"
      ]
    },
    {
      "cell_type": "markdown",
      "metadata": {
        "id": "YDPVXjP-Ivvc"
      },
      "source": [
        "<div class=\"alert alert-info\">\n",
        "    <b>Комментарий студента:</b> Очень хочу разобраться в Охе,буду рад,если дашь полезные статьи или видео про это)\n",
        "</div>"
      ]
    },
    {
      "cell_type": "code",
      "execution_count": null,
      "metadata": {
        "id": "ig5vDHjzIvvc"
      },
      "outputs": [],
      "source": [
        "data = get_dummies_func(data, 'vehicle_type', 'vtype')"
      ]
    },
    {
      "cell_type": "code",
      "execution_count": null,
      "metadata": {
        "id": "W46h4d8nIvvc"
      },
      "outputs": [],
      "source": [
        "data = get_dummies_func(data, 'gearbox', 'gear')"
      ]
    },
    {
      "cell_type": "code",
      "execution_count": null,
      "metadata": {
        "id": "CExSxucjIvvc"
      },
      "outputs": [],
      "source": [
        "data = get_dummies_func(data, 'fuel_type', 'fuel')"
      ]
    },
    {
      "cell_type": "code",
      "execution_count": null,
      "metadata": {
        "id": "BOCjkN5jIvvc"
      },
      "outputs": [],
      "source": [
        "data = get_dummies_func(data, 'repaired', 'repair')"
      ]
    },
    {
      "cell_type": "code",
      "execution_count": null,
      "metadata": {
        "id": "yeBANtO5Ivvd"
      },
      "outputs": [],
      "source": [
        "data1 = data.drop(['vehicle_type', 'gearbox', 'fuel_type', 'repaired'], axis=1)"
      ]
    },
    {
      "cell_type": "code",
      "execution_count": null,
      "metadata": {
        "id": "lCMMq6eQIvvd",
        "outputId": "1292d344-0fe7-46ee-e6cd-97f01c74e496"
      },
      "outputs": [
        {
          "data": {
            "text/html": [
              "<div>\n",
              "<style scoped>\n",
              "    .dataframe tbody tr th:only-of-type {\n",
              "        vertical-align: middle;\n",
              "    }\n",
              "\n",
              "    .dataframe tbody tr th {\n",
              "        vertical-align: top;\n",
              "    }\n",
              "\n",
              "    .dataframe thead th {\n",
              "        text-align: right;\n",
              "    }\n",
              "</style>\n",
              "<table border=\"1\" class=\"dataframe\">\n",
              "  <thead>\n",
              "    <tr style=\"text-align: right;\">\n",
              "      <th></th>\n",
              "      <th>price</th>\n",
              "      <th>vehicle_type</th>\n",
              "      <th>registration_year</th>\n",
              "      <th>gearbox</th>\n",
              "      <th>power</th>\n",
              "      <th>kilometer</th>\n",
              "      <th>registration_month</th>\n",
              "      <th>fuel_type</th>\n",
              "      <th>repaired</th>\n",
              "      <th>model_code</th>\n",
              "      <th>vtype_convertible</th>\n",
              "      <th>vtype_coupe</th>\n",
              "      <th>vtype_other</th>\n",
              "      <th>vtype_sedan</th>\n",
              "      <th>vtype_small</th>\n",
              "      <th>vtype_suv</th>\n",
              "      <th>vtype_wagon</th>\n",
              "      <th>gear_bus</th>\n",
              "      <th>gear_convertible</th>\n",
              "      <th>gear_coupe</th>\n",
              "      <th>gear_manual</th>\n",
              "      <th>gear_sedan</th>\n",
              "      <th>gear_small</th>\n",
              "      <th>gear_suv</th>\n",
              "      <th>gear_wagon</th>\n",
              "      <th>fuel_cng</th>\n",
              "      <th>fuel_convertible</th>\n",
              "      <th>fuel_coupe</th>\n",
              "      <th>fuel_electric</th>\n",
              "      <th>fuel_gasoline</th>\n",
              "      <th>fuel_hybrid</th>\n",
              "      <th>fuel_lpg</th>\n",
              "      <th>fuel_other</th>\n",
              "      <th>fuel_petrol</th>\n",
              "      <th>fuel_sedan</th>\n",
              "      <th>fuel_small</th>\n",
              "      <th>fuel_suv</th>\n",
              "      <th>fuel_wagon</th>\n",
              "      <th>repair_unknown</th>\n",
              "      <th>repair_yes</th>\n",
              "    </tr>\n",
              "  </thead>\n",
              "  <tbody>\n",
              "    <tr>\n",
              "      <th>2</th>\n",
              "      <td>9800</td>\n",
              "      <td>suv</td>\n",
              "      <td>2004</td>\n",
              "      <td>auto</td>\n",
              "      <td>163</td>\n",
              "      <td>125000</td>\n",
              "      <td>8</td>\n",
              "      <td>gasoline</td>\n",
              "      <td>unknown</td>\n",
              "      <td>0.383912</td>\n",
              "      <td>0</td>\n",
              "      <td>0</td>\n",
              "      <td>0</td>\n",
              "      <td>0</td>\n",
              "      <td>0</td>\n",
              "      <td>1</td>\n",
              "      <td>0</td>\n",
              "      <td>0</td>\n",
              "      <td>0</td>\n",
              "      <td>0</td>\n",
              "      <td>0</td>\n",
              "      <td>0</td>\n",
              "      <td>0</td>\n",
              "      <td>0</td>\n",
              "      <td>0</td>\n",
              "      <td>0</td>\n",
              "      <td>0</td>\n",
              "      <td>0</td>\n",
              "      <td>0</td>\n",
              "      <td>1</td>\n",
              "      <td>0</td>\n",
              "      <td>0</td>\n",
              "      <td>0</td>\n",
              "      <td>0</td>\n",
              "      <td>0</td>\n",
              "      <td>0</td>\n",
              "      <td>0</td>\n",
              "      <td>0</td>\n",
              "      <td>1</td>\n",
              "      <td>0</td>\n",
              "    </tr>\n",
              "    <tr>\n",
              "      <th>3</th>\n",
              "      <td>1500</td>\n",
              "      <td>small</td>\n",
              "      <td>2001</td>\n",
              "      <td>manual</td>\n",
              "      <td>75</td>\n",
              "      <td>150000</td>\n",
              "      <td>6</td>\n",
              "      <td>petrol</td>\n",
              "      <td>no</td>\n",
              "      <td>0.403654</td>\n",
              "      <td>0</td>\n",
              "      <td>0</td>\n",
              "      <td>0</td>\n",
              "      <td>0</td>\n",
              "      <td>1</td>\n",
              "      <td>0</td>\n",
              "      <td>0</td>\n",
              "      <td>0</td>\n",
              "      <td>0</td>\n",
              "      <td>0</td>\n",
              "      <td>1</td>\n",
              "      <td>0</td>\n",
              "      <td>0</td>\n",
              "      <td>0</td>\n",
              "      <td>0</td>\n",
              "      <td>0</td>\n",
              "      <td>0</td>\n",
              "      <td>0</td>\n",
              "      <td>0</td>\n",
              "      <td>0</td>\n",
              "      <td>0</td>\n",
              "      <td>0</td>\n",
              "      <td>0</td>\n",
              "      <td>1</td>\n",
              "      <td>0</td>\n",
              "      <td>0</td>\n",
              "      <td>0</td>\n",
              "      <td>0</td>\n",
              "      <td>0</td>\n",
              "      <td>0</td>\n",
              "    </tr>\n",
              "    <tr>\n",
              "      <th>4</th>\n",
              "      <td>3600</td>\n",
              "      <td>small</td>\n",
              "      <td>2008</td>\n",
              "      <td>manual</td>\n",
              "      <td>69</td>\n",
              "      <td>90000</td>\n",
              "      <td>7</td>\n",
              "      <td>gasoline</td>\n",
              "      <td>no</td>\n",
              "      <td>0.388695</td>\n",
              "      <td>0</td>\n",
              "      <td>0</td>\n",
              "      <td>0</td>\n",
              "      <td>0</td>\n",
              "      <td>1</td>\n",
              "      <td>0</td>\n",
              "      <td>0</td>\n",
              "      <td>0</td>\n",
              "      <td>0</td>\n",
              "      <td>0</td>\n",
              "      <td>1</td>\n",
              "      <td>0</td>\n",
              "      <td>0</td>\n",
              "      <td>0</td>\n",
              "      <td>0</td>\n",
              "      <td>0</td>\n",
              "      <td>0</td>\n",
              "      <td>0</td>\n",
              "      <td>0</td>\n",
              "      <td>1</td>\n",
              "      <td>0</td>\n",
              "      <td>0</td>\n",
              "      <td>0</td>\n",
              "      <td>0</td>\n",
              "      <td>0</td>\n",
              "      <td>0</td>\n",
              "      <td>0</td>\n",
              "      <td>0</td>\n",
              "      <td>0</td>\n",
              "      <td>0</td>\n",
              "    </tr>\n",
              "    <tr>\n",
              "      <th>5</th>\n",
              "      <td>650</td>\n",
              "      <td>sedan</td>\n",
              "      <td>1995</td>\n",
              "      <td>manual</td>\n",
              "      <td>102</td>\n",
              "      <td>150000</td>\n",
              "      <td>10</td>\n",
              "      <td>petrol</td>\n",
              "      <td>yes</td>\n",
              "      <td>0.560487</td>\n",
              "      <td>0</td>\n",
              "      <td>0</td>\n",
              "      <td>0</td>\n",
              "      <td>1</td>\n",
              "      <td>0</td>\n",
              "      <td>0</td>\n",
              "      <td>0</td>\n",
              "      <td>0</td>\n",
              "      <td>0</td>\n",
              "      <td>0</td>\n",
              "      <td>1</td>\n",
              "      <td>0</td>\n",
              "      <td>0</td>\n",
              "      <td>0</td>\n",
              "      <td>0</td>\n",
              "      <td>0</td>\n",
              "      <td>0</td>\n",
              "      <td>0</td>\n",
              "      <td>0</td>\n",
              "      <td>0</td>\n",
              "      <td>0</td>\n",
              "      <td>0</td>\n",
              "      <td>0</td>\n",
              "      <td>1</td>\n",
              "      <td>0</td>\n",
              "      <td>0</td>\n",
              "      <td>0</td>\n",
              "      <td>0</td>\n",
              "      <td>0</td>\n",
              "      <td>1</td>\n",
              "    </tr>\n",
              "    <tr>\n",
              "      <th>6</th>\n",
              "      <td>2200</td>\n",
              "      <td>convertible</td>\n",
              "      <td>2004</td>\n",
              "      <td>manual</td>\n",
              "      <td>109</td>\n",
              "      <td>150000</td>\n",
              "      <td>8</td>\n",
              "      <td>petrol</td>\n",
              "      <td>no</td>\n",
              "      <td>0.487545</td>\n",
              "      <td>1</td>\n",
              "      <td>0</td>\n",
              "      <td>0</td>\n",
              "      <td>0</td>\n",
              "      <td>0</td>\n",
              "      <td>0</td>\n",
              "      <td>0</td>\n",
              "      <td>0</td>\n",
              "      <td>0</td>\n",
              "      <td>0</td>\n",
              "      <td>1</td>\n",
              "      <td>0</td>\n",
              "      <td>0</td>\n",
              "      <td>0</td>\n",
              "      <td>0</td>\n",
              "      <td>0</td>\n",
              "      <td>0</td>\n",
              "      <td>0</td>\n",
              "      <td>0</td>\n",
              "      <td>0</td>\n",
              "      <td>0</td>\n",
              "      <td>0</td>\n",
              "      <td>0</td>\n",
              "      <td>1</td>\n",
              "      <td>0</td>\n",
              "      <td>0</td>\n",
              "      <td>0</td>\n",
              "      <td>0</td>\n",
              "      <td>0</td>\n",
              "      <td>0</td>\n",
              "    </tr>\n",
              "    <tr>\n",
              "      <th>8</th>\n",
              "      <td>14500</td>\n",
              "      <td>bus</td>\n",
              "      <td>2014</td>\n",
              "      <td>manual</td>\n",
              "      <td>125</td>\n",
              "      <td>30000</td>\n",
              "      <td>8</td>\n",
              "      <td>petrol</td>\n",
              "      <td>unknown</td>\n",
              "      <td>0.031211</td>\n",
              "      <td>0</td>\n",
              "      <td>0</td>\n",
              "      <td>0</td>\n",
              "      <td>0</td>\n",
              "      <td>0</td>\n",
              "      <td>0</td>\n",
              "      <td>0</td>\n",
              "      <td>0</td>\n",
              "      <td>0</td>\n",
              "      <td>0</td>\n",
              "      <td>1</td>\n",
              "      <td>0</td>\n",
              "      <td>0</td>\n",
              "      <td>0</td>\n",
              "      <td>0</td>\n",
              "      <td>0</td>\n",
              "      <td>0</td>\n",
              "      <td>0</td>\n",
              "      <td>0</td>\n",
              "      <td>0</td>\n",
              "      <td>0</td>\n",
              "      <td>0</td>\n",
              "      <td>0</td>\n",
              "      <td>1</td>\n",
              "      <td>0</td>\n",
              "      <td>0</td>\n",
              "      <td>0</td>\n",
              "      <td>0</td>\n",
              "      <td>1</td>\n",
              "      <td>0</td>\n",
              "    </tr>\n",
              "    <tr>\n",
              "      <th>9</th>\n",
              "      <td>999</td>\n",
              "      <td>small</td>\n",
              "      <td>1998</td>\n",
              "      <td>manual</td>\n",
              "      <td>101</td>\n",
              "      <td>150000</td>\n",
              "      <td>0</td>\n",
              "      <td>sedan</td>\n",
              "      <td>unknown</td>\n",
              "      <td>0.403654</td>\n",
              "      <td>0</td>\n",
              "      <td>0</td>\n",
              "      <td>0</td>\n",
              "      <td>0</td>\n",
              "      <td>1</td>\n",
              "      <td>0</td>\n",
              "      <td>0</td>\n",
              "      <td>0</td>\n",
              "      <td>0</td>\n",
              "      <td>0</td>\n",
              "      <td>1</td>\n",
              "      <td>0</td>\n",
              "      <td>0</td>\n",
              "      <td>0</td>\n",
              "      <td>0</td>\n",
              "      <td>0</td>\n",
              "      <td>0</td>\n",
              "      <td>0</td>\n",
              "      <td>0</td>\n",
              "      <td>0</td>\n",
              "      <td>0</td>\n",
              "      <td>0</td>\n",
              "      <td>0</td>\n",
              "      <td>0</td>\n",
              "      <td>1</td>\n",
              "      <td>0</td>\n",
              "      <td>0</td>\n",
              "      <td>0</td>\n",
              "      <td>1</td>\n",
              "      <td>0</td>\n",
              "    </tr>\n",
              "    <tr>\n",
              "      <th>10</th>\n",
              "      <td>2000</td>\n",
              "      <td>sedan</td>\n",
              "      <td>2004</td>\n",
              "      <td>manual</td>\n",
              "      <td>105</td>\n",
              "      <td>150000</td>\n",
              "      <td>12</td>\n",
              "      <td>petrol</td>\n",
              "      <td>no</td>\n",
              "      <td>0.247534</td>\n",
              "      <td>0</td>\n",
              "      <td>0</td>\n",
              "      <td>0</td>\n",
              "      <td>1</td>\n",
              "      <td>0</td>\n",
              "      <td>0</td>\n",
              "      <td>0</td>\n",
              "      <td>0</td>\n",
              "      <td>0</td>\n",
              "      <td>0</td>\n",
              "      <td>1</td>\n",
              "      <td>0</td>\n",
              "      <td>0</td>\n",
              "      <td>0</td>\n",
              "      <td>0</td>\n",
              "      <td>0</td>\n",
              "      <td>0</td>\n",
              "      <td>0</td>\n",
              "      <td>0</td>\n",
              "      <td>0</td>\n",
              "      <td>0</td>\n",
              "      <td>0</td>\n",
              "      <td>0</td>\n",
              "      <td>1</td>\n",
              "      <td>0</td>\n",
              "      <td>0</td>\n",
              "      <td>0</td>\n",
              "      <td>0</td>\n",
              "      <td>0</td>\n",
              "      <td>0</td>\n",
              "    </tr>\n",
              "    <tr>\n",
              "      <th>11</th>\n",
              "      <td>2799</td>\n",
              "      <td>wagon</td>\n",
              "      <td>2005</td>\n",
              "      <td>manual</td>\n",
              "      <td>140</td>\n",
              "      <td>150000</td>\n",
              "      <td>12</td>\n",
              "      <td>gasoline</td>\n",
              "      <td>yes</td>\n",
              "      <td>0.138516</td>\n",
              "      <td>0</td>\n",
              "      <td>0</td>\n",
              "      <td>0</td>\n",
              "      <td>0</td>\n",
              "      <td>0</td>\n",
              "      <td>0</td>\n",
              "      <td>1</td>\n",
              "      <td>0</td>\n",
              "      <td>0</td>\n",
              "      <td>0</td>\n",
              "      <td>1</td>\n",
              "      <td>0</td>\n",
              "      <td>0</td>\n",
              "      <td>0</td>\n",
              "      <td>0</td>\n",
              "      <td>0</td>\n",
              "      <td>0</td>\n",
              "      <td>0</td>\n",
              "      <td>0</td>\n",
              "      <td>1</td>\n",
              "      <td>0</td>\n",
              "      <td>0</td>\n",
              "      <td>0</td>\n",
              "      <td>0</td>\n",
              "      <td>0</td>\n",
              "      <td>0</td>\n",
              "      <td>0</td>\n",
              "      <td>0</td>\n",
              "      <td>0</td>\n",
              "      <td>1</td>\n",
              "    </tr>\n",
              "    <tr>\n",
              "      <th>12</th>\n",
              "      <td>999</td>\n",
              "      <td>wagon</td>\n",
              "      <td>1995</td>\n",
              "      <td>manual</td>\n",
              "      <td>115</td>\n",
              "      <td>150000</td>\n",
              "      <td>11</td>\n",
              "      <td>petrol</td>\n",
              "      <td>unknown</td>\n",
              "      <td>0.138516</td>\n",
              "      <td>0</td>\n",
              "      <td>0</td>\n",
              "      <td>0</td>\n",
              "      <td>0</td>\n",
              "      <td>0</td>\n",
              "      <td>0</td>\n",
              "      <td>1</td>\n",
              "      <td>0</td>\n",
              "      <td>0</td>\n",
              "      <td>0</td>\n",
              "      <td>1</td>\n",
              "      <td>0</td>\n",
              "      <td>0</td>\n",
              "      <td>0</td>\n",
              "      <td>0</td>\n",
              "      <td>0</td>\n",
              "      <td>0</td>\n",
              "      <td>0</td>\n",
              "      <td>0</td>\n",
              "      <td>0</td>\n",
              "      <td>0</td>\n",
              "      <td>0</td>\n",
              "      <td>0</td>\n",
              "      <td>1</td>\n",
              "      <td>0</td>\n",
              "      <td>0</td>\n",
              "      <td>0</td>\n",
              "      <td>0</td>\n",
              "      <td>1</td>\n",
              "      <td>0</td>\n",
              "    </tr>\n",
              "  </tbody>\n",
              "</table>\n",
              "</div>"
            ],
            "text/plain": [
              "    price vehicle_type  registration_year gearbox  power  kilometer  \\\n",
              "2    9800          suv               2004    auto    163     125000   \n",
              "3    1500        small               2001  manual     75     150000   \n",
              "4    3600        small               2008  manual     69      90000   \n",
              "5     650        sedan               1995  manual    102     150000   \n",
              "6    2200  convertible               2004  manual    109     150000   \n",
              "8   14500          bus               2014  manual    125      30000   \n",
              "9     999        small               1998  manual    101     150000   \n",
              "10   2000        sedan               2004  manual    105     150000   \n",
              "11   2799        wagon               2005  manual    140     150000   \n",
              "12    999        wagon               1995  manual    115     150000   \n",
              "\n",
              "    registration_month fuel_type repaired  model_code  vtype_convertible  \\\n",
              "2                    8  gasoline  unknown    0.383912                  0   \n",
              "3                    6    petrol       no    0.403654                  0   \n",
              "4                    7  gasoline       no    0.388695                  0   \n",
              "5                   10    petrol      yes    0.560487                  0   \n",
              "6                    8    petrol       no    0.487545                  1   \n",
              "8                    8    petrol  unknown    0.031211                  0   \n",
              "9                    0     sedan  unknown    0.403654                  0   \n",
              "10                  12    petrol       no    0.247534                  0   \n",
              "11                  12  gasoline      yes    0.138516                  0   \n",
              "12                  11    petrol  unknown    0.138516                  0   \n",
              "\n",
              "    vtype_coupe  vtype_other  vtype_sedan  vtype_small  vtype_suv  \\\n",
              "2             0            0            0            0          1   \n",
              "3             0            0            0            1          0   \n",
              "4             0            0            0            1          0   \n",
              "5             0            0            1            0          0   \n",
              "6             0            0            0            0          0   \n",
              "8             0            0            0            0          0   \n",
              "9             0            0            0            1          0   \n",
              "10            0            0            1            0          0   \n",
              "11            0            0            0            0          0   \n",
              "12            0            0            0            0          0   \n",
              "\n",
              "    vtype_wagon  gear_bus  gear_convertible  gear_coupe  gear_manual  \\\n",
              "2             0         0                 0           0            0   \n",
              "3             0         0                 0           0            1   \n",
              "4             0         0                 0           0            1   \n",
              "5             0         0                 0           0            1   \n",
              "6             0         0                 0           0            1   \n",
              "8             0         0                 0           0            1   \n",
              "9             0         0                 0           0            1   \n",
              "10            0         0                 0           0            1   \n",
              "11            1         0                 0           0            1   \n",
              "12            1         0                 0           0            1   \n",
              "\n",
              "    gear_sedan  gear_small  gear_suv  gear_wagon  fuel_cng  fuel_convertible  \\\n",
              "2            0           0         0           0         0                 0   \n",
              "3            0           0         0           0         0                 0   \n",
              "4            0           0         0           0         0                 0   \n",
              "5            0           0         0           0         0                 0   \n",
              "6            0           0         0           0         0                 0   \n",
              "8            0           0         0           0         0                 0   \n",
              "9            0           0         0           0         0                 0   \n",
              "10           0           0         0           0         0                 0   \n",
              "11           0           0         0           0         0                 0   \n",
              "12           0           0         0           0         0                 0   \n",
              "\n",
              "    fuel_coupe  fuel_electric  fuel_gasoline  fuel_hybrid  fuel_lpg  \\\n",
              "2            0              0              1            0         0   \n",
              "3            0              0              0            0         0   \n",
              "4            0              0              1            0         0   \n",
              "5            0              0              0            0         0   \n",
              "6            0              0              0            0         0   \n",
              "8            0              0              0            0         0   \n",
              "9            0              0              0            0         0   \n",
              "10           0              0              0            0         0   \n",
              "11           0              0              1            0         0   \n",
              "12           0              0              0            0         0   \n",
              "\n",
              "    fuel_other  fuel_petrol  fuel_sedan  fuel_small  fuel_suv  fuel_wagon  \\\n",
              "2            0            0           0           0         0           0   \n",
              "3            0            1           0           0         0           0   \n",
              "4            0            0           0           0         0           0   \n",
              "5            0            1           0           0         0           0   \n",
              "6            0            1           0           0         0           0   \n",
              "8            0            1           0           0         0           0   \n",
              "9            0            0           1           0         0           0   \n",
              "10           0            1           0           0         0           0   \n",
              "11           0            0           0           0         0           0   \n",
              "12           0            1           0           0         0           0   \n",
              "\n",
              "    repair_unknown  repair_yes  \n",
              "2                1           0  \n",
              "3                0           0  \n",
              "4                0           0  \n",
              "5                0           1  \n",
              "6                0           0  \n",
              "8                1           0  \n",
              "9                1           0  \n",
              "10               0           0  \n",
              "11               0           1  \n",
              "12               1           0  "
            ]
          },
          "execution_count": 40,
          "metadata": {},
          "output_type": "execute_result"
        }
      ],
      "source": [
        "\n",
        "data.head(10)"
      ]
    },
    {
      "cell_type": "markdown",
      "metadata": {
        "id": "4aNPiwmzIvvd"
      },
      "source": [
        "Выделим признаки, целевой признак. Разделим выборку на обучающую и тестовую в соотношении 1:4.\n"
      ]
    },
    {
      "cell_type": "code",
      "execution_count": null,
      "metadata": {
        "id": "biAVHgtRIvvd"
      },
      "outputs": [],
      "source": [
        "X = data1.drop('price', axis=1)\n",
        "y = data1['price']"
      ]
    },
    {
      "cell_type": "code",
      "execution_count": null,
      "metadata": {
        "id": "LBgKW0LzIvvd"
      },
      "outputs": [],
      "source": [
        "X_train, X_test, y_train, y_test = train_test_split(X, y, test_size=0.2, random_state=42)"
      ]
    },
    {
      "cell_type": "code",
      "execution_count": null,
      "metadata": {
        "id": "BzTK5mUSIvvd",
        "outputId": "b0070935-97f6-4e21-b48e-d366f733048a"
      },
      "outputs": [
        {
          "data": {
            "text/plain": [
              "'Размер обучающей выборки: (216038, 35)'"
            ]
          },
          "execution_count": 43,
          "metadata": {},
          "output_type": "execute_result"
        }
      ],
      "source": [
        "f\"Размер обучающей выборки: {X_train.shape}\""
      ]
    },
    {
      "cell_type": "code",
      "execution_count": null,
      "metadata": {
        "id": "EyzC8ds5Ivvd",
        "outputId": "8cb98e6f-5881-4bcc-b12c-c5b68e18c83c"
      },
      "outputs": [
        {
          "data": {
            "text/plain": [
              "'Размер тестовой  выборки: (54010, 35)'"
            ]
          },
          "execution_count": 44,
          "metadata": {},
          "output_type": "execute_result"
        }
      ],
      "source": [
        "f\"Размер тестовой  выборки: {X_test.shape}\""
      ]
    },
    {
      "cell_type": "code",
      "execution_count": null,
      "metadata": {
        "id": "2R3orIYrIvvd"
      },
      "outputs": [],
      "source": [
        "#Проведём масштабирование признаков к стандартному нормальному распределению с помощью метода StandardScaler библиотеки sklearn"
      ]
    },
    {
      "cell_type": "code",
      "execution_count": null,
      "metadata": {
        "id": "e_b1MHB7Ivve"
      },
      "outputs": [],
      "source": [
        "#ss = StandardScaler()\n",
        "#ss.fit(X_train)\n",
        "#columns = X_train.columns\n",
        "#X_train = pd.DataFrame(ss.transform(X_train), columns = columns)\n",
        "#X_test = pd.DataFrame(ss.transform(X_test), columns = columns)"
      ]
    },
    {
      "cell_type": "markdown",
      "metadata": {
        "id": "qBGbTQhNIvve"
      },
      "source": [
        "Проведём масштабирование признаков  с помощью метода LabelEncoder()"
      ]
    },
    {
      "cell_type": "code",
      "execution_count": null,
      "metadata": {
        "id": "7n5YSsO5Ivve"
      },
      "outputs": [],
      "source": [
        "\n",
        "\n",
        "# Создание экземпляра OrdinalEncoder\n",
        "encoder = OrdinalEncoder()\n",
        "\n",
        "# Применение порядкового кодирования к каждому столбцу с категориальными данными\n",
        "for column in X_train.columns:\n",
        "    if X_train[column].dtype == 'object':\n",
        "        X_train[column] = encoder.fit_transform(X_train[column].values.reshape(-1, 1))\n",
        "        X_test[column] = encoder.transform(X_test[column].values.reshape(-1, 1))"
      ]
    },
    {
      "cell_type": "code",
      "execution_count": null,
      "metadata": {
        "id": "nSo-_CA9Ivve",
        "outputId": "07b1e79d-2495-4d90-cbd8-eb77abaf393b"
      },
      "outputs": [
        {
          "data": {
            "text/html": [
              "<div>\n",
              "<style scoped>\n",
              "    .dataframe tbody tr th:only-of-type {\n",
              "        vertical-align: middle;\n",
              "    }\n",
              "\n",
              "    .dataframe tbody tr th {\n",
              "        vertical-align: top;\n",
              "    }\n",
              "\n",
              "    .dataframe thead th {\n",
              "        text-align: right;\n",
              "    }\n",
              "</style>\n",
              "<table border=\"1\" class=\"dataframe\">\n",
              "  <thead>\n",
              "    <tr style=\"text-align: right;\">\n",
              "      <th></th>\n",
              "      <th>registration_year</th>\n",
              "      <th>power</th>\n",
              "      <th>kilometer</th>\n",
              "      <th>registration_month</th>\n",
              "      <th>model_code</th>\n",
              "      <th>vtype_convertible</th>\n",
              "      <th>vtype_coupe</th>\n",
              "      <th>vtype_other</th>\n",
              "      <th>vtype_sedan</th>\n",
              "      <th>vtype_small</th>\n",
              "      <th>vtype_suv</th>\n",
              "      <th>vtype_wagon</th>\n",
              "      <th>gear_bus</th>\n",
              "      <th>gear_convertible</th>\n",
              "      <th>gear_coupe</th>\n",
              "      <th>gear_manual</th>\n",
              "      <th>gear_sedan</th>\n",
              "      <th>gear_small</th>\n",
              "      <th>gear_suv</th>\n",
              "      <th>gear_wagon</th>\n",
              "      <th>fuel_cng</th>\n",
              "      <th>fuel_convertible</th>\n",
              "      <th>fuel_coupe</th>\n",
              "      <th>fuel_electric</th>\n",
              "      <th>fuel_gasoline</th>\n",
              "      <th>fuel_hybrid</th>\n",
              "      <th>fuel_lpg</th>\n",
              "      <th>fuel_other</th>\n",
              "      <th>fuel_petrol</th>\n",
              "      <th>fuel_sedan</th>\n",
              "      <th>fuel_small</th>\n",
              "      <th>fuel_suv</th>\n",
              "      <th>fuel_wagon</th>\n",
              "      <th>repair_unknown</th>\n",
              "      <th>repair_yes</th>\n",
              "    </tr>\n",
              "  </thead>\n",
              "  <tbody>\n",
              "    <tr>\n",
              "      <th>198829</th>\n",
              "      <td>2001</td>\n",
              "      <td>58</td>\n",
              "      <td>150000</td>\n",
              "      <td>2</td>\n",
              "      <td>0.271371</td>\n",
              "      <td>0</td>\n",
              "      <td>0</td>\n",
              "      <td>0</td>\n",
              "      <td>0</td>\n",
              "      <td>1</td>\n",
              "      <td>0</td>\n",
              "      <td>0</td>\n",
              "      <td>0</td>\n",
              "      <td>0</td>\n",
              "      <td>0</td>\n",
              "      <td>1</td>\n",
              "      <td>0</td>\n",
              "      <td>0</td>\n",
              "      <td>0</td>\n",
              "      <td>0</td>\n",
              "      <td>0</td>\n",
              "      <td>0</td>\n",
              "      <td>0</td>\n",
              "      <td>0</td>\n",
              "      <td>0</td>\n",
              "      <td>0</td>\n",
              "      <td>0</td>\n",
              "      <td>0</td>\n",
              "      <td>1</td>\n",
              "      <td>0</td>\n",
              "      <td>0</td>\n",
              "      <td>0</td>\n",
              "      <td>0</td>\n",
              "      <td>0</td>\n",
              "      <td>0</td>\n",
              "    </tr>\n",
              "    <tr>\n",
              "      <th>267536</th>\n",
              "      <td>2017</td>\n",
              "      <td>75</td>\n",
              "      <td>125000</td>\n",
              "      <td>7</td>\n",
              "      <td>0.403654</td>\n",
              "      <td>0</td>\n",
              "      <td>0</td>\n",
              "      <td>0</td>\n",
              "      <td>1</td>\n",
              "      <td>0</td>\n",
              "      <td>0</td>\n",
              "      <td>0</td>\n",
              "      <td>0</td>\n",
              "      <td>0</td>\n",
              "      <td>0</td>\n",
              "      <td>1</td>\n",
              "      <td>0</td>\n",
              "      <td>0</td>\n",
              "      <td>0</td>\n",
              "      <td>0</td>\n",
              "      <td>0</td>\n",
              "      <td>0</td>\n",
              "      <td>0</td>\n",
              "      <td>0</td>\n",
              "      <td>0</td>\n",
              "      <td>0</td>\n",
              "      <td>0</td>\n",
              "      <td>0</td>\n",
              "      <td>1</td>\n",
              "      <td>0</td>\n",
              "      <td>0</td>\n",
              "      <td>0</td>\n",
              "      <td>0</td>\n",
              "      <td>0</td>\n",
              "      <td>0</td>\n",
              "    </tr>\n",
              "    <tr>\n",
              "      <th>899</th>\n",
              "      <td>2003</td>\n",
              "      <td>135</td>\n",
              "      <td>5000</td>\n",
              "      <td>12</td>\n",
              "      <td>0.086485</td>\n",
              "      <td>0</td>\n",
              "      <td>0</td>\n",
              "      <td>0</td>\n",
              "      <td>1</td>\n",
              "      <td>0</td>\n",
              "      <td>0</td>\n",
              "      <td>0</td>\n",
              "      <td>0</td>\n",
              "      <td>0</td>\n",
              "      <td>0</td>\n",
              "      <td>1</td>\n",
              "      <td>0</td>\n",
              "      <td>0</td>\n",
              "      <td>0</td>\n",
              "      <td>0</td>\n",
              "      <td>0</td>\n",
              "      <td>0</td>\n",
              "      <td>0</td>\n",
              "      <td>0</td>\n",
              "      <td>0</td>\n",
              "      <td>0</td>\n",
              "      <td>0</td>\n",
              "      <td>0</td>\n",
              "      <td>1</td>\n",
              "      <td>0</td>\n",
              "      <td>0</td>\n",
              "      <td>0</td>\n",
              "      <td>0</td>\n",
              "      <td>0</td>\n",
              "      <td>0</td>\n",
              "    </tr>\n",
              "    <tr>\n",
              "      <th>146413</th>\n",
              "      <td>1985</td>\n",
              "      <td>72</td>\n",
              "      <td>150000</td>\n",
              "      <td>6</td>\n",
              "      <td>0.095780</td>\n",
              "      <td>0</td>\n",
              "      <td>0</td>\n",
              "      <td>0</td>\n",
              "      <td>1</td>\n",
              "      <td>0</td>\n",
              "      <td>0</td>\n",
              "      <td>0</td>\n",
              "      <td>0</td>\n",
              "      <td>0</td>\n",
              "      <td>0</td>\n",
              "      <td>1</td>\n",
              "      <td>0</td>\n",
              "      <td>0</td>\n",
              "      <td>0</td>\n",
              "      <td>0</td>\n",
              "      <td>0</td>\n",
              "      <td>0</td>\n",
              "      <td>0</td>\n",
              "      <td>0</td>\n",
              "      <td>1</td>\n",
              "      <td>0</td>\n",
              "      <td>0</td>\n",
              "      <td>0</td>\n",
              "      <td>0</td>\n",
              "      <td>0</td>\n",
              "      <td>0</td>\n",
              "      <td>0</td>\n",
              "      <td>0</td>\n",
              "      <td>0</td>\n",
              "      <td>0</td>\n",
              "    </tr>\n",
              "    <tr>\n",
              "      <th>172374</th>\n",
              "      <td>2003</td>\n",
              "      <td>231</td>\n",
              "      <td>150000</td>\n",
              "      <td>11</td>\n",
              "      <td>0.392252</td>\n",
              "      <td>0</td>\n",
              "      <td>0</td>\n",
              "      <td>0</td>\n",
              "      <td>1</td>\n",
              "      <td>0</td>\n",
              "      <td>0</td>\n",
              "      <td>0</td>\n",
              "      <td>0</td>\n",
              "      <td>0</td>\n",
              "      <td>0</td>\n",
              "      <td>0</td>\n",
              "      <td>0</td>\n",
              "      <td>0</td>\n",
              "      <td>0</td>\n",
              "      <td>0</td>\n",
              "      <td>0</td>\n",
              "      <td>0</td>\n",
              "      <td>0</td>\n",
              "      <td>0</td>\n",
              "      <td>0</td>\n",
              "      <td>0</td>\n",
              "      <td>0</td>\n",
              "      <td>0</td>\n",
              "      <td>1</td>\n",
              "      <td>0</td>\n",
              "      <td>0</td>\n",
              "      <td>0</td>\n",
              "      <td>0</td>\n",
              "      <td>0</td>\n",
              "      <td>0</td>\n",
              "    </tr>\n",
              "    <tr>\n",
              "      <th>291773</th>\n",
              "      <td>1981</td>\n",
              "      <td>200</td>\n",
              "      <td>125000</td>\n",
              "      <td>9</td>\n",
              "      <td>0.040114</td>\n",
              "      <td>0</td>\n",
              "      <td>1</td>\n",
              "      <td>0</td>\n",
              "      <td>0</td>\n",
              "      <td>0</td>\n",
              "      <td>0</td>\n",
              "      <td>0</td>\n",
              "      <td>0</td>\n",
              "      <td>0</td>\n",
              "      <td>0</td>\n",
              "      <td>1</td>\n",
              "      <td>0</td>\n",
              "      <td>0</td>\n",
              "      <td>0</td>\n",
              "      <td>0</td>\n",
              "      <td>0</td>\n",
              "      <td>0</td>\n",
              "      <td>0</td>\n",
              "      <td>0</td>\n",
              "      <td>0</td>\n",
              "      <td>0</td>\n",
              "      <td>0</td>\n",
              "      <td>0</td>\n",
              "      <td>1</td>\n",
              "      <td>0</td>\n",
              "      <td>0</td>\n",
              "      <td>0</td>\n",
              "      <td>0</td>\n",
              "      <td>1</td>\n",
              "      <td>0</td>\n",
              "    </tr>\n",
              "    <tr>\n",
              "      <th>347269</th>\n",
              "      <td>1991</td>\n",
              "      <td>45</td>\n",
              "      <td>150000</td>\n",
              "      <td>7</td>\n",
              "      <td>0.172276</td>\n",
              "      <td>0</td>\n",
              "      <td>0</td>\n",
              "      <td>0</td>\n",
              "      <td>0</td>\n",
              "      <td>0</td>\n",
              "      <td>0</td>\n",
              "      <td>1</td>\n",
              "      <td>0</td>\n",
              "      <td>0</td>\n",
              "      <td>0</td>\n",
              "      <td>1</td>\n",
              "      <td>0</td>\n",
              "      <td>0</td>\n",
              "      <td>0</td>\n",
              "      <td>0</td>\n",
              "      <td>0</td>\n",
              "      <td>0</td>\n",
              "      <td>0</td>\n",
              "      <td>0</td>\n",
              "      <td>0</td>\n",
              "      <td>0</td>\n",
              "      <td>0</td>\n",
              "      <td>0</td>\n",
              "      <td>1</td>\n",
              "      <td>0</td>\n",
              "      <td>0</td>\n",
              "      <td>0</td>\n",
              "      <td>0</td>\n",
              "      <td>0</td>\n",
              "      <td>0</td>\n",
              "    </tr>\n",
              "    <tr>\n",
              "      <th>209273</th>\n",
              "      <td>2001</td>\n",
              "      <td>125</td>\n",
              "      <td>150000</td>\n",
              "      <td>4</td>\n",
              "      <td>0.291377</td>\n",
              "      <td>0</td>\n",
              "      <td>0</td>\n",
              "      <td>0</td>\n",
              "      <td>0</td>\n",
              "      <td>1</td>\n",
              "      <td>0</td>\n",
              "      <td>0</td>\n",
              "      <td>0</td>\n",
              "      <td>0</td>\n",
              "      <td>0</td>\n",
              "      <td>1</td>\n",
              "      <td>0</td>\n",
              "      <td>0</td>\n",
              "      <td>0</td>\n",
              "      <td>0</td>\n",
              "      <td>0</td>\n",
              "      <td>0</td>\n",
              "      <td>0</td>\n",
              "      <td>0</td>\n",
              "      <td>0</td>\n",
              "      <td>0</td>\n",
              "      <td>0</td>\n",
              "      <td>0</td>\n",
              "      <td>1</td>\n",
              "      <td>0</td>\n",
              "      <td>0</td>\n",
              "      <td>0</td>\n",
              "      <td>0</td>\n",
              "      <td>0</td>\n",
              "      <td>0</td>\n",
              "    </tr>\n",
              "    <tr>\n",
              "      <th>151120</th>\n",
              "      <td>1993</td>\n",
              "      <td>60</td>\n",
              "      <td>150000</td>\n",
              "      <td>12</td>\n",
              "      <td>0.011369</td>\n",
              "      <td>0</td>\n",
              "      <td>0</td>\n",
              "      <td>1</td>\n",
              "      <td>0</td>\n",
              "      <td>0</td>\n",
              "      <td>0</td>\n",
              "      <td>0</td>\n",
              "      <td>0</td>\n",
              "      <td>0</td>\n",
              "      <td>0</td>\n",
              "      <td>1</td>\n",
              "      <td>0</td>\n",
              "      <td>0</td>\n",
              "      <td>0</td>\n",
              "      <td>0</td>\n",
              "      <td>0</td>\n",
              "      <td>0</td>\n",
              "      <td>0</td>\n",
              "      <td>0</td>\n",
              "      <td>1</td>\n",
              "      <td>0</td>\n",
              "      <td>0</td>\n",
              "      <td>0</td>\n",
              "      <td>0</td>\n",
              "      <td>0</td>\n",
              "      <td>0</td>\n",
              "      <td>0</td>\n",
              "      <td>0</td>\n",
              "      <td>0</td>\n",
              "      <td>0</td>\n",
              "    </tr>\n",
              "    <tr>\n",
              "      <th>46964</th>\n",
              "      <td>2006</td>\n",
              "      <td>166</td>\n",
              "      <td>80000</td>\n",
              "      <td>3</td>\n",
              "      <td>0.243634</td>\n",
              "      <td>0</td>\n",
              "      <td>0</td>\n",
              "      <td>0</td>\n",
              "      <td>1</td>\n",
              "      <td>0</td>\n",
              "      <td>0</td>\n",
              "      <td>0</td>\n",
              "      <td>0</td>\n",
              "      <td>0</td>\n",
              "      <td>0</td>\n",
              "      <td>0</td>\n",
              "      <td>0</td>\n",
              "      <td>0</td>\n",
              "      <td>0</td>\n",
              "      <td>0</td>\n",
              "      <td>0</td>\n",
              "      <td>0</td>\n",
              "      <td>0</td>\n",
              "      <td>0</td>\n",
              "      <td>0</td>\n",
              "      <td>0</td>\n",
              "      <td>0</td>\n",
              "      <td>0</td>\n",
              "      <td>1</td>\n",
              "      <td>0</td>\n",
              "      <td>0</td>\n",
              "      <td>0</td>\n",
              "      <td>0</td>\n",
              "      <td>0</td>\n",
              "      <td>0</td>\n",
              "    </tr>\n",
              "  </tbody>\n",
              "</table>\n",
              "</div>"
            ],
            "text/plain": [
              "        registration_year  power  kilometer  registration_month  model_code  \\\n",
              "198829               2001     58     150000                   2    0.271371   \n",
              "267536               2017     75     125000                   7    0.403654   \n",
              "899                  2003    135       5000                  12    0.086485   \n",
              "146413               1985     72     150000                   6    0.095780   \n",
              "172374               2003    231     150000                  11    0.392252   \n",
              "291773               1981    200     125000                   9    0.040114   \n",
              "347269               1991     45     150000                   7    0.172276   \n",
              "209273               2001    125     150000                   4    0.291377   \n",
              "151120               1993     60     150000                  12    0.011369   \n",
              "46964                2006    166      80000                   3    0.243634   \n",
              "\n",
              "        vtype_convertible  vtype_coupe  vtype_other  vtype_sedan  vtype_small  \\\n",
              "198829                  0            0            0            0            1   \n",
              "267536                  0            0            0            1            0   \n",
              "899                     0            0            0            1            0   \n",
              "146413                  0            0            0            1            0   \n",
              "172374                  0            0            0            1            0   \n",
              "291773                  0            1            0            0            0   \n",
              "347269                  0            0            0            0            0   \n",
              "209273                  0            0            0            0            1   \n",
              "151120                  0            0            1            0            0   \n",
              "46964                   0            0            0            1            0   \n",
              "\n",
              "        vtype_suv  vtype_wagon  gear_bus  gear_convertible  gear_coupe  \\\n",
              "198829          0            0         0                 0           0   \n",
              "267536          0            0         0                 0           0   \n",
              "899             0            0         0                 0           0   \n",
              "146413          0            0         0                 0           0   \n",
              "172374          0            0         0                 0           0   \n",
              "291773          0            0         0                 0           0   \n",
              "347269          0            1         0                 0           0   \n",
              "209273          0            0         0                 0           0   \n",
              "151120          0            0         0                 0           0   \n",
              "46964           0            0         0                 0           0   \n",
              "\n",
              "        gear_manual  gear_sedan  gear_small  gear_suv  gear_wagon  fuel_cng  \\\n",
              "198829            1           0           0         0           0         0   \n",
              "267536            1           0           0         0           0         0   \n",
              "899               1           0           0         0           0         0   \n",
              "146413            1           0           0         0           0         0   \n",
              "172374            0           0           0         0           0         0   \n",
              "291773            1           0           0         0           0         0   \n",
              "347269            1           0           0         0           0         0   \n",
              "209273            1           0           0         0           0         0   \n",
              "151120            1           0           0         0           0         0   \n",
              "46964             0           0           0         0           0         0   \n",
              "\n",
              "        fuel_convertible  fuel_coupe  fuel_electric  fuel_gasoline  \\\n",
              "198829                 0           0              0              0   \n",
              "267536                 0           0              0              0   \n",
              "899                    0           0              0              0   \n",
              "146413                 0           0              0              1   \n",
              "172374                 0           0              0              0   \n",
              "291773                 0           0              0              0   \n",
              "347269                 0           0              0              0   \n",
              "209273                 0           0              0              0   \n",
              "151120                 0           0              0              1   \n",
              "46964                  0           0              0              0   \n",
              "\n",
              "        fuel_hybrid  fuel_lpg  fuel_other  fuel_petrol  fuel_sedan  \\\n",
              "198829            0         0           0            1           0   \n",
              "267536            0         0           0            1           0   \n",
              "899               0         0           0            1           0   \n",
              "146413            0         0           0            0           0   \n",
              "172374            0         0           0            1           0   \n",
              "291773            0         0           0            1           0   \n",
              "347269            0         0           0            1           0   \n",
              "209273            0         0           0            1           0   \n",
              "151120            0         0           0            0           0   \n",
              "46964             0         0           0            1           0   \n",
              "\n",
              "        fuel_small  fuel_suv  fuel_wagon  repair_unknown  repair_yes  \n",
              "198829           0         0           0               0           0  \n",
              "267536           0         0           0               0           0  \n",
              "899              0         0           0               0           0  \n",
              "146413           0         0           0               0           0  \n",
              "172374           0         0           0               0           0  \n",
              "291773           0         0           0               1           0  \n",
              "347269           0         0           0               0           0  \n",
              "209273           0         0           0               0           0  \n",
              "151120           0         0           0               0           0  \n",
              "46964            0         0           0               0           0  "
            ]
          },
          "execution_count": 48,
          "metadata": {},
          "output_type": "execute_result"
        }
      ],
      "source": [
        "X_train.head(10)"
      ]
    },
    {
      "cell_type": "markdown",
      "metadata": {
        "id": "9UCD95CBIvve"
      },
      "source": [
        "Вывод\n",
        "\n",
        "Данные были успешно загружены и проанализированы. Типы данных соответствуют описанию, дубликаты удалены.\n",
        "Отобраны признаки, необходимые для построения моделей.\n",
        "\n",
        "Категориальные признаки с небольшой ординальностью преобразованы с помощью one-hot encoding. Признак Model закодирован по формуле Model.size() / Brand.size()\n",
        "\n",
        "\n",
        "Данные разделены на тестовую и обучающую выборки в соотношении 1:4, признаки масштабированы к стандартному нормальному распределению."
      ]
    },
    {
      "cell_type": "markdown",
      "metadata": {
        "id": "9mNcqCENIvve"
      },
      "source": [
        "## Обучение моделей"
      ]
    },
    {
      "cell_type": "markdown",
      "metadata": {
        "id": "onrr8wtHIvvf"
      },
      "source": [
        "Для начала создадим константную base-line модель. Она всегда будет предсказывать среднее значение Price. (среднее значение на практике дало меньшее значение RMSE, чем медианное). Рассчитаем RMSE для base-line модели."
      ]
    },
    {
      "cell_type": "code",
      "execution_count": null,
      "metadata": {
        "id": "l8WDayRhIvvf",
        "outputId": "0d4c408e-55f1-4760-8bfd-42d238f00c1b"
      },
      "outputs": [
        {
          "data": {
            "text/plain": [
              "'RMSE для константной модели: 4602.0'"
            ]
          },
          "execution_count": 49,
          "metadata": {},
          "output_type": "execute_result"
        }
      ],
      "source": [
        "preds_base = pd.Series(data=y.mean(), index=y.index, dtype='int64')\n",
        "rmse_base = mean_squared_error(y, preds_base) ** 0.5\n",
        "f\"RMSE для константной модели: {round(rmse_base, 2)}\""
      ]
    },
    {
      "cell_type": "markdown",
      "metadata": {
        "id": "bzZRAN8iIvvf"
      },
      "source": [
        "Сначала обучим линейную модель. Посчитаем скорость обучения, скорость предсказания и RMSE модели. Обучение будем проводить с использованием кросс-валидации на 5 фолдов."
      ]
    },
    {
      "cell_type": "code",
      "execution_count": null,
      "metadata": {
        "id": "egjpC0bnIvvf",
        "outputId": "c4abbf1c-eb12-4798-bb75-8cb2880fc33e"
      },
      "outputs": [
        {
          "name": "stdout",
          "output_type": "stream",
          "text": [
            "CPU times: user 2.56 s, sys: 1.58 s, total: 4.13 s\n",
            "Wall time: 4.08 s\n"
          ]
        }
      ],
      "source": [
        "%%time\n",
        "lm = LinearRegression()\n",
        "mse = cross_val_score(lm, X_train, y_train, cv=5, scoring='neg_mean_squared_error')"
      ]
    },
    {
      "cell_type": "code",
      "execution_count": null,
      "metadata": {
        "id": "_m_J4HHfIvvf",
        "outputId": "997789f8-a886-4c95-e7ee-18c2224b7df5"
      },
      "outputs": [
        {
          "data": {
            "text/plain": [
              "'RMSE для линейной модели на валидационной выборке: 3010.86'"
            ]
          },
          "execution_count": 51,
          "metadata": {},
          "output_type": "execute_result"
        }
      ],
      "source": [
        "f\"RMSE для линейной модели на валидационной выборке: {round((-mse.mean()) ** 0.5, 2)}\""
      ]
    },
    {
      "cell_type": "code",
      "execution_count": null,
      "metadata": {
        "scrolled": true,
        "id": "DsjmBJfmIvvf",
        "outputId": "ad5e29ff-4e71-43ba-dc07-c0c4c1b71a13"
      },
      "outputs": [
        {
          "name": "stdout",
          "output_type": "stream",
          "text": [
            "CPU times: user 603 ms, sys: 243 ms, total: 845 ms\n",
            "Wall time: 807 ms\n"
          ]
        },
        {
          "data": {
            "text/plain": [
              "LinearRegression()"
            ]
          },
          "execution_count": 52,
          "metadata": {},
          "output_type": "execute_result"
        }
      ],
      "source": [
        "%%time\n",
        "lm = LinearRegression()\n",
        "lm.fit(X_train, y_train)"
      ]
    },
    {
      "cell_type": "code",
      "execution_count": null,
      "metadata": {
        "id": "1bLlS_9mIvvf",
        "outputId": "65b3ab41-79b9-4e2a-ad18-0dea7d946c8c"
      },
      "outputs": [
        {
          "name": "stdout",
          "output_type": "stream",
          "text": [
            "CPU times: user 12.2 ms, sys: 0 ns, total: 12.2 ms\n",
            "Wall time: 7.17 ms\n"
          ]
        }
      ],
      "source": [
        "%%time\n",
        "preds_lm = lm.predict(X_test)"
      ]
    },
    {
      "cell_type": "code",
      "execution_count": null,
      "metadata": {
        "id": "WSqJBNUTIvvg",
        "outputId": "5a70db7c-2ea4-4e1c-dad0-566a174618ce"
      },
      "outputs": [
        {
          "data": {
            "text/plain": [
              "'RMSE для линейной модели на тестовой выборке: 3052.07'"
            ]
          },
          "execution_count": 54,
          "metadata": {},
          "output_type": "execute_result"
        }
      ],
      "source": [
        "mse_lm = mean_squared_error(y_test, preds_lm)\n",
        "f\"RMSE для линейной модели на тестовой выборке: {round((mse_lm) ** 0.5, 2)}\""
      ]
    },
    {
      "cell_type": "markdown",
      "metadata": {
        "id": "HhHhtSXOIvvg"
      },
      "source": [
        "Lasso/Ridge"
      ]
    },
    {
      "cell_type": "markdown",
      "metadata": {
        "id": "Te3U1lw6Ivvg"
      },
      "source": [
        "Попробуем обучить линейные модели с регуляризацией L1 и L2."
      ]
    },
    {
      "cell_type": "markdown",
      "metadata": {
        "id": "E9GgittaIvvg"
      },
      "source": [
        "Lasso (L1 регуляризация)"
      ]
    },
    {
      "cell_type": "code",
      "execution_count": null,
      "metadata": {
        "id": "G1dXDlOEIvvg",
        "outputId": "60808612-bc84-4669-f73f-e14941eab8e9"
      },
      "outputs": [
        {
          "name": "stdout",
          "output_type": "stream",
          "text": [
            "RMSE для Lasso alpha=1.00 модели на валидационной выборке: 3011.25\n",
            "RMSE для Lasso alpha=5.00 модели на валидационной выборке: 3015.26\n",
            "RMSE для Lasso alpha=9.00 модели на валидационной выборке: 3017.39\n",
            "RMSE для Lasso alpha=13.00 модели на валидационной выборке: 3020.25\n",
            "RMSE для Lasso alpha=17.00 модели на валидационной выборке: 3024.00\n",
            "RMSE для Lasso alpha=21.00 модели на валидационной выборке: 3027.93\n",
            "RMSE для Lasso alpha=25.00 модели на валидационной выборке: 3031.67\n",
            "RMSE для Lasso alpha=29.00 модели на валидационной выборке: 3035.81\n",
            "RMSE для Lasso alpha=33.00 модели на валидационной выборке: 3040.41\n",
            "RMSE для Lasso alpha=37.00 модели на валидационной выборке: 3044.91\n",
            "CPU times: user 53.3 s, sys: 24.8 s, total: 1min 18s\n",
            "Wall time: 1min 18s\n"
          ]
        }
      ],
      "source": [
        "%%time\n",
        "alphas = np.arange(1, 40, 4)\n",
        "for alpha in alphas :\n",
        "    lasso = Lasso(alpha = alpha)\n",
        "    mse = cross_val_score(lasso, X_train, y_train, cv=5, scoring='neg_mean_squared_error')\n",
        "    print(\"RMSE для Lasso alpha={:.2f} модели на валидационной выборке: {:.2f}\".format(alpha, (-mse.mean()) ** 0.5))"
      ]
    },
    {
      "cell_type": "code",
      "execution_count": null,
      "metadata": {
        "id": "DjLeGj6UIvvg",
        "outputId": "c381a2b2-7068-4f0c-e960-f471d59a1b96"
      },
      "outputs": [
        {
          "name": "stdout",
          "output_type": "stream",
          "text": [
            "CPU times: user 19.9 s, sys: 5.73 s, total: 25.7 s\n",
            "Wall time: 25.7 s\n"
          ]
        },
        {
          "data": {
            "text/plain": [
              "Lasso(alpha=0.1)"
            ]
          },
          "execution_count": 56,
          "metadata": {},
          "output_type": "execute_result"
        }
      ],
      "source": [
        "%%time\n",
        "lasso = Lasso(alpha=0.1)\n",
        "lasso.fit(X_train, y_train)"
      ]
    },
    {
      "cell_type": "code",
      "execution_count": null,
      "metadata": {
        "id": "ZZJ6DcU9Ivvg",
        "outputId": "631fc023-79a7-4a0a-8057-65b3900505ef"
      },
      "outputs": [
        {
          "name": "stdout",
          "output_type": "stream",
          "text": [
            "CPU times: user 27.9 ms, sys: 36.8 ms, total: 64.7 ms\n",
            "Wall time: 95.9 ms\n"
          ]
        }
      ],
      "source": [
        "%%time\n",
        "preds_ls = lasso.predict(X_test)"
      ]
    },
    {
      "cell_type": "code",
      "execution_count": null,
      "metadata": {
        "id": "X1Lu1SC4Ivvg",
        "outputId": "f8a1d0fc-abeb-4a07-9484-c5d568e85344"
      },
      "outputs": [
        {
          "data": {
            "text/plain": [
              "'RMSE для Lasso модели на тестовой выборке: 3051.9'"
            ]
          },
          "execution_count": 58,
          "metadata": {},
          "output_type": "execute_result"
        }
      ],
      "source": [
        "mse_ls = mean_squared_error(y_test, preds_ls)\n",
        "f\"RMSE для Lasso модели на тестовой выборке: {round((mse_ls) ** 0.5, 2)}\""
      ]
    },
    {
      "cell_type": "markdown",
      "metadata": {
        "id": "iM0PChjCIvvh"
      },
      "source": [
        "Lasso не дало выигрыш в метрике, скорость обучения и предсказания немного выше, чем у Линейной модели без регуляризации."
      ]
    },
    {
      "cell_type": "markdown",
      "metadata": {
        "id": "M8GPXk1NIvvh"
      },
      "source": [
        "Ridge (L2 регуляризация)"
      ]
    },
    {
      "cell_type": "code",
      "execution_count": null,
      "metadata": {
        "id": "JQ6obqM1Ivvh",
        "outputId": "72dd13a5-ccba-45f8-9d76-47644d152218"
      },
      "outputs": [
        {
          "name": "stdout",
          "output_type": "stream",
          "text": [
            "RMSE для Ridge alpha=1.00 модели на валидационной выборке: 3010.84\n",
            "RMSE для Ridge alpha=5.00 модели на валидационной выборке: 3010.77\n",
            "RMSE для Ridge alpha=9.00 модели на валидационной выборке: 3010.72\n",
            "RMSE для Ridge alpha=13.00 модели на валидационной выборке: 3010.68\n",
            "RMSE для Ridge alpha=17.00 модели на валидационной выборке: 3010.65\n",
            "RMSE для Ridge alpha=21.00 модели на валидационной выборке: 3010.63\n",
            "RMSE для Ridge alpha=25.00 модели на валидационной выборке: 3010.62\n",
            "RMSE для Ridge alpha=29.00 модели на валидационной выборке: 3010.61\n",
            "RMSE для Ridge alpha=33.00 модели на валидационной выборке: 3010.60\n",
            "RMSE для Ridge alpha=37.00 модели на валидационной выборке: 3010.60\n",
            "CPU times: user 7.97 s, sys: 6.89 s, total: 14.9 s\n",
            "Wall time: 14.9 s\n"
          ]
        }
      ],
      "source": [
        "%%time\n",
        "alphas = np.arange(1, 40, 4)\n",
        "for alpha in alphas :\n",
        "    ridge = Ridge(alpha = alpha)\n",
        "    mse = cross_val_score(ridge, X_train, y_train, cv=5, scoring='neg_mean_squared_error')\n",
        "    print(\"RMSE для Ridge alpha={:.2f} модели на валидационной выборке: {:.2f}\".format(alpha, (-mse.mean()) ** 0.5))"
      ]
    },
    {
      "cell_type": "code",
      "execution_count": null,
      "metadata": {
        "id": "nnvoD21lIvvh",
        "outputId": "7fb6e642-4578-4b9a-bfe8-ea84570bf4e9"
      },
      "outputs": [
        {
          "name": "stdout",
          "output_type": "stream",
          "text": [
            "CPU times: user 92 ms, sys: 60.3 ms, total: 152 ms\n",
            "Wall time: 183 ms\n"
          ]
        },
        {
          "data": {
            "text/plain": [
              "Ridge(alpha=0.5)"
            ]
          },
          "execution_count": 60,
          "metadata": {},
          "output_type": "execute_result"
        }
      ],
      "source": [
        "%%time\n",
        "ridge = Ridge(alpha=0.5)\n",
        "ridge.fit(X_train, y_train)"
      ]
    },
    {
      "cell_type": "code",
      "execution_count": null,
      "metadata": {
        "id": "D_tkAi4UIvvh",
        "outputId": "289f1cb1-91a1-45ba-97e4-5cdcdacac3ab"
      },
      "outputs": [
        {
          "name": "stdout",
          "output_type": "stream",
          "text": [
            "CPU times: user 21.6 ms, sys: 18.4 ms, total: 40 ms\n",
            "Wall time: 91.4 ms\n"
          ]
        }
      ],
      "source": [
        "%%time\n",
        "preds_rg = ridge.predict(X_test)"
      ]
    },
    {
      "cell_type": "code",
      "execution_count": null,
      "metadata": {
        "id": "Kac-IASBIvvh",
        "outputId": "b1d98785-8688-4bc5-d7c5-6ed2e3505673"
      },
      "outputs": [
        {
          "data": {
            "text/plain": [
              "'RMSE для Ridge модели на тестовой выборке: 3052.07'"
            ]
          },
          "execution_count": 62,
          "metadata": {},
          "output_type": "execute_result"
        }
      ],
      "source": [
        "mse_rg = mean_squared_error(y_test, preds_rg)\n",
        "f\"RMSE для Ridge модели на тестовой выборке: {round((mse_rg) ** 0.5, 2)}\""
      ]
    },
    {
      "cell_type": "markdown",
      "metadata": {
        "id": "0E3Z8WMOIvvh"
      },
      "source": [
        "Ridge не дал выигрыш в метрике, но скорость обучения выше, чем у Линейной модели без регуляризации:\n",
        "\n",
        "Ridge fit time: 234 ms\n",
        "\n",
        "LinearRegression fit time: 1.1 s"
      ]
    },
    {
      "cell_type": "markdown",
      "metadata": {
        "id": "h3XVkfNOIvvh"
      },
      "source": [
        "LightGBM"
      ]
    },
    {
      "cell_type": "markdown",
      "metadata": {
        "id": "FnqGsIN-Ivvi"
      },
      "source": [
        "Попробуем обучить модель с градиентным бустингом: LightGBM.\n",
        "    \n",
        "Подбор параметров проведём с помощью GridSearch библиотеки sklearn."
      ]
    },
    {
      "cell_type": "code",
      "execution_count": null,
      "metadata": {
        "id": "RfCYcZrkIvvi"
      },
      "outputs": [],
      "source": [
        "numerical_features = ['price', 'registration_year', 'power', 'kilometer']\n",
        "categorical_features = ['vehicle_type', 'gearbox', 'model', 'fuel_type', 'repaired', 'brand ']"
      ]
    },
    {
      "cell_type": "code",
      "execution_count": null,
      "metadata": {
        "id": "ED3gt8RDIvvi"
      },
      "outputs": [],
      "source": [
        "X = data1.drop('price', axis=1)\n",
        "y = data1['price']\n",
        "X_train, X_test, y_train, y_test = train_test_split(X, y, test_size=0.2, random_state=42)"
      ]
    },
    {
      "cell_type": "code",
      "execution_count": null,
      "metadata": {
        "id": "NamvHvZWIvvi",
        "outputId": "02d21fed-5624-4591-f56b-d5e33a499fc7"
      },
      "outputs": [
        {
          "data": {
            "text/plain": [
              "'Размер обучающей выборки: (216038, 35)'"
            ]
          },
          "execution_count": 65,
          "metadata": {},
          "output_type": "execute_result"
        }
      ],
      "source": [
        "f\"Размер обучающей выборки: {X_train.shape}\""
      ]
    },
    {
      "cell_type": "code",
      "execution_count": null,
      "metadata": {
        "id": "MsCe35y8Ivvi",
        "outputId": "31a5ffad-b57c-4a88-bc03-81989e1f2773"
      },
      "outputs": [
        {
          "data": {
            "text/plain": [
              "'Размер обучающей выборки: (54010, 35)'"
            ]
          },
          "execution_count": 66,
          "metadata": {},
          "output_type": "execute_result"
        }
      ],
      "source": [
        "f\"Размер обучающей выборки: {X_test.shape}\""
      ]
    },
    {
      "cell_type": "code",
      "execution_count": null,
      "metadata": {
        "id": "S1eVZiPyIvvi"
      },
      "outputs": [],
      "source": [
        "categorical_features = [col for col in list(data.columns) if col not in numerical_features]"
      ]
    },
    {
      "cell_type": "code",
      "execution_count": null,
      "metadata": {
        "collapsed": true,
        "id": "_f8Bz7P2Ivvi",
        "outputId": "e73bda52-f1ef-4a36-d8c3-75a3b1721efd"
      },
      "outputs": [
        {
          "name": "stdout",
          "output_type": "stream",
          "text": [
            "<class 'pandas.core.frame.DataFrame'>\n",
            "Int64Index: 216038 entries, 198829 to 153496\n",
            "Data columns (total 35 columns):\n",
            " #   Column              Non-Null Count   Dtype  \n",
            "---  ------              --------------   -----  \n",
            " 0   registration_year   216038 non-null  int64  \n",
            " 1   power               216038 non-null  int64  \n",
            " 2   kilometer           216038 non-null  int64  \n",
            " 3   registration_month  216038 non-null  int64  \n",
            " 4   model_code          216038 non-null  float64\n",
            " 5   vtype_convertible   216038 non-null  uint8  \n",
            " 6   vtype_coupe         216038 non-null  uint8  \n",
            " 7   vtype_other         216038 non-null  uint8  \n",
            " 8   vtype_sedan         216038 non-null  uint8  \n",
            " 9   vtype_small         216038 non-null  uint8  \n",
            " 10  vtype_suv           216038 non-null  uint8  \n",
            " 11  vtype_wagon         216038 non-null  uint8  \n",
            " 12  gear_bus            216038 non-null  uint8  \n",
            " 13  gear_convertible    216038 non-null  uint8  \n",
            " 14  gear_coupe          216038 non-null  uint8  \n",
            " 15  gear_manual         216038 non-null  uint8  \n",
            " 16  gear_sedan          216038 non-null  uint8  \n",
            " 17  gear_small          216038 non-null  uint8  \n",
            " 18  gear_suv            216038 non-null  uint8  \n",
            " 19  gear_wagon          216038 non-null  uint8  \n",
            " 20  fuel_cng            216038 non-null  uint8  \n",
            " 21  fuel_convertible    216038 non-null  uint8  \n",
            " 22  fuel_coupe          216038 non-null  uint8  \n",
            " 23  fuel_electric       216038 non-null  uint8  \n",
            " 24  fuel_gasoline       216038 non-null  uint8  \n",
            " 25  fuel_hybrid         216038 non-null  uint8  \n",
            " 26  fuel_lpg            216038 non-null  uint8  \n",
            " 27  fuel_other          216038 non-null  uint8  \n",
            " 28  fuel_petrol         216038 non-null  uint8  \n",
            " 29  fuel_sedan          216038 non-null  uint8  \n",
            " 30  fuel_small          216038 non-null  uint8  \n",
            " 31  fuel_suv            216038 non-null  uint8  \n",
            " 32  fuel_wagon          216038 non-null  uint8  \n",
            " 33  repair_unknown      216038 non-null  uint8  \n",
            " 34  repair_yes          216038 non-null  uint8  \n",
            "dtypes: float64(1), int64(4), uint8(30)\n",
            "memory usage: 16.1 MB\n"
          ]
        },
        {
          "data": {
            "text/plain": [
              "['vehicle_type',\n",
              " 'gearbox',\n",
              " 'registration_month',\n",
              " 'fuel_type',\n",
              " 'repaired',\n",
              " 'model_code',\n",
              " 'vtype_convertible',\n",
              " 'vtype_coupe',\n",
              " 'vtype_other',\n",
              " 'vtype_sedan',\n",
              " 'vtype_small',\n",
              " 'vtype_suv',\n",
              " 'vtype_wagon',\n",
              " 'gear_bus',\n",
              " 'gear_convertible',\n",
              " 'gear_coupe',\n",
              " 'gear_manual',\n",
              " 'gear_sedan',\n",
              " 'gear_small',\n",
              " 'gear_suv',\n",
              " 'gear_wagon',\n",
              " 'fuel_cng',\n",
              " 'fuel_convertible',\n",
              " 'fuel_coupe',\n",
              " 'fuel_electric',\n",
              " 'fuel_gasoline',\n",
              " 'fuel_hybrid',\n",
              " 'fuel_lpg',\n",
              " 'fuel_other',\n",
              " 'fuel_petrol',\n",
              " 'fuel_sedan',\n",
              " 'fuel_small',\n",
              " 'fuel_suv',\n",
              " 'fuel_wagon',\n",
              " 'repair_unknown',\n",
              " 'repair_yes']"
            ]
          },
          "execution_count": 68,
          "metadata": {},
          "output_type": "execute_result"
        }
      ],
      "source": [
        "X_train.info()\n",
        "categorical_features"
      ]
    },
    {
      "cell_type": "code",
      "execution_count": null,
      "metadata": {
        "id": "94HNMmXPIvvj",
        "outputId": "773a921b-48a8-4a0d-b873-83e77f8c3091"
      },
      "outputs": [
        {
          "name": "stdout",
          "output_type": "stream",
          "text": [
            "CPU times: user 4.14 s, sys: 24.5 ms, total: 4.17 s\n",
            "Wall time: 4.12 s\n"
          ]
        },
        {
          "data": {
            "text/plain": [
              "LGBMRegressor(n_jobs=6)"
            ]
          },
          "execution_count": 69,
          "metadata": {},
          "output_type": "execute_result"
        }
      ],
      "source": [
        "%%time\n",
        "lgbm = lightgbm.LGBMRegressor(n_jobs=6)\n",
        "lgbm.fit(X_train, y_train)"
      ]
    },
    {
      "cell_type": "code",
      "execution_count": null,
      "metadata": {
        "id": "7dKh1ziTIvvj",
        "outputId": "9a70085f-2b33-494d-8c21-46576c43ae7d"
      },
      "outputs": [
        {
          "name": "stdout",
          "output_type": "stream",
          "text": [
            "CPU times: user 24.6 s, sys: 385 ms, total: 25 s\n",
            "Wall time: 25 s\n"
          ]
        },
        {
          "data": {
            "text/plain": [
              "GridSearchCV(cv=2, estimator=LGBMRegressor(n_jobs=6), n_jobs=-1,\n",
              "             param_grid={'learning_rate': [0.3, 0.5], 'max_depth': [15, 25]},\n",
              "             scoring='neg_mean_squared_error')"
            ]
          },
          "execution_count": 70,
          "metadata": {},
          "output_type": "execute_result"
        }
      ],
      "source": [
        "%%time\n",
        "train_data = lightgbm.Dataset(X_train, label=y_train,\n",
        "                              free_raw_data=False,\n",
        "                              categorical_feature=categorical_features)\n",
        "test_data = lightgbm.Dataset(X_test, label=y_test)\n",
        "\n",
        "param_grid = {'learning_rate': [0.3, 0.5],\n",
        "              'max_depth': [15, 25],\n",
        "             }\n",
        "\n",
        "lgbm = lightgbm.LGBMRegressor(n_jobs = 6)\n",
        "\n",
        "# инициализируем GridSearchCV\n",
        "grid_search = GridSearchCV(estimator = lgbm,\n",
        "                           param_grid = param_grid,\n",
        "                           cv = 2,\n",
        "                           n_jobs = -1,\n",
        "                           verbose = 0,\n",
        "                           scoring = 'neg_mean_squared_error',\n",
        "                          )\n",
        "grid_search.fit(X_train, y_train)"
      ]
    },
    {
      "cell_type": "markdown",
      "metadata": {
        "id": "-rfM3kzkIvvj"
      },
      "source": [
        "<font color='blue'><b>Комментарий ревьюера 2: </b></font>\\\n",
        "<font color='blue'>Время обучения модели с лучшими параметрами на всех данных (в конце подбора) можно вытащить как  `grid_search.refit_time_`</font>"
      ]
    },
    {
      "cell_type": "code",
      "execution_count": null,
      "metadata": {
        "id": "iRYUB6nRIvvj"
      },
      "outputs": [],
      "source": []
    },
    {
      "cell_type": "code",
      "execution_count": null,
      "metadata": {
        "id": "2bJzde7DIvvj",
        "outputId": "0f464630-b27d-4adc-9284-b6897d26dbf7"
      },
      "outputs": [
        {
          "name": "stdout",
          "output_type": "stream",
          "text": [
            "{'learning_rate': 0.3, 'max_depth': 15}\n"
          ]
        }
      ],
      "source": [
        "print(grid_search.best_params_)"
      ]
    },
    {
      "cell_type": "code",
      "execution_count": null,
      "metadata": {
        "id": "upEAnK4wIvvj",
        "outputId": "71fe9b89-86f3-4564-a592-5cffe1220e92"
      },
      "outputs": [
        {
          "name": "stdout",
          "output_type": "stream",
          "text": [
            "RMSE для LightGBM модели на валидационной выборке: 1662.73\n"
          ]
        }
      ],
      "source": [
        "print('RMSE для LightGBM модели на валидационной выборке: {:.2f}'.format((-grid_search.best_score_) ** 0.5))"
      ]
    },
    {
      "cell_type": "code",
      "execution_count": null,
      "metadata": {
        "id": "Z1NLiiCUIvvj",
        "outputId": "46d24bcf-b8a7-46ce-c125-885d7c56e5a3"
      },
      "outputs": [
        {
          "name": "stdout",
          "output_type": "stream",
          "text": [
            "CPU times: user 363 ms, sys: 49 µs, total: 364 ms\n",
            "Wall time: 309 ms\n"
          ]
        }
      ],
      "source": [
        "%%time\n",
        "preds_lgbm = grid_search.best_estimator_.predict(X_test)"
      ]
    },
    {
      "cell_type": "code",
      "execution_count": null,
      "metadata": {
        "id": "Y9qBanb-Ivvj",
        "outputId": "5a7d9687-1a98-47af-81df-4dcf0036f7ee"
      },
      "outputs": [
        {
          "data": {
            "text/plain": [
              "'RMSE для LightGBM модели на тестовой выборке: 1646.06'"
            ]
          },
          "execution_count": 74,
          "metadata": {},
          "output_type": "execute_result"
        }
      ],
      "source": [
        "mse_lgbm = mean_squared_error(y_test, preds_lgbm)\n",
        "f\"RMSE для LightGBM модели на тестовой выборке: {round((mse_lgbm) ** 0.5, 2)}\""
      ]
    },
    {
      "cell_type": "markdown",
      "metadata": {
        "id": "s9SKNOlaIvvj"
      },
      "source": [
        "Проведено обучение моделей линейной регрессии без/с регуляризацией, а также модели градиентного бустинга LightGBM.\n",
        "\n",
        "Измерены время обучения/предсказания моделей, а так же качество предсказаний по метрике RMSE."
      ]
    },
    {
      "cell_type": "markdown",
      "metadata": {
        "id": "-shtpJZ1Ivvj"
      },
      "source": [
        "## Анализ моделей"
      ]
    },
    {
      "cell_type": "markdown",
      "metadata": {
        "id": "tNRRBdI5Ivvk"
      },
      "source": [
        "Все обученные модели смогли улучшить RMSE базовой модели.\n",
        "\n",
        "Линейная модель без регуляризации для данной задачи показала качество предсказаний не хуже, чем Lasso и Ridge. Метрика RMSE для LightGBM в два раза ниже:\n",
        "\n",
        "Base-line: 4602\n",
        "\n",
        "LinearModel: 3010.86\n",
        "\n",
        "Lasso 3011.25\n",
        "\n",
        "Ridge 3010.84\n",
        "\n",
        "LightGBM: 1662.73\n",
        "\n",
        "По времени обучения Ridge модель оказалась быстрее всех. Lasso значительно уступает линейной модели без регуляризации. Обучение LightGBM оказалось не намного дольше:\n",
        "\n",
        "LinearModel: 802 ms\n",
        "\n",
        "Lasso 26.9 s\n",
        "\n",
        "Ridge 188 ms\n",
        "\n",
        "LightGBM: 4.12 s\n",
        "По времени предсказания линейные модели ведут себя одинаково. LightGBM более тяжелая модель, время предсказания выше на порядок.\n"
      ]
    },
    {
      "cell_type": "markdown",
      "metadata": {
        "id": "Ij-C5AjdIvvk"
      },
      "source": [
        "Вывод\n",
        "\n",
        "Исходя из условий задачи, заказчику важны: 1. качество предсказания; 2. скорость предсказания; 3. время обучения.\n",
        "\n",
        "Исходя из того, что порядок криттериев также учитывает их приоритет, следует отдать предпочтение LightGBM, т.к. она имеет лучшее качество предсказания. Линейная модель выигрывает в скорости предсказания. А Ridge получилась самая быстрая модель в обучении.\n"
      ]
    }
  ],
  "metadata": {
    "ExecuteTimeLog": [
      {
        "duration": 97,
        "start_time": "2023-09-09T08:02:31.551Z"
      },
      {
        "duration": 1222,
        "start_time": "2023-09-09T08:02:36.104Z"
      },
      {
        "duration": 2951,
        "start_time": "2023-09-09T08:02:37.328Z"
      },
      {
        "duration": 3,
        "start_time": "2023-09-09T08:02:40.282Z"
      },
      {
        "duration": 23,
        "start_time": "2023-09-09T08:03:15.823Z"
      },
      {
        "duration": 154,
        "start_time": "2023-09-09T08:03:16.701Z"
      },
      {
        "duration": 5,
        "start_time": "2023-09-09T08:03:17.396Z"
      },
      {
        "duration": 95,
        "start_time": "2023-09-09T08:28:50.171Z"
      },
      {
        "duration": 21,
        "start_time": "2023-09-09T08:46:16.042Z"
      },
      {
        "duration": 116,
        "start_time": "2023-09-09T08:48:51.676Z"
      },
      {
        "duration": 71,
        "start_time": "2023-09-09T08:50:08.334Z"
      },
      {
        "duration": 13,
        "start_time": "2023-09-09T08:50:23.761Z"
      },
      {
        "duration": 155,
        "start_time": "2023-09-09T08:58:59.944Z"
      },
      {
        "duration": 96,
        "start_time": "2023-09-09T08:59:49.580Z"
      },
      {
        "duration": 7,
        "start_time": "2023-09-09T09:13:36.237Z"
      },
      {
        "duration": 17,
        "start_time": "2023-09-09T09:14:49.904Z"
      },
      {
        "duration": 1196,
        "start_time": "2023-09-09T09:15:04.344Z"
      },
      {
        "duration": 785,
        "start_time": "2023-09-09T09:15:05.542Z"
      },
      {
        "duration": 3,
        "start_time": "2023-09-09T09:15:06.329Z"
      },
      {
        "duration": 33,
        "start_time": "2023-09-09T09:15:06.334Z"
      },
      {
        "duration": 138,
        "start_time": "2023-09-09T09:15:06.369Z"
      },
      {
        "duration": 4,
        "start_time": "2023-09-09T09:15:06.509Z"
      },
      {
        "duration": 93,
        "start_time": "2023-09-09T09:15:06.515Z"
      },
      {
        "duration": 34,
        "start_time": "2023-09-09T09:15:06.610Z"
      },
      {
        "duration": 11,
        "start_time": "2023-09-09T09:15:24.455Z"
      },
      {
        "duration": 1515,
        "start_time": "2023-09-09T09:20:58.718Z"
      },
      {
        "duration": 7,
        "start_time": "2023-09-09T09:21:11.382Z"
      },
      {
        "duration": 96,
        "start_time": "2023-09-09T09:21:22.182Z"
      },
      {
        "duration": 6,
        "start_time": "2023-09-09T09:21:33.537Z"
      },
      {
        "duration": 10,
        "start_time": "2023-09-09T09:31:31.674Z"
      },
      {
        "duration": 8,
        "start_time": "2023-09-09T09:31:41.665Z"
      },
      {
        "duration": 36,
        "start_time": "2023-09-09T09:31:48.872Z"
      },
      {
        "duration": 13,
        "start_time": "2023-09-09T09:32:05.882Z"
      },
      {
        "duration": 77,
        "start_time": "2023-09-09T09:33:27.345Z"
      },
      {
        "duration": 27,
        "start_time": "2023-09-09T09:33:44.317Z"
      },
      {
        "duration": 81,
        "start_time": "2023-09-09T09:33:51.359Z"
      },
      {
        "duration": 30,
        "start_time": "2023-09-09T09:34:18.876Z"
      },
      {
        "duration": 67,
        "start_time": "2023-09-09T09:34:19.566Z"
      },
      {
        "duration": 22,
        "start_time": "2023-09-09T09:34:41.234Z"
      },
      {
        "duration": 79,
        "start_time": "2023-09-09T09:34:42.037Z"
      },
      {
        "duration": 22,
        "start_time": "2023-09-09T09:35:35.877Z"
      },
      {
        "duration": 66,
        "start_time": "2023-09-09T09:35:36.372Z"
      },
      {
        "duration": 22,
        "start_time": "2023-09-09T09:35:45.411Z"
      },
      {
        "duration": 64,
        "start_time": "2023-09-09T09:35:45.867Z"
      },
      {
        "duration": 1181,
        "start_time": "2023-09-09T09:43:53.183Z"
      },
      {
        "duration": 776,
        "start_time": "2023-09-09T09:43:54.366Z"
      },
      {
        "duration": 2,
        "start_time": "2023-09-09T09:43:55.144Z"
      },
      {
        "duration": 28,
        "start_time": "2023-09-09T09:43:55.148Z"
      },
      {
        "duration": 141,
        "start_time": "2023-09-09T09:43:55.177Z"
      },
      {
        "duration": 4,
        "start_time": "2023-09-09T09:43:55.319Z"
      },
      {
        "duration": 102,
        "start_time": "2023-09-09T09:43:55.325Z"
      },
      {
        "duration": 33,
        "start_time": "2023-09-09T09:43:55.429Z"
      },
      {
        "duration": 14,
        "start_time": "2023-09-09T09:43:55.464Z"
      },
      {
        "duration": 27,
        "start_time": "2023-09-09T09:43:55.480Z"
      },
      {
        "duration": 75,
        "start_time": "2023-09-09T09:43:55.509Z"
      },
      {
        "duration": 22,
        "start_time": "2023-09-09T09:55:14.447Z"
      },
      {
        "duration": 59,
        "start_time": "2023-09-09T09:55:22.606Z"
      },
      {
        "duration": 5,
        "start_time": "2023-09-09T09:57:35.186Z"
      },
      {
        "duration": 16,
        "start_time": "2023-09-09T09:57:40.166Z"
      },
      {
        "duration": 10,
        "start_time": "2023-09-09T10:00:45.262Z"
      },
      {
        "duration": 18,
        "start_time": "2023-09-09T10:00:47.985Z"
      },
      {
        "duration": 29,
        "start_time": "2023-09-09T10:06:43.339Z"
      },
      {
        "duration": 72,
        "start_time": "2023-09-09T10:06:44.540Z"
      },
      {
        "duration": 12,
        "start_time": "2023-09-09T10:06:48.248Z"
      },
      {
        "duration": 21,
        "start_time": "2023-09-09T10:06:48.829Z"
      },
      {
        "duration": 4,
        "start_time": "2023-09-09T10:07:33.728Z"
      },
      {
        "duration": 10,
        "start_time": "2023-09-09T10:07:36.327Z"
      },
      {
        "duration": 4,
        "start_time": "2023-09-09T10:07:36.657Z"
      },
      {
        "duration": 10,
        "start_time": "2023-09-09T10:07:42.905Z"
      },
      {
        "duration": 4,
        "start_time": "2023-09-09T10:07:43.100Z"
      },
      {
        "duration": 24,
        "start_time": "2023-09-09T10:07:43.423Z"
      },
      {
        "duration": 23,
        "start_time": "2023-09-09T10:07:44.052Z"
      },
      {
        "duration": 101,
        "start_time": "2023-09-09T10:11:16.254Z"
      },
      {
        "duration": 16,
        "start_time": "2023-09-09T10:12:07.419Z"
      },
      {
        "duration": 2,
        "start_time": "2023-09-09T10:20:48.783Z"
      },
      {
        "duration": 116,
        "start_time": "2023-09-09T10:21:10.998Z"
      },
      {
        "duration": 1204,
        "start_time": "2023-09-09T10:21:20.808Z"
      },
      {
        "duration": 830,
        "start_time": "2023-09-09T10:21:22.014Z"
      },
      {
        "duration": 2,
        "start_time": "2023-09-09T10:21:22.846Z"
      },
      {
        "duration": 45,
        "start_time": "2023-09-09T10:21:22.849Z"
      },
      {
        "duration": 149,
        "start_time": "2023-09-09T10:21:22.896Z"
      },
      {
        "duration": 4,
        "start_time": "2023-09-09T10:21:23.047Z"
      },
      {
        "duration": 97,
        "start_time": "2023-09-09T10:21:23.053Z"
      },
      {
        "duration": 27,
        "start_time": "2023-09-09T10:21:23.152Z"
      },
      {
        "duration": 14,
        "start_time": "2023-09-09T10:21:23.180Z"
      },
      {
        "duration": 30,
        "start_time": "2023-09-09T10:21:23.195Z"
      },
      {
        "duration": 42,
        "start_time": "2023-09-09T10:21:23.227Z"
      },
      {
        "duration": 20,
        "start_time": "2023-09-09T10:21:23.270Z"
      },
      {
        "duration": 75,
        "start_time": "2023-09-09T10:21:23.291Z"
      },
      {
        "duration": 8,
        "start_time": "2023-09-09T10:21:23.368Z"
      },
      {
        "duration": 4,
        "start_time": "2023-09-09T10:21:23.377Z"
      },
      {
        "duration": 17,
        "start_time": "2023-09-09T10:21:23.382Z"
      },
      {
        "duration": 21,
        "start_time": "2023-09-09T10:21:23.400Z"
      },
      {
        "duration": 37,
        "start_time": "2023-09-09T10:21:23.422Z"
      },
      {
        "duration": 9,
        "start_time": "2023-09-09T10:21:23.461Z"
      },
      {
        "duration": 134,
        "start_time": "2023-09-09T10:21:23.471Z"
      },
      {
        "duration": 114,
        "start_time": "2023-09-09T10:21:55.302Z"
      },
      {
        "duration": 19,
        "start_time": "2023-09-09T10:22:41.585Z"
      },
      {
        "duration": 107,
        "start_time": "2023-09-09T10:23:22.438Z"
      },
      {
        "duration": 4,
        "start_time": "2023-09-09T10:23:27.958Z"
      },
      {
        "duration": 1196,
        "start_time": "2023-09-09T10:23:58.130Z"
      },
      {
        "duration": 770,
        "start_time": "2023-09-09T10:23:59.328Z"
      },
      {
        "duration": 3,
        "start_time": "2023-09-09T10:24:00.099Z"
      },
      {
        "duration": 46,
        "start_time": "2023-09-09T10:24:00.104Z"
      },
      {
        "duration": 227,
        "start_time": "2023-09-09T10:24:00.153Z"
      },
      {
        "duration": 4,
        "start_time": "2023-09-09T10:24:00.381Z"
      },
      {
        "duration": 105,
        "start_time": "2023-09-09T10:24:00.386Z"
      },
      {
        "duration": 24,
        "start_time": "2023-09-09T10:24:00.493Z"
      },
      {
        "duration": 52,
        "start_time": "2023-09-09T10:24:00.519Z"
      },
      {
        "duration": 51,
        "start_time": "2023-09-09T10:24:00.573Z"
      },
      {
        "duration": 37,
        "start_time": "2023-09-09T10:24:00.626Z"
      },
      {
        "duration": 19,
        "start_time": "2023-09-09T10:24:00.665Z"
      },
      {
        "duration": 75,
        "start_time": "2023-09-09T10:24:00.686Z"
      },
      {
        "duration": 8,
        "start_time": "2023-09-09T10:24:00.765Z"
      },
      {
        "duration": 34,
        "start_time": "2023-09-09T10:24:00.774Z"
      },
      {
        "duration": 45,
        "start_time": "2023-09-09T10:24:00.810Z"
      },
      {
        "duration": 64,
        "start_time": "2023-09-09T10:24:00.857Z"
      },
      {
        "duration": 44,
        "start_time": "2023-09-09T10:24:00.923Z"
      },
      {
        "duration": 18,
        "start_time": "2023-09-09T10:24:00.969Z"
      },
      {
        "duration": 123,
        "start_time": "2023-09-09T10:24:00.988Z"
      },
      {
        "duration": 4,
        "start_time": "2023-09-09T10:24:39.824Z"
      },
      {
        "duration": 77,
        "start_time": "2023-09-09T10:25:28.126Z"
      },
      {
        "duration": 419,
        "start_time": "2023-09-09T10:25:45.856Z"
      },
      {
        "duration": 1177,
        "start_time": "2023-09-09T10:29:00.273Z"
      },
      {
        "duration": 788,
        "start_time": "2023-09-09T10:29:01.452Z"
      },
      {
        "duration": 2,
        "start_time": "2023-09-09T10:29:02.244Z"
      },
      {
        "duration": 32,
        "start_time": "2023-09-09T10:29:02.248Z"
      },
      {
        "duration": 134,
        "start_time": "2023-09-09T10:29:02.282Z"
      },
      {
        "duration": 4,
        "start_time": "2023-09-09T10:29:02.418Z"
      },
      {
        "duration": 102,
        "start_time": "2023-09-09T10:29:02.423Z"
      },
      {
        "duration": 34,
        "start_time": "2023-09-09T10:29:02.526Z"
      },
      {
        "duration": 22,
        "start_time": "2023-09-09T10:29:02.561Z"
      },
      {
        "duration": 32,
        "start_time": "2023-09-09T10:29:02.585Z"
      },
      {
        "duration": 29,
        "start_time": "2023-09-09T10:29:02.618Z"
      },
      {
        "duration": 17,
        "start_time": "2023-09-09T10:29:02.649Z"
      },
      {
        "duration": 52,
        "start_time": "2023-09-09T10:29:02.667Z"
      },
      {
        "duration": 23,
        "start_time": "2023-09-09T10:29:02.722Z"
      },
      {
        "duration": 4,
        "start_time": "2023-09-09T10:29:02.746Z"
      },
      {
        "duration": 25,
        "start_time": "2023-09-09T10:29:02.751Z"
      },
      {
        "duration": 21,
        "start_time": "2023-09-09T10:29:02.777Z"
      },
      {
        "duration": 16,
        "start_time": "2023-09-09T10:29:02.800Z"
      },
      {
        "duration": 6,
        "start_time": "2023-09-09T10:29:02.817Z"
      },
      {
        "duration": 111,
        "start_time": "2023-09-09T10:29:02.824Z"
      },
      {
        "duration": 8,
        "start_time": "2023-09-09T10:29:02.937Z"
      },
      {
        "duration": 395,
        "start_time": "2023-09-09T10:29:02.946Z"
      },
      {
        "duration": 1114,
        "start_time": "2023-09-09T10:30:50.993Z"
      },
      {
        "duration": 781,
        "start_time": "2023-09-09T10:30:52.109Z"
      },
      {
        "duration": 3,
        "start_time": "2023-09-09T10:30:52.891Z"
      },
      {
        "duration": 34,
        "start_time": "2023-09-09T10:30:52.896Z"
      },
      {
        "duration": 138,
        "start_time": "2023-09-09T10:30:52.931Z"
      },
      {
        "duration": 4,
        "start_time": "2023-09-09T10:30:53.070Z"
      },
      {
        "duration": 93,
        "start_time": "2023-09-09T10:30:53.075Z"
      },
      {
        "duration": 24,
        "start_time": "2023-09-09T10:30:53.169Z"
      },
      {
        "duration": 13,
        "start_time": "2023-09-09T10:30:53.195Z"
      },
      {
        "duration": 39,
        "start_time": "2023-09-09T10:30:53.210Z"
      },
      {
        "duration": 26,
        "start_time": "2023-09-09T10:30:53.250Z"
      },
      {
        "duration": 17,
        "start_time": "2023-09-09T10:30:53.278Z"
      },
      {
        "duration": 68,
        "start_time": "2023-09-09T10:30:53.297Z"
      },
      {
        "duration": 7,
        "start_time": "2023-09-09T10:30:53.367Z"
      },
      {
        "duration": 4,
        "start_time": "2023-09-09T10:30:53.376Z"
      },
      {
        "duration": 20,
        "start_time": "2023-09-09T10:30:53.381Z"
      },
      {
        "duration": 25,
        "start_time": "2023-09-09T10:30:53.402Z"
      },
      {
        "duration": 25,
        "start_time": "2023-09-09T10:30:53.428Z"
      },
      {
        "duration": 9,
        "start_time": "2023-09-09T10:30:53.455Z"
      },
      {
        "duration": 99,
        "start_time": "2023-09-09T10:30:53.465Z"
      },
      {
        "duration": 3,
        "start_time": "2023-09-09T10:30:53.566Z"
      },
      {
        "duration": 7,
        "start_time": "2023-09-09T10:30:53.570Z"
      },
      {
        "duration": 96,
        "start_time": "2023-09-09T10:30:53.578Z"
      },
      {
        "duration": 0,
        "start_time": "2023-09-09T10:30:53.676Z"
      },
      {
        "duration": 0,
        "start_time": "2023-09-09T10:30:53.677Z"
      },
      {
        "duration": 0,
        "start_time": "2023-09-09T10:30:53.678Z"
      },
      {
        "duration": 0,
        "start_time": "2023-09-09T10:30:53.679Z"
      },
      {
        "duration": 0,
        "start_time": "2023-09-09T10:30:53.680Z"
      },
      {
        "duration": 1129,
        "start_time": "2023-09-09T10:31:21.102Z"
      },
      {
        "duration": 779,
        "start_time": "2023-09-09T10:31:22.233Z"
      },
      {
        "duration": 3,
        "start_time": "2023-09-09T10:31:23.014Z"
      },
      {
        "duration": 38,
        "start_time": "2023-09-09T10:31:23.018Z"
      },
      {
        "duration": 186,
        "start_time": "2023-09-09T10:31:23.058Z"
      },
      {
        "duration": 4,
        "start_time": "2023-09-09T10:31:23.245Z"
      },
      {
        "duration": 82,
        "start_time": "2023-09-09T10:31:23.250Z"
      },
      {
        "duration": 31,
        "start_time": "2023-09-09T10:31:23.334Z"
      },
      {
        "duration": 10,
        "start_time": "2023-09-09T10:31:23.366Z"
      },
      {
        "duration": 41,
        "start_time": "2023-09-09T10:31:23.378Z"
      },
      {
        "duration": 32,
        "start_time": "2023-09-09T10:31:23.421Z"
      },
      {
        "duration": 18,
        "start_time": "2023-09-09T10:31:23.455Z"
      },
      {
        "duration": 70,
        "start_time": "2023-09-09T10:31:23.475Z"
      },
      {
        "duration": 8,
        "start_time": "2023-09-09T10:31:23.548Z"
      },
      {
        "duration": 14,
        "start_time": "2023-09-09T10:31:23.557Z"
      },
      {
        "duration": 37,
        "start_time": "2023-09-09T10:31:23.573Z"
      },
      {
        "duration": 27,
        "start_time": "2023-09-09T10:31:23.612Z"
      },
      {
        "duration": 42,
        "start_time": "2023-09-09T10:31:23.641Z"
      },
      {
        "duration": 17,
        "start_time": "2023-09-09T10:31:23.684Z"
      },
      {
        "duration": 127,
        "start_time": "2023-09-09T10:31:23.703Z"
      },
      {
        "duration": 3,
        "start_time": "2023-09-09T10:31:23.832Z"
      },
      {
        "duration": 8,
        "start_time": "2023-09-09T10:31:23.843Z"
      },
      {
        "duration": 9,
        "start_time": "2023-09-09T10:31:23.852Z"
      },
      {
        "duration": 21,
        "start_time": "2023-09-09T10:31:23.862Z"
      },
      {
        "duration": 28116,
        "start_time": "2023-09-09T10:31:23.884Z"
      },
      {
        "duration": 4,
        "start_time": "2023-09-09T10:31:52.002Z"
      },
      {
        "duration": 564,
        "start_time": "2023-09-09T10:31:52.008Z"
      },
      {
        "duration": 380,
        "start_time": "2023-09-09T10:31:52.574Z"
      },
      {
        "duration": 9,
        "start_time": "2023-09-09T10:34:14.842Z"
      },
      {
        "duration": 1227,
        "start_time": "2023-09-09T10:34:44.160Z"
      },
      {
        "duration": 843,
        "start_time": "2023-09-09T10:34:45.389Z"
      },
      {
        "duration": 3,
        "start_time": "2023-09-09T10:34:46.234Z"
      },
      {
        "duration": 36,
        "start_time": "2023-09-09T10:34:46.244Z"
      },
      {
        "duration": 213,
        "start_time": "2023-09-09T10:34:46.283Z"
      },
      {
        "duration": 4,
        "start_time": "2023-09-09T10:34:46.497Z"
      },
      {
        "duration": 100,
        "start_time": "2023-09-09T10:34:46.503Z"
      },
      {
        "duration": 27,
        "start_time": "2023-09-09T10:34:46.605Z"
      },
      {
        "duration": 11,
        "start_time": "2023-09-09T10:34:46.644Z"
      },
      {
        "duration": 36,
        "start_time": "2023-09-09T10:34:46.657Z"
      },
      {
        "duration": 28,
        "start_time": "2023-09-09T10:34:46.694Z"
      },
      {
        "duration": 34,
        "start_time": "2023-09-09T10:34:46.724Z"
      },
      {
        "duration": 61,
        "start_time": "2023-09-09T10:34:46.759Z"
      },
      {
        "duration": 24,
        "start_time": "2023-09-09T10:34:46.823Z"
      },
      {
        "duration": 3,
        "start_time": "2023-09-09T10:34:46.849Z"
      },
      {
        "duration": 19,
        "start_time": "2023-09-09T10:34:46.853Z"
      },
      {
        "duration": 16,
        "start_time": "2023-09-09T10:34:46.873Z"
      },
      {
        "duration": 18,
        "start_time": "2023-09-09T10:34:46.890Z"
      },
      {
        "duration": 4,
        "start_time": "2023-09-09T10:34:46.910Z"
      },
      {
        "duration": 129,
        "start_time": "2023-09-09T10:34:46.916Z"
      },
      {
        "duration": 193,
        "start_time": "2023-09-09T10:34:47.047Z"
      },
      {
        "duration": 0,
        "start_time": "2023-09-09T10:34:47.245Z"
      },
      {
        "duration": 0,
        "start_time": "2023-09-09T10:34:47.246Z"
      },
      {
        "duration": 0,
        "start_time": "2023-09-09T10:34:47.248Z"
      },
      {
        "duration": 0,
        "start_time": "2023-09-09T10:34:47.249Z"
      },
      {
        "duration": 0,
        "start_time": "2023-09-09T10:34:47.250Z"
      },
      {
        "duration": 0,
        "start_time": "2023-09-09T10:34:47.252Z"
      },
      {
        "duration": 0,
        "start_time": "2023-09-09T10:34:47.254Z"
      },
      {
        "duration": 0,
        "start_time": "2023-09-09T10:34:47.255Z"
      },
      {
        "duration": 1187,
        "start_time": "2023-09-09T10:36:04.355Z"
      },
      {
        "duration": 798,
        "start_time": "2023-09-09T10:36:05.543Z"
      },
      {
        "duration": 3,
        "start_time": "2023-09-09T10:36:06.343Z"
      },
      {
        "duration": 43,
        "start_time": "2023-09-09T10:36:06.347Z"
      },
      {
        "duration": 192,
        "start_time": "2023-09-09T10:36:06.392Z"
      },
      {
        "duration": 3,
        "start_time": "2023-09-09T10:36:06.586Z"
      },
      {
        "duration": 92,
        "start_time": "2023-09-09T10:36:06.590Z"
      },
      {
        "duration": 27,
        "start_time": "2023-09-09T10:36:06.684Z"
      },
      {
        "duration": 18,
        "start_time": "2023-09-09T10:36:06.713Z"
      },
      {
        "duration": 40,
        "start_time": "2023-09-09T10:36:06.733Z"
      },
      {
        "duration": 26,
        "start_time": "2023-09-09T10:36:06.774Z"
      },
      {
        "duration": 18,
        "start_time": "2023-09-09T10:36:06.802Z"
      },
      {
        "duration": 75,
        "start_time": "2023-09-09T10:36:06.824Z"
      },
      {
        "duration": 9,
        "start_time": "2023-09-09T10:36:06.901Z"
      },
      {
        "duration": 10,
        "start_time": "2023-09-09T10:36:06.911Z"
      },
      {
        "duration": 29,
        "start_time": "2023-09-09T10:36:06.922Z"
      },
      {
        "duration": 22,
        "start_time": "2023-09-09T10:36:06.952Z"
      },
      {
        "duration": 16,
        "start_time": "2023-09-09T10:36:06.976Z"
      },
      {
        "duration": 107,
        "start_time": "2023-09-09T10:36:06.994Z"
      },
      {
        "duration": 0,
        "start_time": "2023-09-09T10:36:07.103Z"
      },
      {
        "duration": 0,
        "start_time": "2023-09-09T10:36:07.104Z"
      },
      {
        "duration": 11,
        "start_time": "2023-09-09T10:36:34.897Z"
      },
      {
        "duration": 54,
        "start_time": "2023-09-09T10:36:36.486Z"
      },
      {
        "duration": 82,
        "start_time": "2023-09-09T10:36:37.146Z"
      },
      {
        "duration": 1189,
        "start_time": "2023-09-09T10:40:58.379Z"
      },
      {
        "duration": 833,
        "start_time": "2023-09-09T10:40:59.570Z"
      },
      {
        "duration": 3,
        "start_time": "2023-09-09T10:41:00.404Z"
      },
      {
        "duration": 157,
        "start_time": "2023-09-09T10:41:00.408Z"
      },
      {
        "duration": 240,
        "start_time": "2023-09-09T10:41:00.567Z"
      },
      {
        "duration": 4,
        "start_time": "2023-09-09T10:41:00.808Z"
      },
      {
        "duration": 123,
        "start_time": "2023-09-09T10:41:00.813Z"
      },
      {
        "duration": 39,
        "start_time": "2023-09-09T10:41:00.937Z"
      },
      {
        "duration": 44,
        "start_time": "2023-09-09T10:41:00.977Z"
      },
      {
        "duration": 78,
        "start_time": "2023-09-09T10:41:01.024Z"
      },
      {
        "duration": 31,
        "start_time": "2023-09-09T10:41:01.104Z"
      },
      {
        "duration": 34,
        "start_time": "2023-09-09T10:41:01.137Z"
      },
      {
        "duration": 62,
        "start_time": "2023-09-09T10:41:01.172Z"
      },
      {
        "duration": 9,
        "start_time": "2023-09-09T10:41:01.236Z"
      },
      {
        "duration": 20,
        "start_time": "2023-09-09T10:41:01.247Z"
      },
      {
        "duration": 34,
        "start_time": "2023-09-09T10:41:01.269Z"
      },
      {
        "duration": 36,
        "start_time": "2023-09-09T10:41:01.305Z"
      },
      {
        "duration": 43,
        "start_time": "2023-09-09T10:41:01.343Z"
      },
      {
        "duration": 96,
        "start_time": "2023-09-09T10:41:01.387Z"
      },
      {
        "duration": 122,
        "start_time": "2023-09-09T10:41:27.814Z"
      },
      {
        "duration": 1214,
        "start_time": "2023-09-09T10:42:34.012Z"
      },
      {
        "duration": 775,
        "start_time": "2023-09-09T10:42:35.228Z"
      },
      {
        "duration": 2,
        "start_time": "2023-09-09T10:42:36.005Z"
      },
      {
        "duration": 26,
        "start_time": "2023-09-09T10:42:36.009Z"
      },
      {
        "duration": 180,
        "start_time": "2023-09-09T10:42:36.043Z"
      },
      {
        "duration": 3,
        "start_time": "2023-09-09T10:42:36.225Z"
      },
      {
        "duration": 107,
        "start_time": "2023-09-09T10:42:36.229Z"
      },
      {
        "duration": 26,
        "start_time": "2023-09-09T10:42:36.338Z"
      },
      {
        "duration": 11,
        "start_time": "2023-09-09T10:42:36.366Z"
      },
      {
        "duration": 33,
        "start_time": "2023-09-09T10:42:36.378Z"
      },
      {
        "duration": 35,
        "start_time": "2023-09-09T10:42:36.412Z"
      },
      {
        "duration": 19,
        "start_time": "2023-09-09T10:42:36.448Z"
      },
      {
        "duration": 54,
        "start_time": "2023-09-09T10:42:36.469Z"
      },
      {
        "duration": 24,
        "start_time": "2023-09-09T10:42:36.526Z"
      },
      {
        "duration": 4,
        "start_time": "2023-09-09T10:42:36.552Z"
      },
      {
        "duration": 17,
        "start_time": "2023-09-09T10:42:36.557Z"
      },
      {
        "duration": 14,
        "start_time": "2023-09-09T10:42:36.576Z"
      },
      {
        "duration": 24,
        "start_time": "2023-09-09T10:42:36.592Z"
      },
      {
        "duration": 85,
        "start_time": "2023-09-09T10:42:36.617Z"
      },
      {
        "duration": 284,
        "start_time": "2023-09-09T10:42:36.704Z"
      },
      {
        "duration": 118,
        "start_time": "2023-09-09T10:42:36.990Z"
      },
      {
        "duration": 9,
        "start_time": "2023-09-09T10:44:09.748Z"
      },
      {
        "duration": 4,
        "start_time": "2023-09-09T10:44:51.337Z"
      },
      {
        "duration": 3,
        "start_time": "2023-09-09T10:46:47.286Z"
      },
      {
        "duration": 19,
        "start_time": "2023-09-09T10:46:52.677Z"
      },
      {
        "duration": 1182,
        "start_time": "2023-09-09T10:46:59.263Z"
      },
      {
        "duration": 827,
        "start_time": "2023-09-09T10:47:00.448Z"
      },
      {
        "duration": 3,
        "start_time": "2023-09-09T10:47:01.277Z"
      },
      {
        "duration": 43,
        "start_time": "2023-09-09T10:47:01.282Z"
      },
      {
        "duration": 203,
        "start_time": "2023-09-09T10:47:01.327Z"
      },
      {
        "duration": 4,
        "start_time": "2023-09-09T10:47:01.531Z"
      },
      {
        "duration": 112,
        "start_time": "2023-09-09T10:47:01.536Z"
      },
      {
        "duration": 24,
        "start_time": "2023-09-09T10:47:01.650Z"
      },
      {
        "duration": 25,
        "start_time": "2023-09-09T10:47:01.676Z"
      },
      {
        "duration": 50,
        "start_time": "2023-09-09T10:47:01.702Z"
      },
      {
        "duration": 36,
        "start_time": "2023-09-09T10:47:01.754Z"
      },
      {
        "duration": 18,
        "start_time": "2023-09-09T10:47:01.791Z"
      },
      {
        "duration": 61,
        "start_time": "2023-09-09T10:47:01.811Z"
      },
      {
        "duration": 8,
        "start_time": "2023-09-09T10:47:01.874Z"
      },
      {
        "duration": 22,
        "start_time": "2023-09-09T10:47:01.883Z"
      },
      {
        "duration": 47,
        "start_time": "2023-09-09T10:47:01.907Z"
      },
      {
        "duration": 28,
        "start_time": "2023-09-09T10:47:01.955Z"
      },
      {
        "duration": 31,
        "start_time": "2023-09-09T10:47:01.985Z"
      },
      {
        "duration": 11,
        "start_time": "2023-09-09T10:47:02.017Z"
      },
      {
        "duration": 123,
        "start_time": "2023-09-09T10:47:02.029Z"
      },
      {
        "duration": 106,
        "start_time": "2023-09-09T10:47:18.329Z"
      },
      {
        "duration": 4,
        "start_time": "2023-09-09T10:48:29.462Z"
      },
      {
        "duration": 11,
        "start_time": "2023-09-09T10:49:32.417Z"
      },
      {
        "duration": 2,
        "start_time": "2023-09-09T10:50:37.450Z"
      },
      {
        "duration": 116,
        "start_time": "2023-09-09T10:50:38.078Z"
      },
      {
        "duration": 3,
        "start_time": "2023-09-09T10:50:42.526Z"
      },
      {
        "duration": 67,
        "start_time": "2023-09-09T10:50:44.930Z"
      },
      {
        "duration": 130,
        "start_time": "2023-09-09T10:51:22.788Z"
      },
      {
        "duration": 4,
        "start_time": "2023-09-09T10:53:07.834Z"
      },
      {
        "duration": 106,
        "start_time": "2023-09-09T10:53:20.876Z"
      },
      {
        "duration": 5,
        "start_time": "2023-09-09T10:53:40.835Z"
      },
      {
        "duration": 3,
        "start_time": "2023-09-09T10:53:46.752Z"
      },
      {
        "duration": 27592,
        "start_time": "2023-09-09T10:53:52.301Z"
      },
      {
        "duration": 4,
        "start_time": "2023-09-09T10:54:19.895Z"
      },
      {
        "duration": 19,
        "start_time": "2023-09-09T10:54:19.901Z"
      },
      {
        "duration": 3,
        "start_time": "2023-09-09T10:54:29.658Z"
      },
      {
        "duration": 3,
        "start_time": "2023-09-09T10:54:30.027Z"
      },
      {
        "duration": 3,
        "start_time": "2023-09-09T10:54:30.327Z"
      },
      {
        "duration": 28392,
        "start_time": "2023-09-09T10:54:30.515Z"
      },
      {
        "duration": 3,
        "start_time": "2023-09-09T10:54:58.909Z"
      },
      {
        "duration": 546,
        "start_time": "2023-09-09T10:54:58.914Z"
      },
      {
        "duration": 81,
        "start_time": "2023-09-09T10:54:59.462Z"
      },
      {
        "duration": 273,
        "start_time": "2023-09-09T10:55:08.502Z"
      },
      {
        "duration": 3,
        "start_time": "2023-09-09T10:56:25.957Z"
      },
      {
        "duration": 40587,
        "start_time": "2023-09-09T10:56:31.168Z"
      },
      {
        "duration": 3,
        "start_time": "2023-09-09T11:12:13.328Z"
      },
      {
        "duration": 20,
        "start_time": "2023-09-09T11:12:25.322Z"
      },
      {
        "duration": 16,
        "start_time": "2023-09-09T11:12:35.394Z"
      },
      {
        "duration": 13,
        "start_time": "2023-09-09T11:12:48.805Z"
      },
      {
        "duration": 11,
        "start_time": "2023-09-09T11:13:07.037Z"
      },
      {
        "duration": 69,
        "start_time": "2023-09-09T11:13:36.513Z"
      },
      {
        "duration": 4,
        "start_time": "2023-09-09T11:13:59.132Z"
      },
      {
        "duration": 5,
        "start_time": "2023-09-09T11:14:08.274Z"
      },
      {
        "duration": 4,
        "start_time": "2023-09-09T11:14:08.665Z"
      },
      {
        "duration": 3,
        "start_time": "2023-09-09T11:14:32.643Z"
      },
      {
        "duration": 86,
        "start_time": "2023-09-09T11:14:40.300Z"
      },
      {
        "duration": 5,
        "start_time": "2023-09-09T11:15:10.008Z"
      },
      {
        "duration": 1112,
        "start_time": "2023-09-09T11:15:17.126Z"
      },
      {
        "duration": 1172,
        "start_time": "2023-09-09T11:18:08.278Z"
      },
      {
        "duration": 818,
        "start_time": "2023-09-09T11:18:09.453Z"
      },
      {
        "duration": 3,
        "start_time": "2023-09-09T11:18:10.272Z"
      },
      {
        "duration": 97,
        "start_time": "2023-09-09T11:18:10.277Z"
      },
      {
        "duration": 152,
        "start_time": "2023-09-09T11:18:10.376Z"
      },
      {
        "duration": 4,
        "start_time": "2023-09-09T11:18:10.530Z"
      },
      {
        "duration": 91,
        "start_time": "2023-09-09T11:18:10.545Z"
      },
      {
        "duration": 27,
        "start_time": "2023-09-09T11:18:10.643Z"
      },
      {
        "duration": 31,
        "start_time": "2023-09-09T11:18:10.672Z"
      },
      {
        "duration": 43,
        "start_time": "2023-09-09T11:18:10.705Z"
      },
      {
        "duration": 29,
        "start_time": "2023-09-09T11:18:10.750Z"
      },
      {
        "duration": 20,
        "start_time": "2023-09-09T11:18:10.781Z"
      },
      {
        "duration": 79,
        "start_time": "2023-09-09T11:18:10.803Z"
      },
      {
        "duration": 11,
        "start_time": "2023-09-09T11:18:10.886Z"
      },
      {
        "duration": 6,
        "start_time": "2023-09-09T11:18:10.899Z"
      },
      {
        "duration": 41,
        "start_time": "2023-09-09T11:18:10.906Z"
      },
      {
        "duration": 24,
        "start_time": "2023-09-09T11:18:10.949Z"
      },
      {
        "duration": 21,
        "start_time": "2023-09-09T11:18:10.975Z"
      },
      {
        "duration": 3,
        "start_time": "2023-09-09T11:18:10.998Z"
      },
      {
        "duration": 196,
        "start_time": "2023-09-09T11:18:11.003Z"
      },
      {
        "duration": 73,
        "start_time": "2023-09-09T11:18:11.201Z"
      },
      {
        "duration": 3,
        "start_time": "2023-09-09T11:18:11.275Z"
      },
      {
        "duration": 106,
        "start_time": "2023-09-09T11:18:11.280Z"
      },
      {
        "duration": 0,
        "start_time": "2023-09-09T11:18:11.387Z"
      },
      {
        "duration": 0,
        "start_time": "2023-09-09T11:18:11.388Z"
      },
      {
        "duration": 0,
        "start_time": "2023-09-09T11:18:11.389Z"
      },
      {
        "duration": 0,
        "start_time": "2023-09-09T11:18:11.390Z"
      },
      {
        "duration": 0,
        "start_time": "2023-09-09T11:18:11.391Z"
      },
      {
        "duration": 0,
        "start_time": "2023-09-09T11:18:11.392Z"
      },
      {
        "duration": 0,
        "start_time": "2023-09-09T11:18:11.393Z"
      },
      {
        "duration": 0,
        "start_time": "2023-09-09T11:18:11.394Z"
      },
      {
        "duration": 0,
        "start_time": "2023-09-09T11:18:11.395Z"
      },
      {
        "duration": 0,
        "start_time": "2023-09-09T11:18:11.396Z"
      },
      {
        "duration": 0,
        "start_time": "2023-09-09T11:18:11.397Z"
      },
      {
        "duration": 0,
        "start_time": "2023-09-09T11:18:11.398Z"
      },
      {
        "duration": 0,
        "start_time": "2023-09-09T11:18:11.398Z"
      },
      {
        "duration": 0,
        "start_time": "2023-09-09T11:18:11.399Z"
      },
      {
        "duration": 0,
        "start_time": "2023-09-09T11:18:11.400Z"
      },
      {
        "duration": 0,
        "start_time": "2023-09-09T11:18:11.401Z"
      },
      {
        "duration": 0,
        "start_time": "2023-09-09T11:18:11.403Z"
      },
      {
        "duration": 0,
        "start_time": "2023-09-09T11:18:11.404Z"
      },
      {
        "duration": 9,
        "start_time": "2023-09-09T11:18:26.939Z"
      },
      {
        "duration": 3,
        "start_time": "2023-09-09T11:18:53.490Z"
      },
      {
        "duration": 64,
        "start_time": "2023-09-09T11:18:53.946Z"
      },
      {
        "duration": 73,
        "start_time": "2023-09-09T11:18:54.472Z"
      },
      {
        "duration": 48,
        "start_time": "2023-09-09T11:18:54.816Z"
      },
      {
        "duration": 1531,
        "start_time": "2023-09-09T11:18:55.057Z"
      },
      {
        "duration": 10,
        "start_time": "2023-09-09T11:19:05.444Z"
      },
      {
        "duration": 17,
        "start_time": "2023-09-09T11:19:12.269Z"
      },
      {
        "duration": 128,
        "start_time": "2023-09-09T11:19:21.975Z"
      },
      {
        "duration": 5,
        "start_time": "2023-09-09T11:19:25.672Z"
      },
      {
        "duration": 3,
        "start_time": "2023-09-09T11:19:26.443Z"
      },
      {
        "duration": 4,
        "start_time": "2023-09-09T11:19:26.939Z"
      },
      {
        "duration": 3,
        "start_time": "2023-09-09T11:19:27.397Z"
      },
      {
        "duration": 40862,
        "start_time": "2023-09-09T11:19:27.831Z"
      },
      {
        "duration": 5,
        "start_time": "2023-09-09T11:20:08.695Z"
      },
      {
        "duration": 869,
        "start_time": "2023-09-09T11:20:08.701Z"
      },
      {
        "duration": 3,
        "start_time": "2023-09-09T11:20:09.572Z"
      },
      {
        "duration": 72,
        "start_time": "2023-09-09T11:20:09.577Z"
      },
      {
        "duration": 3,
        "start_time": "2023-09-09T11:20:09.651Z"
      },
      {
        "duration": 10,
        "start_time": "2023-09-09T11:20:09.656Z"
      },
      {
        "duration": 5,
        "start_time": "2023-09-09T11:20:09.668Z"
      },
      {
        "duration": 963,
        "start_time": "2023-09-09T11:20:09.675Z"
      },
      {
        "duration": 1477,
        "start_time": "2023-09-09T11:21:23.274Z"
      },
      {
        "duration": 1169,
        "start_time": "2023-09-09T11:24:54.771Z"
      },
      {
        "duration": 874,
        "start_time": "2023-09-09T11:24:55.941Z"
      },
      {
        "duration": 3,
        "start_time": "2023-09-09T11:24:56.817Z"
      },
      {
        "duration": 101,
        "start_time": "2023-09-09T11:24:56.821Z"
      },
      {
        "duration": 162,
        "start_time": "2023-09-09T11:24:56.926Z"
      },
      {
        "duration": 3,
        "start_time": "2023-09-09T11:24:57.090Z"
      },
      {
        "duration": 130,
        "start_time": "2023-09-09T11:24:57.095Z"
      },
      {
        "duration": 31,
        "start_time": "2023-09-09T11:24:57.227Z"
      },
      {
        "duration": 24,
        "start_time": "2023-09-09T11:24:57.260Z"
      },
      {
        "duration": 48,
        "start_time": "2023-09-09T11:24:57.286Z"
      },
      {
        "duration": 28,
        "start_time": "2023-09-09T11:24:57.335Z"
      },
      {
        "duration": 19,
        "start_time": "2023-09-09T11:24:57.364Z"
      },
      {
        "duration": 70,
        "start_time": "2023-09-09T11:24:57.385Z"
      },
      {
        "duration": 8,
        "start_time": "2023-09-09T11:24:57.458Z"
      },
      {
        "duration": 5,
        "start_time": "2023-09-09T11:24:57.468Z"
      },
      {
        "duration": 26,
        "start_time": "2023-09-09T11:24:57.474Z"
      },
      {
        "duration": 18,
        "start_time": "2023-09-09T11:24:57.502Z"
      },
      {
        "duration": 30,
        "start_time": "2023-09-09T11:24:57.521Z"
      },
      {
        "duration": 3,
        "start_time": "2023-09-09T11:24:57.553Z"
      },
      {
        "duration": 132,
        "start_time": "2023-09-09T11:24:57.558Z"
      },
      {
        "duration": 61,
        "start_time": "2023-09-09T11:24:57.691Z"
      },
      {
        "duration": 3,
        "start_time": "2023-09-09T11:24:57.754Z"
      },
      {
        "duration": 81,
        "start_time": "2023-09-09T11:24:57.759Z"
      },
      {
        "duration": 61,
        "start_time": "2023-09-09T11:24:57.842Z"
      },
      {
        "duration": 60,
        "start_time": "2023-09-09T11:24:57.905Z"
      },
      {
        "duration": 14,
        "start_time": "2023-09-09T11:24:57.966Z"
      },
      {
        "duration": 127,
        "start_time": "2023-09-09T11:24:57.982Z"
      },
      {
        "duration": 3,
        "start_time": "2023-09-09T11:24:58.111Z"
      },
      {
        "duration": 4,
        "start_time": "2023-09-09T11:24:58.116Z"
      },
      {
        "duration": 6,
        "start_time": "2023-09-09T11:24:58.122Z"
      },
      {
        "duration": 15,
        "start_time": "2023-09-09T11:24:58.129Z"
      },
      {
        "duration": 39184,
        "start_time": "2023-09-09T11:24:58.146Z"
      },
      {
        "duration": 13,
        "start_time": "2023-09-09T11:25:37.332Z"
      },
      {
        "duration": 847,
        "start_time": "2023-09-09T11:25:37.347Z"
      },
      {
        "duration": 2,
        "start_time": "2023-09-09T11:25:38.196Z"
      },
      {
        "duration": 87,
        "start_time": "2023-09-09T11:25:38.200Z"
      },
      {
        "duration": 7,
        "start_time": "2023-09-09T11:25:38.289Z"
      },
      {
        "duration": 6,
        "start_time": "2023-09-09T11:25:38.297Z"
      },
      {
        "duration": 3,
        "start_time": "2023-09-09T11:25:38.305Z"
      },
      {
        "duration": 1477,
        "start_time": "2023-09-09T11:25:38.310Z"
      },
      {
        "duration": 1321,
        "start_time": "2023-09-09T11:26:45.632Z"
      },
      {
        "duration": 955,
        "start_time": "2023-09-09T11:26:46.955Z"
      },
      {
        "duration": 3,
        "start_time": "2023-09-09T11:26:47.914Z"
      },
      {
        "duration": 92,
        "start_time": "2023-09-09T11:26:47.918Z"
      },
      {
        "duration": 169,
        "start_time": "2023-09-09T11:26:48.012Z"
      },
      {
        "duration": 4,
        "start_time": "2023-09-09T11:26:48.183Z"
      },
      {
        "duration": 104,
        "start_time": "2023-09-09T11:26:48.188Z"
      },
      {
        "duration": 30,
        "start_time": "2023-09-09T11:26:48.293Z"
      },
      {
        "duration": 27,
        "start_time": "2023-09-09T11:26:48.327Z"
      },
      {
        "duration": 36,
        "start_time": "2023-09-09T11:26:48.356Z"
      },
      {
        "duration": 29,
        "start_time": "2023-09-09T11:26:48.394Z"
      },
      {
        "duration": 36,
        "start_time": "2023-09-09T11:26:48.424Z"
      },
      {
        "duration": 59,
        "start_time": "2023-09-09T11:26:48.462Z"
      },
      {
        "duration": 24,
        "start_time": "2023-09-09T11:26:48.522Z"
      },
      {
        "duration": 3,
        "start_time": "2023-09-09T11:26:48.548Z"
      },
      {
        "duration": 21,
        "start_time": "2023-09-09T11:26:48.553Z"
      },
      {
        "duration": 17,
        "start_time": "2023-09-09T11:26:48.575Z"
      },
      {
        "duration": 20,
        "start_time": "2023-09-09T11:26:48.593Z"
      },
      {
        "duration": 227,
        "start_time": "2023-09-09T11:26:48.615Z"
      },
      {
        "duration": 140,
        "start_time": "2023-09-09T11:26:48.845Z"
      },
      {
        "duration": 0,
        "start_time": "2023-09-09T11:26:48.987Z"
      },
      {
        "duration": 0,
        "start_time": "2023-09-09T11:26:48.989Z"
      },
      {
        "duration": 0,
        "start_time": "2023-09-09T11:26:48.991Z"
      },
      {
        "duration": 0,
        "start_time": "2023-09-09T11:26:48.992Z"
      },
      {
        "duration": 0,
        "start_time": "2023-09-09T11:26:48.993Z"
      },
      {
        "duration": 0,
        "start_time": "2023-09-09T11:26:48.995Z"
      },
      {
        "duration": 0,
        "start_time": "2023-09-09T11:26:48.996Z"
      },
      {
        "duration": 0,
        "start_time": "2023-09-09T11:26:48.998Z"
      },
      {
        "duration": 0,
        "start_time": "2023-09-09T11:26:48.999Z"
      },
      {
        "duration": 0,
        "start_time": "2023-09-09T11:26:49.001Z"
      },
      {
        "duration": 0,
        "start_time": "2023-09-09T11:26:49.003Z"
      },
      {
        "duration": 0,
        "start_time": "2023-09-09T11:26:49.004Z"
      },
      {
        "duration": 0,
        "start_time": "2023-09-09T11:26:49.005Z"
      },
      {
        "duration": 0,
        "start_time": "2023-09-09T11:26:49.007Z"
      },
      {
        "duration": 0,
        "start_time": "2023-09-09T11:26:49.008Z"
      },
      {
        "duration": 0,
        "start_time": "2023-09-09T11:26:49.045Z"
      },
      {
        "duration": 0,
        "start_time": "2023-09-09T11:26:49.047Z"
      },
      {
        "duration": 0,
        "start_time": "2023-09-09T11:26:49.048Z"
      },
      {
        "duration": 0,
        "start_time": "2023-09-09T11:26:49.050Z"
      },
      {
        "duration": 1263,
        "start_time": "2023-09-09T11:27:13.069Z"
      },
      {
        "duration": 899,
        "start_time": "2023-09-09T11:27:14.334Z"
      },
      {
        "duration": 10,
        "start_time": "2023-09-09T11:27:15.235Z"
      },
      {
        "duration": 81,
        "start_time": "2023-09-09T11:27:15.247Z"
      },
      {
        "duration": 160,
        "start_time": "2023-09-09T11:27:15.330Z"
      },
      {
        "duration": 4,
        "start_time": "2023-09-09T11:27:15.492Z"
      },
      {
        "duration": 119,
        "start_time": "2023-09-09T11:27:15.498Z"
      },
      {
        "duration": 32,
        "start_time": "2023-09-09T11:27:15.619Z"
      },
      {
        "duration": 11,
        "start_time": "2023-09-09T11:27:15.653Z"
      },
      {
        "duration": 35,
        "start_time": "2023-09-09T11:27:15.667Z"
      },
      {
        "duration": 43,
        "start_time": "2023-09-09T11:27:15.704Z"
      },
      {
        "duration": 20,
        "start_time": "2023-09-09T11:27:15.749Z"
      },
      {
        "duration": 75,
        "start_time": "2023-09-09T11:27:15.770Z"
      },
      {
        "duration": 8,
        "start_time": "2023-09-09T11:27:15.847Z"
      },
      {
        "duration": 6,
        "start_time": "2023-09-09T11:27:15.857Z"
      },
      {
        "duration": 17,
        "start_time": "2023-09-09T11:27:15.864Z"
      },
      {
        "duration": 16,
        "start_time": "2023-09-09T11:27:15.882Z"
      },
      {
        "duration": 45,
        "start_time": "2023-09-09T11:27:15.900Z"
      },
      {
        "duration": 136,
        "start_time": "2023-09-09T11:27:15.947Z"
      },
      {
        "duration": 3,
        "start_time": "2023-09-09T11:27:16.085Z"
      },
      {
        "duration": 81,
        "start_time": "2023-09-09T11:27:16.090Z"
      },
      {
        "duration": 74,
        "start_time": "2023-09-09T11:27:16.173Z"
      },
      {
        "duration": 58,
        "start_time": "2023-09-09T11:27:16.249Z"
      },
      {
        "duration": 17,
        "start_time": "2023-09-09T11:27:16.308Z"
      },
      {
        "duration": 114,
        "start_time": "2023-09-09T11:27:16.345Z"
      },
      {
        "duration": 3,
        "start_time": "2023-09-09T11:27:16.461Z"
      },
      {
        "duration": 6,
        "start_time": "2023-09-09T11:27:16.466Z"
      },
      {
        "duration": 6,
        "start_time": "2023-09-09T11:27:16.475Z"
      },
      {
        "duration": 30,
        "start_time": "2023-09-09T11:27:16.482Z"
      },
      {
        "duration": 37620,
        "start_time": "2023-09-09T11:27:16.514Z"
      },
      {
        "duration": 10,
        "start_time": "2023-09-09T11:27:54.136Z"
      },
      {
        "duration": 798,
        "start_time": "2023-09-09T11:27:54.147Z"
      },
      {
        "duration": 105,
        "start_time": "2023-09-09T11:27:54.947Z"
      },
      {
        "duration": 0,
        "start_time": "2023-09-09T11:27:55.054Z"
      },
      {
        "duration": 0,
        "start_time": "2023-09-09T11:27:55.056Z"
      },
      {
        "duration": 0,
        "start_time": "2023-09-09T11:27:55.057Z"
      },
      {
        "duration": 0,
        "start_time": "2023-09-09T11:27:55.058Z"
      },
      {
        "duration": 0,
        "start_time": "2023-09-09T11:27:55.059Z"
      },
      {
        "duration": 3,
        "start_time": "2023-09-09T11:28:37.270Z"
      },
      {
        "duration": 50,
        "start_time": "2023-09-09T11:28:38.207Z"
      },
      {
        "duration": 3,
        "start_time": "2023-09-09T11:28:38.770Z"
      },
      {
        "duration": 4,
        "start_time": "2023-09-09T11:28:39.324Z"
      },
      {
        "duration": 3,
        "start_time": "2023-09-09T11:28:39.827Z"
      },
      {
        "duration": 19,
        "start_time": "2023-09-09T11:28:40.656Z"
      },
      {
        "duration": 323,
        "start_time": "2023-09-09T11:29:31.011Z"
      },
      {
        "duration": 3,
        "start_time": "2023-09-09T11:31:16.279Z"
      },
      {
        "duration": 16,
        "start_time": "2023-09-09T11:31:30.694Z"
      },
      {
        "duration": 1235,
        "start_time": "2023-09-09T11:31:36.132Z"
      },
      {
        "duration": 805,
        "start_time": "2023-09-09T11:31:37.369Z"
      },
      {
        "duration": 3,
        "start_time": "2023-09-09T11:31:38.176Z"
      },
      {
        "duration": 87,
        "start_time": "2023-09-09T11:31:38.181Z"
      },
      {
        "duration": 183,
        "start_time": "2023-09-09T11:31:38.270Z"
      },
      {
        "duration": 4,
        "start_time": "2023-09-09T11:31:38.455Z"
      },
      {
        "duration": 106,
        "start_time": "2023-09-09T11:31:38.461Z"
      },
      {
        "duration": 24,
        "start_time": "2023-09-09T11:31:38.569Z"
      },
      {
        "duration": 15,
        "start_time": "2023-09-09T11:31:38.595Z"
      },
      {
        "duration": 46,
        "start_time": "2023-09-09T11:31:38.613Z"
      },
      {
        "duration": 27,
        "start_time": "2023-09-09T11:31:38.660Z"
      },
      {
        "duration": 19,
        "start_time": "2023-09-09T11:31:38.688Z"
      },
      {
        "duration": 76,
        "start_time": "2023-09-09T11:31:38.708Z"
      },
      {
        "duration": 8,
        "start_time": "2023-09-09T11:31:38.786Z"
      },
      {
        "duration": 4,
        "start_time": "2023-09-09T11:31:38.795Z"
      },
      {
        "duration": 19,
        "start_time": "2023-09-09T11:31:38.800Z"
      },
      {
        "duration": 36,
        "start_time": "2023-09-09T11:31:38.821Z"
      },
      {
        "duration": 19,
        "start_time": "2023-09-09T11:31:38.858Z"
      },
      {
        "duration": 6,
        "start_time": "2023-09-09T11:31:38.879Z"
      },
      {
        "duration": 126,
        "start_time": "2023-09-09T11:31:38.887Z"
      },
      {
        "duration": 81,
        "start_time": "2023-09-09T11:31:39.015Z"
      },
      {
        "duration": 3,
        "start_time": "2023-09-09T11:31:39.098Z"
      },
      {
        "duration": 95,
        "start_time": "2023-09-09T11:31:39.102Z"
      },
      {
        "duration": 70,
        "start_time": "2023-09-09T11:31:39.199Z"
      },
      {
        "duration": 46,
        "start_time": "2023-09-09T11:31:39.271Z"
      },
      {
        "duration": 26,
        "start_time": "2023-09-09T11:31:39.319Z"
      },
      {
        "duration": 124,
        "start_time": "2023-09-09T11:31:39.347Z"
      },
      {
        "duration": 3,
        "start_time": "2023-09-09T11:31:39.475Z"
      },
      {
        "duration": 147,
        "start_time": "2023-09-09T11:31:39.480Z"
      },
      {
        "duration": 114,
        "start_time": "2023-09-09T11:31:39.628Z"
      },
      {
        "duration": 30,
        "start_time": "2023-09-09T11:31:39.744Z"
      },
      {
        "duration": 40514,
        "start_time": "2023-09-09T11:31:39.776Z"
      },
      {
        "duration": 4,
        "start_time": "2023-09-09T11:32:20.292Z"
      },
      {
        "duration": 960,
        "start_time": "2023-09-09T11:32:20.298Z"
      },
      {
        "duration": 1546,
        "start_time": "2023-09-09T11:34:27.762Z"
      },
      {
        "duration": 1226,
        "start_time": "2023-09-09T11:37:00.335Z"
      },
      {
        "duration": 861,
        "start_time": "2023-09-09T11:37:01.563Z"
      },
      {
        "duration": 3,
        "start_time": "2023-09-09T11:37:02.426Z"
      },
      {
        "duration": 116,
        "start_time": "2023-09-09T11:37:02.431Z"
      },
      {
        "duration": 161,
        "start_time": "2023-09-09T11:37:02.549Z"
      },
      {
        "duration": 4,
        "start_time": "2023-09-09T11:37:02.711Z"
      },
      {
        "duration": 129,
        "start_time": "2023-09-09T11:37:02.716Z"
      },
      {
        "duration": 20,
        "start_time": "2023-09-09T11:37:02.847Z"
      },
      {
        "duration": 12,
        "start_time": "2023-09-09T11:37:02.869Z"
      },
      {
        "duration": 29,
        "start_time": "2023-09-09T11:37:02.883Z"
      },
      {
        "duration": 46,
        "start_time": "2023-09-09T11:37:02.914Z"
      },
      {
        "duration": 25,
        "start_time": "2023-09-09T11:37:02.962Z"
      },
      {
        "duration": 78,
        "start_time": "2023-09-09T11:37:02.989Z"
      },
      {
        "duration": 9,
        "start_time": "2023-09-09T11:37:03.069Z"
      },
      {
        "duration": 4,
        "start_time": "2023-09-09T11:37:03.080Z"
      },
      {
        "duration": 20,
        "start_time": "2023-09-09T11:37:03.086Z"
      },
      {
        "duration": 18,
        "start_time": "2023-09-09T11:37:03.108Z"
      },
      {
        "duration": 27,
        "start_time": "2023-09-09T11:37:03.127Z"
      },
      {
        "duration": 2,
        "start_time": "2023-09-09T11:37:03.156Z"
      },
      {
        "duration": 139,
        "start_time": "2023-09-09T11:37:03.159Z"
      },
      {
        "duration": 90,
        "start_time": "2023-09-09T11:37:03.299Z"
      },
      {
        "duration": 118,
        "start_time": "2023-09-09T11:37:03.390Z"
      },
      {
        "duration": 4,
        "start_time": "2023-09-09T11:37:03.510Z"
      },
      {
        "duration": 6,
        "start_time": "2023-09-09T11:37:03.515Z"
      },
      {
        "duration": 5,
        "start_time": "2023-09-09T11:37:03.523Z"
      },
      {
        "duration": 3,
        "start_time": "2023-09-09T11:37:03.544Z"
      },
      {
        "duration": 27701,
        "start_time": "2023-09-09T11:37:03.549Z"
      },
      {
        "duration": 3,
        "start_time": "2023-09-09T11:37:31.253Z"
      },
      {
        "duration": 548,
        "start_time": "2023-09-09T11:37:31.257Z"
      },
      {
        "duration": 342,
        "start_time": "2023-09-09T11:37:31.807Z"
      },
      {
        "duration": 4,
        "start_time": "2023-09-09T11:44:56.601Z"
      },
      {
        "duration": 41058,
        "start_time": "2023-09-09T11:45:07.250Z"
      },
      {
        "duration": 22,
        "start_time": "2023-09-09T11:47:10.319Z"
      },
      {
        "duration": 9,
        "start_time": "2023-09-09T11:47:33.351Z"
      },
      {
        "duration": 19,
        "start_time": "2023-09-09T11:48:22.331Z"
      },
      {
        "duration": 63,
        "start_time": "2023-09-09T11:48:39.003Z"
      },
      {
        "duration": 31,
        "start_time": "2023-09-09T11:48:39.798Z"
      },
      {
        "duration": 279,
        "start_time": "2023-09-09T11:50:45.204Z"
      },
      {
        "duration": 295,
        "start_time": "2023-09-09T11:51:14.170Z"
      },
      {
        "duration": 60,
        "start_time": "2023-09-09T11:51:15.505Z"
      },
      {
        "duration": 335,
        "start_time": "2023-09-09T11:52:18.942Z"
      },
      {
        "duration": 13,
        "start_time": "2023-09-09T14:09:01.579Z"
      },
      {
        "duration": 4,
        "start_time": "2023-09-09T14:09:18.768Z"
      },
      {
        "duration": 28,
        "start_time": "2023-09-09T14:09:23.815Z"
      },
      {
        "duration": 30,
        "start_time": "2023-09-09T14:38:34.065Z"
      },
      {
        "duration": 5432,
        "start_time": "2023-09-09T14:40:45.722Z"
      },
      {
        "duration": 4,
        "start_time": "2023-09-09T14:41:13.667Z"
      },
      {
        "duration": 5591,
        "start_time": "2023-09-09T14:41:19.059Z"
      },
      {
        "duration": 7787,
        "start_time": "2023-09-09T14:42:03.678Z"
      },
      {
        "duration": 285,
        "start_time": "2023-09-09T14:42:38.560Z"
      },
      {
        "duration": 1542,
        "start_time": "2023-09-09T14:42:46.217Z"
      },
      {
        "duration": 6292,
        "start_time": "2023-09-09T14:43:39.866Z"
      },
      {
        "duration": 4978,
        "start_time": "2023-09-09T14:44:24.672Z"
      },
      {
        "duration": 276,
        "start_time": "2023-09-09T14:45:35.352Z"
      },
      {
        "duration": 1400,
        "start_time": "2023-09-09T14:45:37.377Z"
      },
      {
        "duration": 87,
        "start_time": "2023-09-09T14:46:31.947Z"
      },
      {
        "duration": 252,
        "start_time": "2023-09-09T14:46:50.893Z"
      },
      {
        "duration": 4,
        "start_time": "2023-09-09T22:58:45.366Z"
      },
      {
        "duration": 746,
        "start_time": "2023-09-09T22:58:45.913Z"
      },
      {
        "duration": 2,
        "start_time": "2023-09-09T22:58:46.661Z"
      },
      {
        "duration": 19,
        "start_time": "2023-09-09T22:58:46.665Z"
      },
      {
        "duration": 129,
        "start_time": "2023-09-09T22:58:47.285Z"
      },
      {
        "duration": 3,
        "start_time": "2023-09-09T22:58:47.629Z"
      },
      {
        "duration": 77,
        "start_time": "2023-09-09T22:58:48.087Z"
      },
      {
        "duration": 16,
        "start_time": "2023-09-09T22:58:48.777Z"
      },
      {
        "duration": 10,
        "start_time": "2023-09-09T22:58:49.385Z"
      },
      {
        "duration": 20,
        "start_time": "2023-09-09T22:58:49.610Z"
      },
      {
        "duration": 26,
        "start_time": "2023-09-09T22:58:49.857Z"
      },
      {
        "duration": 18,
        "start_time": "2023-09-09T22:58:50.090Z"
      },
      {
        "duration": 51,
        "start_time": "2023-09-09T22:58:50.330Z"
      },
      {
        "duration": 8,
        "start_time": "2023-09-09T22:58:50.547Z"
      },
      {
        "duration": 3,
        "start_time": "2023-09-09T22:58:50.765Z"
      },
      {
        "duration": 17,
        "start_time": "2023-09-09T22:58:51.006Z"
      },
      {
        "duration": 16,
        "start_time": "2023-09-09T22:58:51.186Z"
      },
      {
        "duration": 15,
        "start_time": "2023-09-09T22:58:51.718Z"
      },
      {
        "duration": 2,
        "start_time": "2023-09-09T22:58:51.973Z"
      },
      {
        "duration": 116,
        "start_time": "2023-09-09T22:59:09.590Z"
      },
      {
        "duration": 3,
        "start_time": "2023-09-09T22:59:25.513Z"
      },
      {
        "duration": 3,
        "start_time": "2023-09-09T22:59:27.538Z"
      },
      {
        "duration": 3,
        "start_time": "2023-09-09T22:59:28.289Z"
      },
      {
        "duration": 11,
        "start_time": "2023-09-09T23:00:00.089Z"
      },
      {
        "duration": 4,
        "start_time": "2023-09-09T23:01:32.130Z"
      },
      {
        "duration": 771,
        "start_time": "2023-09-09T23:01:32.157Z"
      },
      {
        "duration": 2,
        "start_time": "2023-09-09T23:01:32.932Z"
      },
      {
        "duration": 23,
        "start_time": "2023-09-09T23:01:32.943Z"
      },
      {
        "duration": 136,
        "start_time": "2023-09-09T23:01:32.968Z"
      },
      {
        "duration": 4,
        "start_time": "2023-09-09T23:01:33.106Z"
      },
      {
        "duration": 91,
        "start_time": "2023-09-09T23:01:33.111Z"
      },
      {
        "duration": 22,
        "start_time": "2023-09-09T23:01:33.203Z"
      },
      {
        "duration": 21,
        "start_time": "2023-09-09T23:01:33.227Z"
      },
      {
        "duration": 23,
        "start_time": "2023-09-09T23:01:33.250Z"
      },
      {
        "duration": 25,
        "start_time": "2023-09-09T23:01:33.275Z"
      },
      {
        "duration": 19,
        "start_time": "2023-09-09T23:01:33.301Z"
      },
      {
        "duration": 71,
        "start_time": "2023-09-09T23:01:33.321Z"
      },
      {
        "duration": 10,
        "start_time": "2023-09-09T23:01:33.393Z"
      },
      {
        "duration": 4,
        "start_time": "2023-09-09T23:01:33.404Z"
      },
      {
        "duration": 37,
        "start_time": "2023-09-09T23:01:33.410Z"
      },
      {
        "duration": 17,
        "start_time": "2023-09-09T23:01:33.449Z"
      },
      {
        "duration": 30,
        "start_time": "2023-09-09T23:01:33.467Z"
      },
      {
        "duration": 121,
        "start_time": "2023-09-09T23:01:33.499Z"
      },
      {
        "duration": 3,
        "start_time": "2023-09-09T23:01:33.621Z"
      },
      {
        "duration": 25,
        "start_time": "2023-09-09T23:01:33.625Z"
      },
      {
        "duration": 17,
        "start_time": "2023-09-09T23:01:33.651Z"
      },
      {
        "duration": 60,
        "start_time": "2023-09-09T23:01:33.669Z"
      },
      {
        "duration": 12,
        "start_time": "2023-09-09T23:01:33.731Z"
      },
      {
        "duration": 0,
        "start_time": "2023-09-09T23:01:33.744Z"
      },
      {
        "duration": 1235,
        "start_time": "2023-09-09T23:06:47.689Z"
      },
      {
        "duration": 833,
        "start_time": "2023-09-09T23:06:48.926Z"
      },
      {
        "duration": 3,
        "start_time": "2023-09-09T23:06:49.761Z"
      },
      {
        "duration": 23,
        "start_time": "2023-09-09T23:06:49.766Z"
      },
      {
        "duration": 193,
        "start_time": "2023-09-09T23:06:49.792Z"
      },
      {
        "duration": 3,
        "start_time": "2023-09-09T23:06:49.986Z"
      },
      {
        "duration": 121,
        "start_time": "2023-09-09T23:06:49.990Z"
      },
      {
        "duration": 3,
        "start_time": "2023-09-09T23:06:50.112Z"
      },
      {
        "duration": 34,
        "start_time": "2023-09-09T23:06:50.116Z"
      },
      {
        "duration": 33,
        "start_time": "2023-09-09T23:06:50.152Z"
      },
      {
        "duration": 95,
        "start_time": "2023-09-09T23:06:50.187Z"
      },
      {
        "duration": 0,
        "start_time": "2023-09-09T23:06:50.284Z"
      },
      {
        "duration": 0,
        "start_time": "2023-09-09T23:06:50.286Z"
      },
      {
        "duration": 0,
        "start_time": "2023-09-09T23:06:50.287Z"
      },
      {
        "duration": 0,
        "start_time": "2023-09-09T23:06:50.288Z"
      },
      {
        "duration": 0,
        "start_time": "2023-09-09T23:06:50.290Z"
      },
      {
        "duration": 0,
        "start_time": "2023-09-09T23:06:50.291Z"
      },
      {
        "duration": 0,
        "start_time": "2023-09-09T23:06:50.292Z"
      },
      {
        "duration": 0,
        "start_time": "2023-09-09T23:06:50.294Z"
      },
      {
        "duration": 0,
        "start_time": "2023-09-09T23:06:50.295Z"
      },
      {
        "duration": 0,
        "start_time": "2023-09-09T23:06:50.296Z"
      },
      {
        "duration": 1,
        "start_time": "2023-09-09T23:06:50.297Z"
      },
      {
        "duration": 0,
        "start_time": "2023-09-09T23:06:50.299Z"
      },
      {
        "duration": 0,
        "start_time": "2023-09-09T23:06:50.300Z"
      },
      {
        "duration": 0,
        "start_time": "2023-09-09T23:06:50.302Z"
      },
      {
        "duration": 0,
        "start_time": "2023-09-09T23:06:50.303Z"
      },
      {
        "duration": 0,
        "start_time": "2023-09-09T23:06:50.304Z"
      },
      {
        "duration": 0,
        "start_time": "2023-09-09T23:06:50.305Z"
      },
      {
        "duration": 0,
        "start_time": "2023-09-09T23:06:50.344Z"
      },
      {
        "duration": 0,
        "start_time": "2023-09-09T23:06:50.346Z"
      },
      {
        "duration": 0,
        "start_time": "2023-09-09T23:06:50.347Z"
      },
      {
        "duration": 0,
        "start_time": "2023-09-09T23:06:50.348Z"
      },
      {
        "duration": 0,
        "start_time": "2023-09-09T23:06:50.350Z"
      },
      {
        "duration": 33,
        "start_time": "2023-09-09T23:07:33.507Z"
      },
      {
        "duration": 33,
        "start_time": "2023-09-09T23:07:34.625Z"
      },
      {
        "duration": 29,
        "start_time": "2023-09-09T23:07:35.270Z"
      },
      {
        "duration": 58,
        "start_time": "2023-09-09T23:07:35.690Z"
      },
      {
        "duration": 9,
        "start_time": "2023-09-09T23:07:39.197Z"
      },
      {
        "duration": 3,
        "start_time": "2023-09-09T23:07:39.680Z"
      },
      {
        "duration": 17,
        "start_time": "2023-09-09T23:07:41.728Z"
      },
      {
        "duration": 16,
        "start_time": "2023-09-09T23:07:42.561Z"
      },
      {
        "duration": 17,
        "start_time": "2023-09-09T23:07:50.870Z"
      },
      {
        "duration": 150,
        "start_time": "2023-09-09T23:07:56.957Z"
      },
      {
        "duration": 3,
        "start_time": "2023-09-09T23:08:01.226Z"
      },
      {
        "duration": 3,
        "start_time": "2023-09-09T23:08:02.037Z"
      },
      {
        "duration": 4,
        "start_time": "2023-09-09T23:08:02.735Z"
      },
      {
        "duration": 52,
        "start_time": "2023-09-09T23:08:03.351Z"
      },
      {
        "duration": 1640,
        "start_time": "2023-09-09T23:08:03.853Z"
      },
      {
        "duration": 0,
        "start_time": "2023-09-09T23:08:05.495Z"
      },
      {
        "duration": 3,
        "start_time": "2023-09-09T23:09:01.395Z"
      },
      {
        "duration": 13,
        "start_time": "2023-09-09T23:09:01.956Z"
      },
      {
        "duration": 11,
        "start_time": "2023-09-09T23:09:02.189Z"
      },
      {
        "duration": 11,
        "start_time": "2023-09-09T23:09:37.897Z"
      },
      {
        "duration": 1279,
        "start_time": "2023-09-09T23:09:49.067Z"
      },
      {
        "duration": 830,
        "start_time": "2023-09-09T23:09:50.348Z"
      },
      {
        "duration": 3,
        "start_time": "2023-09-09T23:09:51.180Z"
      },
      {
        "duration": 30,
        "start_time": "2023-09-09T23:09:51.184Z"
      },
      {
        "duration": 196,
        "start_time": "2023-09-09T23:09:51.215Z"
      },
      {
        "duration": 3,
        "start_time": "2023-09-09T23:09:51.413Z"
      },
      {
        "duration": 95,
        "start_time": "2023-09-09T23:09:51.418Z"
      },
      {
        "duration": 3,
        "start_time": "2023-09-09T23:09:51.515Z"
      },
      {
        "duration": 38,
        "start_time": "2023-09-09T23:09:51.519Z"
      },
      {
        "duration": 12,
        "start_time": "2023-09-09T23:09:51.559Z"
      },
      {
        "duration": 35,
        "start_time": "2023-09-09T23:09:51.572Z"
      },
      {
        "duration": 41,
        "start_time": "2023-09-09T23:09:51.609Z"
      },
      {
        "duration": 20,
        "start_time": "2023-09-09T23:09:51.652Z"
      },
      {
        "duration": 71,
        "start_time": "2023-09-09T23:09:51.674Z"
      },
      {
        "duration": 10,
        "start_time": "2023-09-09T23:09:51.747Z"
      },
      {
        "duration": 5,
        "start_time": "2023-09-09T23:09:51.758Z"
      },
      {
        "duration": 23,
        "start_time": "2023-09-09T23:09:51.764Z"
      },
      {
        "duration": 26,
        "start_time": "2023-09-09T23:09:51.788Z"
      },
      {
        "duration": 23,
        "start_time": "2023-09-09T23:09:51.816Z"
      },
      {
        "duration": 138,
        "start_time": "2023-09-09T23:09:51.844Z"
      },
      {
        "duration": 4,
        "start_time": "2023-09-09T23:09:51.984Z"
      },
      {
        "duration": 23,
        "start_time": "2023-09-09T23:09:51.989Z"
      },
      {
        "duration": 18,
        "start_time": "2023-09-09T23:09:52.014Z"
      },
      {
        "duration": 54,
        "start_time": "2023-09-09T23:09:52.034Z"
      },
      {
        "duration": 205,
        "start_time": "2023-09-09T23:09:52.089Z"
      },
      {
        "duration": 0,
        "start_time": "2023-09-09T23:09:52.296Z"
      },
      {
        "duration": 0,
        "start_time": "2023-09-09T23:09:52.298Z"
      },
      {
        "duration": 0,
        "start_time": "2023-09-09T23:09:52.299Z"
      },
      {
        "duration": 1,
        "start_time": "2023-09-09T23:09:52.300Z"
      },
      {
        "duration": 0,
        "start_time": "2023-09-09T23:09:52.302Z"
      },
      {
        "duration": 0,
        "start_time": "2023-09-09T23:09:52.304Z"
      },
      {
        "duration": 0,
        "start_time": "2023-09-09T23:09:52.305Z"
      },
      {
        "duration": 0,
        "start_time": "2023-09-09T23:09:52.306Z"
      },
      {
        "duration": 1225,
        "start_time": "2023-09-09T23:11:49.831Z"
      },
      {
        "duration": 792,
        "start_time": "2023-09-09T23:11:51.058Z"
      },
      {
        "duration": 3,
        "start_time": "2023-09-09T23:11:51.851Z"
      },
      {
        "duration": 31,
        "start_time": "2023-09-09T23:11:51.855Z"
      },
      {
        "duration": 203,
        "start_time": "2023-09-09T23:11:51.888Z"
      },
      {
        "duration": 4,
        "start_time": "2023-09-09T23:11:52.092Z"
      },
      {
        "duration": 106,
        "start_time": "2023-09-09T23:11:52.097Z"
      },
      {
        "duration": 4,
        "start_time": "2023-09-09T23:11:52.204Z"
      },
      {
        "duration": 5,
        "start_time": "2023-09-09T23:11:52.210Z"
      },
      {
        "duration": 38,
        "start_time": "2023-09-09T23:11:52.216Z"
      },
      {
        "duration": 11,
        "start_time": "2023-09-09T23:11:52.256Z"
      },
      {
        "duration": 36,
        "start_time": "2023-09-09T23:11:52.268Z"
      },
      {
        "duration": 55,
        "start_time": "2023-09-09T23:11:52.305Z"
      },
      {
        "duration": 20,
        "start_time": "2023-09-09T23:11:52.364Z"
      },
      {
        "duration": 67,
        "start_time": "2023-09-09T23:11:52.386Z"
      },
      {
        "duration": 10,
        "start_time": "2023-09-09T23:11:52.455Z"
      },
      {
        "duration": 5,
        "start_time": "2023-09-09T23:11:52.466Z"
      },
      {
        "duration": 42,
        "start_time": "2023-09-09T23:11:52.473Z"
      },
      {
        "duration": 25,
        "start_time": "2023-09-09T23:11:52.517Z"
      },
      {
        "duration": 20,
        "start_time": "2023-09-09T23:11:52.544Z"
      },
      {
        "duration": 140,
        "start_time": "2023-09-09T23:11:52.565Z"
      },
      {
        "duration": 3,
        "start_time": "2023-09-09T23:11:52.707Z"
      },
      {
        "duration": 6,
        "start_time": "2023-09-09T23:11:52.711Z"
      },
      {
        "duration": 5,
        "start_time": "2023-09-09T23:11:52.718Z"
      },
      {
        "duration": 62,
        "start_time": "2023-09-09T23:11:52.724Z"
      },
      {
        "duration": 1877,
        "start_time": "2023-09-09T23:11:52.787Z"
      },
      {
        "duration": 0,
        "start_time": "2023-09-09T23:11:54.665Z"
      },
      {
        "duration": 0,
        "start_time": "2023-09-09T23:11:54.666Z"
      },
      {
        "duration": 0,
        "start_time": "2023-09-09T23:11:54.668Z"
      },
      {
        "duration": 0,
        "start_time": "2023-09-09T23:11:54.669Z"
      },
      {
        "duration": 0,
        "start_time": "2023-09-09T23:11:54.669Z"
      },
      {
        "duration": 0,
        "start_time": "2023-09-09T23:11:54.670Z"
      },
      {
        "duration": 0,
        "start_time": "2023-09-09T23:11:54.671Z"
      },
      {
        "duration": 0,
        "start_time": "2023-09-09T23:11:54.672Z"
      },
      {
        "duration": 1124,
        "start_time": "2023-09-09T23:12:56.503Z"
      },
      {
        "duration": 774,
        "start_time": "2023-09-09T23:12:57.628Z"
      },
      {
        "duration": 2,
        "start_time": "2023-09-09T23:12:58.403Z"
      },
      {
        "duration": 31,
        "start_time": "2023-09-09T23:12:58.407Z"
      },
      {
        "duration": 101,
        "start_time": "2023-09-09T23:12:58.443Z"
      },
      {
        "duration": 0,
        "start_time": "2023-09-09T23:12:58.595Z"
      },
      {
        "duration": 0,
        "start_time": "2023-09-09T23:12:58.596Z"
      },
      {
        "duration": 0,
        "start_time": "2023-09-09T23:12:58.597Z"
      },
      {
        "duration": 0,
        "start_time": "2023-09-09T23:12:58.598Z"
      },
      {
        "duration": 0,
        "start_time": "2023-09-09T23:12:58.600Z"
      },
      {
        "duration": 0,
        "start_time": "2023-09-09T23:12:58.601Z"
      },
      {
        "duration": 0,
        "start_time": "2023-09-09T23:12:58.602Z"
      },
      {
        "duration": 0,
        "start_time": "2023-09-09T23:12:58.604Z"
      },
      {
        "duration": 0,
        "start_time": "2023-09-09T23:12:58.605Z"
      },
      {
        "duration": 0,
        "start_time": "2023-09-09T23:12:58.607Z"
      },
      {
        "duration": 0,
        "start_time": "2023-09-09T23:12:58.608Z"
      },
      {
        "duration": 0,
        "start_time": "2023-09-09T23:12:58.609Z"
      },
      {
        "duration": 0,
        "start_time": "2023-09-09T23:12:58.610Z"
      },
      {
        "duration": 0,
        "start_time": "2023-09-09T23:12:58.611Z"
      },
      {
        "duration": 0,
        "start_time": "2023-09-09T23:12:58.613Z"
      },
      {
        "duration": 0,
        "start_time": "2023-09-09T23:12:58.614Z"
      },
      {
        "duration": 0,
        "start_time": "2023-09-09T23:12:58.615Z"
      },
      {
        "duration": 0,
        "start_time": "2023-09-09T23:12:58.616Z"
      },
      {
        "duration": 0,
        "start_time": "2023-09-09T23:12:58.645Z"
      },
      {
        "duration": 1,
        "start_time": "2023-09-09T23:12:58.646Z"
      },
      {
        "duration": 0,
        "start_time": "2023-09-09T23:12:58.648Z"
      },
      {
        "duration": 0,
        "start_time": "2023-09-09T23:12:58.649Z"
      },
      {
        "duration": 0,
        "start_time": "2023-09-09T23:12:58.650Z"
      },
      {
        "duration": 0,
        "start_time": "2023-09-09T23:12:58.652Z"
      },
      {
        "duration": 0,
        "start_time": "2023-09-09T23:12:58.653Z"
      },
      {
        "duration": 0,
        "start_time": "2023-09-09T23:12:58.655Z"
      },
      {
        "duration": 0,
        "start_time": "2023-09-09T23:12:58.656Z"
      },
      {
        "duration": 0,
        "start_time": "2023-09-09T23:12:58.658Z"
      },
      {
        "duration": 0,
        "start_time": "2023-09-09T23:12:58.659Z"
      },
      {
        "duration": 0,
        "start_time": "2023-09-09T23:12:58.660Z"
      },
      {
        "duration": 1188,
        "start_time": "2023-09-09T23:13:28.143Z"
      },
      {
        "duration": 819,
        "start_time": "2023-09-09T23:13:29.333Z"
      },
      {
        "duration": 2,
        "start_time": "2023-09-09T23:13:30.154Z"
      },
      {
        "duration": 59,
        "start_time": "2023-09-09T23:13:30.158Z"
      },
      {
        "duration": 42,
        "start_time": "2023-09-09T23:13:30.219Z"
      },
      {
        "duration": 238,
        "start_time": "2023-09-09T23:13:30.263Z"
      },
      {
        "duration": 3,
        "start_time": "2023-09-09T23:13:30.503Z"
      },
      {
        "duration": 150,
        "start_time": "2023-09-09T23:13:30.507Z"
      },
      {
        "duration": 3,
        "start_time": "2023-09-09T23:13:30.659Z"
      },
      {
        "duration": 49,
        "start_time": "2023-09-09T23:13:30.663Z"
      },
      {
        "duration": 129,
        "start_time": "2023-09-09T23:13:30.714Z"
      },
      {
        "duration": 0,
        "start_time": "2023-09-09T23:13:30.845Z"
      },
      {
        "duration": 0,
        "start_time": "2023-09-09T23:13:30.847Z"
      },
      {
        "duration": 0,
        "start_time": "2023-09-09T23:13:30.848Z"
      },
      {
        "duration": 0,
        "start_time": "2023-09-09T23:13:30.849Z"
      },
      {
        "duration": 0,
        "start_time": "2023-09-09T23:13:30.850Z"
      },
      {
        "duration": 0,
        "start_time": "2023-09-09T23:13:30.851Z"
      },
      {
        "duration": 0,
        "start_time": "2023-09-09T23:13:30.852Z"
      },
      {
        "duration": 0,
        "start_time": "2023-09-09T23:13:30.852Z"
      },
      {
        "duration": 0,
        "start_time": "2023-09-09T23:13:30.854Z"
      },
      {
        "duration": 0,
        "start_time": "2023-09-09T23:13:30.855Z"
      },
      {
        "duration": 0,
        "start_time": "2023-09-09T23:13:30.856Z"
      },
      {
        "duration": 0,
        "start_time": "2023-09-09T23:13:30.857Z"
      },
      {
        "duration": 0,
        "start_time": "2023-09-09T23:13:30.858Z"
      },
      {
        "duration": 0,
        "start_time": "2023-09-09T23:13:30.859Z"
      },
      {
        "duration": 0,
        "start_time": "2023-09-09T23:13:30.860Z"
      },
      {
        "duration": 0,
        "start_time": "2023-09-09T23:13:30.861Z"
      },
      {
        "duration": 0,
        "start_time": "2023-09-09T23:13:30.862Z"
      },
      {
        "duration": 0,
        "start_time": "2023-09-09T23:13:30.863Z"
      },
      {
        "duration": 0,
        "start_time": "2023-09-09T23:13:30.864Z"
      },
      {
        "duration": 0,
        "start_time": "2023-09-09T23:13:30.865Z"
      },
      {
        "duration": 0,
        "start_time": "2023-09-09T23:13:30.866Z"
      },
      {
        "duration": 0,
        "start_time": "2023-09-09T23:13:30.867Z"
      },
      {
        "duration": 0,
        "start_time": "2023-09-09T23:13:30.868Z"
      },
      {
        "duration": 0,
        "start_time": "2023-09-09T23:13:30.869Z"
      },
      {
        "duration": 1185,
        "start_time": "2023-09-09T23:15:37.459Z"
      },
      {
        "duration": 793,
        "start_time": "2023-09-09T23:15:38.647Z"
      },
      {
        "duration": 4,
        "start_time": "2023-09-09T23:15:39.441Z"
      },
      {
        "duration": 24,
        "start_time": "2023-09-09T23:15:39.446Z"
      },
      {
        "duration": 4,
        "start_time": "2023-09-09T23:15:39.472Z"
      },
      {
        "duration": 204,
        "start_time": "2023-09-09T23:15:39.477Z"
      },
      {
        "duration": 3,
        "start_time": "2023-09-09T23:15:39.683Z"
      },
      {
        "duration": 90,
        "start_time": "2023-09-09T23:15:39.687Z"
      },
      {
        "duration": 3,
        "start_time": "2023-09-09T23:15:39.778Z"
      },
      {
        "duration": 7,
        "start_time": "2023-09-09T23:15:39.783Z"
      },
      {
        "duration": 29,
        "start_time": "2023-09-09T23:15:39.792Z"
      },
      {
        "duration": 23,
        "start_time": "2023-09-09T23:15:39.823Z"
      },
      {
        "duration": 99,
        "start_time": "2023-09-09T23:15:39.848Z"
      },
      {
        "duration": 0,
        "start_time": "2023-09-09T23:15:39.950Z"
      },
      {
        "duration": 0,
        "start_time": "2023-09-09T23:15:39.951Z"
      },
      {
        "duration": 0,
        "start_time": "2023-09-09T23:15:39.952Z"
      },
      {
        "duration": 0,
        "start_time": "2023-09-09T23:15:39.954Z"
      },
      {
        "duration": 0,
        "start_time": "2023-09-09T23:15:39.955Z"
      },
      {
        "duration": 0,
        "start_time": "2023-09-09T23:15:39.957Z"
      },
      {
        "duration": 1,
        "start_time": "2023-09-09T23:15:39.958Z"
      },
      {
        "duration": 0,
        "start_time": "2023-09-09T23:15:39.960Z"
      },
      {
        "duration": 0,
        "start_time": "2023-09-09T23:15:39.961Z"
      },
      {
        "duration": 0,
        "start_time": "2023-09-09T23:15:39.963Z"
      },
      {
        "duration": 0,
        "start_time": "2023-09-09T23:15:39.964Z"
      },
      {
        "duration": 0,
        "start_time": "2023-09-09T23:15:39.965Z"
      },
      {
        "duration": 0,
        "start_time": "2023-09-09T23:15:39.967Z"
      },
      {
        "duration": 0,
        "start_time": "2023-09-09T23:15:39.968Z"
      },
      {
        "duration": 0,
        "start_time": "2023-09-09T23:15:39.969Z"
      },
      {
        "duration": 0,
        "start_time": "2023-09-09T23:15:39.970Z"
      },
      {
        "duration": 0,
        "start_time": "2023-09-09T23:15:39.971Z"
      },
      {
        "duration": 0,
        "start_time": "2023-09-09T23:15:39.972Z"
      },
      {
        "duration": 0,
        "start_time": "2023-09-09T23:15:39.973Z"
      },
      {
        "duration": 0,
        "start_time": "2023-09-09T23:15:39.974Z"
      },
      {
        "duration": 0,
        "start_time": "2023-09-09T23:15:39.975Z"
      },
      {
        "duration": 0,
        "start_time": "2023-09-09T23:15:39.977Z"
      },
      {
        "duration": 37,
        "start_time": "2023-09-09T23:16:17.427Z"
      },
      {
        "duration": 34,
        "start_time": "2023-09-09T23:16:32.337Z"
      },
      {
        "duration": 21,
        "start_time": "2023-09-09T23:16:32.687Z"
      },
      {
        "duration": 20,
        "start_time": "2023-09-09T23:16:33.109Z"
      },
      {
        "duration": 54,
        "start_time": "2023-09-09T23:16:33.492Z"
      },
      {
        "duration": 10,
        "start_time": "2023-09-09T23:16:35.240Z"
      },
      {
        "duration": 3,
        "start_time": "2023-09-09T23:16:36.193Z"
      },
      {
        "duration": 17,
        "start_time": "2023-09-09T23:16:36.559Z"
      },
      {
        "duration": 16,
        "start_time": "2023-09-09T23:16:37.183Z"
      },
      {
        "duration": 17,
        "start_time": "2023-09-09T23:16:42.267Z"
      },
      {
        "duration": 193,
        "start_time": "2023-09-09T23:16:43.993Z"
      },
      {
        "duration": 3,
        "start_time": "2023-09-09T23:16:46.573Z"
      },
      {
        "duration": 2,
        "start_time": "2023-09-09T23:16:50.079Z"
      },
      {
        "duration": 4,
        "start_time": "2023-09-09T23:16:51.269Z"
      },
      {
        "duration": 50,
        "start_time": "2023-09-09T23:16:57.992Z"
      },
      {
        "duration": 136,
        "start_time": "2023-09-09T23:17:10.745Z"
      },
      {
        "duration": 1111,
        "start_time": "2023-09-09T23:18:12.710Z"
      },
      {
        "duration": 821,
        "start_time": "2023-09-09T23:18:13.823Z"
      },
      {
        "duration": 3,
        "start_time": "2023-09-09T23:18:14.645Z"
      },
      {
        "duration": 27,
        "start_time": "2023-09-09T23:18:14.650Z"
      },
      {
        "duration": 10,
        "start_time": "2023-09-09T23:18:14.679Z"
      },
      {
        "duration": 196,
        "start_time": "2023-09-09T23:18:14.691Z"
      },
      {
        "duration": 3,
        "start_time": "2023-09-09T23:18:14.889Z"
      },
      {
        "duration": 107,
        "start_time": "2023-09-09T23:18:14.894Z"
      },
      {
        "duration": 4,
        "start_time": "2023-09-09T23:18:15.002Z"
      },
      {
        "duration": 79,
        "start_time": "2023-09-09T23:18:15.007Z"
      },
      {
        "duration": 44,
        "start_time": "2023-09-09T23:18:15.088Z"
      },
      {
        "duration": 48,
        "start_time": "2023-09-09T23:18:15.133Z"
      },
      {
        "duration": 59,
        "start_time": "2023-09-09T23:18:15.182Z"
      },
      {
        "duration": 68,
        "start_time": "2023-09-09T23:18:15.243Z"
      },
      {
        "duration": 33,
        "start_time": "2023-09-09T23:18:15.313Z"
      },
      {
        "duration": 21,
        "start_time": "2023-09-09T23:18:15.348Z"
      },
      {
        "duration": 75,
        "start_time": "2023-09-09T23:18:15.370Z"
      },
      {
        "duration": 10,
        "start_time": "2023-09-09T23:18:15.446Z"
      },
      {
        "duration": 14,
        "start_time": "2023-09-09T23:18:15.457Z"
      },
      {
        "duration": 30,
        "start_time": "2023-09-09T23:18:15.473Z"
      },
      {
        "duration": 28,
        "start_time": "2023-09-09T23:18:15.505Z"
      },
      {
        "duration": 61,
        "start_time": "2023-09-09T23:18:15.535Z"
      },
      {
        "duration": 165,
        "start_time": "2023-09-09T23:18:15.598Z"
      },
      {
        "duration": 4,
        "start_time": "2023-09-09T23:18:15.765Z"
      },
      {
        "duration": 10,
        "start_time": "2023-09-09T23:18:15.770Z"
      },
      {
        "duration": 35,
        "start_time": "2023-09-09T23:18:15.782Z"
      },
      {
        "duration": 86,
        "start_time": "2023-09-09T23:18:15.818Z"
      },
      {
        "duration": 256,
        "start_time": "2023-09-09T23:18:15.906Z"
      },
      {
        "duration": 0,
        "start_time": "2023-09-09T23:18:16.164Z"
      },
      {
        "duration": 0,
        "start_time": "2023-09-09T23:18:16.165Z"
      },
      {
        "duration": 0,
        "start_time": "2023-09-09T23:18:16.166Z"
      },
      {
        "duration": 0,
        "start_time": "2023-09-09T23:18:16.167Z"
      },
      {
        "duration": 0,
        "start_time": "2023-09-09T23:18:16.168Z"
      },
      {
        "duration": 0,
        "start_time": "2023-09-09T23:18:16.169Z"
      },
      {
        "duration": 0,
        "start_time": "2023-09-09T23:18:16.170Z"
      },
      {
        "duration": 0,
        "start_time": "2023-09-09T23:18:16.171Z"
      },
      {
        "duration": 1202,
        "start_time": "2023-09-09T23:19:57.020Z"
      },
      {
        "duration": 782,
        "start_time": "2023-09-09T23:19:58.224Z"
      },
      {
        "duration": 3,
        "start_time": "2023-09-09T23:19:59.008Z"
      },
      {
        "duration": 39,
        "start_time": "2023-09-09T23:19:59.012Z"
      },
      {
        "duration": 4,
        "start_time": "2023-09-09T23:19:59.054Z"
      },
      {
        "duration": 206,
        "start_time": "2023-09-09T23:19:59.059Z"
      },
      {
        "duration": 3,
        "start_time": "2023-09-09T23:19:59.267Z"
      },
      {
        "duration": 106,
        "start_time": "2023-09-09T23:19:59.272Z"
      },
      {
        "duration": 3,
        "start_time": "2023-09-09T23:19:59.380Z"
      },
      {
        "duration": 4,
        "start_time": "2023-09-09T23:19:59.384Z"
      },
      {
        "duration": 12,
        "start_time": "2023-09-09T23:19:59.390Z"
      },
      {
        "duration": 3,
        "start_time": "2023-09-09T23:19:59.403Z"
      },
      {
        "duration": 40,
        "start_time": "2023-09-09T23:19:59.408Z"
      },
      {
        "duration": 11,
        "start_time": "2023-09-09T23:19:59.451Z"
      },
      {
        "duration": 35,
        "start_time": "2023-09-09T23:19:59.464Z"
      },
      {
        "duration": 45,
        "start_time": "2023-09-09T23:19:59.501Z"
      },
      {
        "duration": 20,
        "start_time": "2023-09-09T23:19:59.547Z"
      },
      {
        "duration": 55,
        "start_time": "2023-09-09T23:19:59.569Z"
      },
      {
        "duration": 25,
        "start_time": "2023-09-09T23:19:59.625Z"
      },
      {
        "duration": 3,
        "start_time": "2023-09-09T23:19:59.652Z"
      },
      {
        "duration": 18,
        "start_time": "2023-09-09T23:19:59.657Z"
      },
      {
        "duration": 18,
        "start_time": "2023-09-09T23:19:59.676Z"
      },
      {
        "duration": 22,
        "start_time": "2023-09-09T23:19:59.695Z"
      },
      {
        "duration": 149,
        "start_time": "2023-09-09T23:19:59.718Z"
      },
      {
        "duration": 3,
        "start_time": "2023-09-09T23:19:59.869Z"
      },
      {
        "duration": 13,
        "start_time": "2023-09-09T23:19:59.873Z"
      },
      {
        "duration": 9,
        "start_time": "2023-09-09T23:19:59.888Z"
      },
      {
        "duration": 52,
        "start_time": "2023-09-09T23:19:59.899Z"
      },
      {
        "duration": 1935,
        "start_time": "2023-09-09T23:19:59.953Z"
      },
      {
        "duration": 0,
        "start_time": "2023-09-09T23:20:01.890Z"
      },
      {
        "duration": 0,
        "start_time": "2023-09-09T23:20:01.891Z"
      },
      {
        "duration": 0,
        "start_time": "2023-09-09T23:20:01.892Z"
      },
      {
        "duration": 0,
        "start_time": "2023-09-09T23:20:01.893Z"
      },
      {
        "duration": 0,
        "start_time": "2023-09-09T23:20:01.894Z"
      },
      {
        "duration": 0,
        "start_time": "2023-09-09T23:20:01.895Z"
      },
      {
        "duration": 0,
        "start_time": "2023-09-09T23:20:01.896Z"
      },
      {
        "duration": 0,
        "start_time": "2023-09-09T23:20:01.897Z"
      },
      {
        "duration": 1129,
        "start_time": "2023-09-09T23:20:52.801Z"
      },
      {
        "duration": 825,
        "start_time": "2023-09-09T23:20:53.932Z"
      },
      {
        "duration": 3,
        "start_time": "2023-09-09T23:20:54.759Z"
      },
      {
        "duration": 25,
        "start_time": "2023-09-09T23:20:54.763Z"
      },
      {
        "duration": 4,
        "start_time": "2023-09-09T23:20:54.790Z"
      },
      {
        "duration": 198,
        "start_time": "2023-09-09T23:20:54.796Z"
      },
      {
        "duration": 4,
        "start_time": "2023-09-09T23:20:54.996Z"
      },
      {
        "duration": 134,
        "start_time": "2023-09-09T23:20:55.002Z"
      },
      {
        "duration": 3,
        "start_time": "2023-09-09T23:20:55.143Z"
      },
      {
        "duration": 33,
        "start_time": "2023-09-09T23:20:55.148Z"
      },
      {
        "duration": 13,
        "start_time": "2023-09-09T23:20:55.182Z"
      },
      {
        "duration": 17,
        "start_time": "2023-09-09T23:20:55.197Z"
      },
      {
        "duration": 51,
        "start_time": "2023-09-09T23:20:55.216Z"
      },
      {
        "duration": 32,
        "start_time": "2023-09-09T23:20:55.270Z"
      },
      {
        "duration": 56,
        "start_time": "2023-09-09T23:20:55.303Z"
      },
      {
        "duration": 31,
        "start_time": "2023-09-09T23:20:55.360Z"
      },
      {
        "duration": 30,
        "start_time": "2023-09-09T23:20:55.392Z"
      },
      {
        "duration": 73,
        "start_time": "2023-09-09T23:20:55.423Z"
      },
      {
        "duration": 8,
        "start_time": "2023-09-09T23:20:55.498Z"
      },
      {
        "duration": 13,
        "start_time": "2023-09-09T23:20:55.508Z"
      },
      {
        "duration": 32,
        "start_time": "2023-09-09T23:20:55.523Z"
      },
      {
        "duration": 28,
        "start_time": "2023-09-09T23:20:55.556Z"
      },
      {
        "duration": 27,
        "start_time": "2023-09-09T23:20:55.585Z"
      },
      {
        "duration": 141,
        "start_time": "2023-09-09T23:20:55.613Z"
      },
      {
        "duration": 3,
        "start_time": "2023-09-09T23:20:55.755Z"
      },
      {
        "duration": 19,
        "start_time": "2023-09-09T23:20:55.759Z"
      },
      {
        "duration": 21,
        "start_time": "2023-09-09T23:20:55.779Z"
      },
      {
        "duration": 79,
        "start_time": "2023-09-09T23:20:55.801Z"
      },
      {
        "duration": 1650,
        "start_time": "2023-09-09T23:20:55.881Z"
      },
      {
        "duration": 0,
        "start_time": "2023-09-09T23:20:57.533Z"
      },
      {
        "duration": 0,
        "start_time": "2023-09-09T23:20:57.534Z"
      },
      {
        "duration": 0,
        "start_time": "2023-09-09T23:20:57.536Z"
      },
      {
        "duration": 0,
        "start_time": "2023-09-09T23:20:57.537Z"
      },
      {
        "duration": 0,
        "start_time": "2023-09-09T23:20:57.538Z"
      },
      {
        "duration": 0,
        "start_time": "2023-09-09T23:20:57.539Z"
      },
      {
        "duration": 0,
        "start_time": "2023-09-09T23:20:57.541Z"
      },
      {
        "duration": 0,
        "start_time": "2023-09-09T23:20:57.542Z"
      },
      {
        "duration": 1149,
        "start_time": "2023-09-09T23:21:58.769Z"
      },
      {
        "duration": 800,
        "start_time": "2023-09-09T23:21:59.920Z"
      },
      {
        "duration": 3,
        "start_time": "2023-09-09T23:22:00.722Z"
      },
      {
        "duration": 53,
        "start_time": "2023-09-09T23:22:00.726Z"
      },
      {
        "duration": 12,
        "start_time": "2023-09-09T23:22:00.782Z"
      },
      {
        "duration": 215,
        "start_time": "2023-09-09T23:22:00.795Z"
      },
      {
        "duration": 4,
        "start_time": "2023-09-09T23:22:01.012Z"
      },
      {
        "duration": 133,
        "start_time": "2023-09-09T23:22:01.018Z"
      },
      {
        "duration": 4,
        "start_time": "2023-09-09T23:22:01.153Z"
      },
      {
        "duration": 28,
        "start_time": "2023-09-09T23:22:01.159Z"
      },
      {
        "duration": 33,
        "start_time": "2023-09-09T23:22:01.188Z"
      },
      {
        "duration": 32,
        "start_time": "2023-09-09T23:22:01.223Z"
      },
      {
        "duration": 46,
        "start_time": "2023-09-09T23:22:01.257Z"
      },
      {
        "duration": 54,
        "start_time": "2023-09-09T23:22:01.306Z"
      },
      {
        "duration": 53,
        "start_time": "2023-09-09T23:22:01.362Z"
      },
      {
        "duration": 33,
        "start_time": "2023-09-09T23:22:01.417Z"
      },
      {
        "duration": 32,
        "start_time": "2023-09-09T23:22:01.451Z"
      },
      {
        "duration": 79,
        "start_time": "2023-09-09T23:22:01.484Z"
      },
      {
        "duration": 9,
        "start_time": "2023-09-09T23:22:01.564Z"
      },
      {
        "duration": 11,
        "start_time": "2023-09-09T23:22:01.574Z"
      },
      {
        "duration": 38,
        "start_time": "2023-09-09T23:22:01.587Z"
      },
      {
        "duration": 57,
        "start_time": "2023-09-09T23:22:01.626Z"
      },
      {
        "duration": 22,
        "start_time": "2023-09-09T23:22:01.685Z"
      },
      {
        "duration": 142,
        "start_time": "2023-09-09T23:22:01.708Z"
      },
      {
        "duration": 3,
        "start_time": "2023-09-09T23:22:01.851Z"
      },
      {
        "duration": 127,
        "start_time": "2023-09-09T23:22:01.855Z"
      },
      {
        "duration": 10,
        "start_time": "2023-09-09T23:22:01.984Z"
      },
      {
        "duration": 57,
        "start_time": "2023-09-09T23:22:01.995Z"
      },
      {
        "duration": 342,
        "start_time": "2023-09-09T23:22:02.054Z"
      },
      {
        "duration": 0,
        "start_time": "2023-09-09T23:22:02.397Z"
      },
      {
        "duration": 0,
        "start_time": "2023-09-09T23:22:02.399Z"
      },
      {
        "duration": 0,
        "start_time": "2023-09-09T23:22:02.400Z"
      },
      {
        "duration": 0,
        "start_time": "2023-09-09T23:22:02.401Z"
      },
      {
        "duration": 0,
        "start_time": "2023-09-09T23:22:02.402Z"
      },
      {
        "duration": 0,
        "start_time": "2023-09-09T23:22:02.403Z"
      },
      {
        "duration": 0,
        "start_time": "2023-09-09T23:22:02.404Z"
      },
      {
        "duration": 0,
        "start_time": "2023-09-09T23:22:02.405Z"
      },
      {
        "duration": 1237,
        "start_time": "2023-09-09T23:23:20.645Z"
      },
      {
        "duration": 851,
        "start_time": "2023-09-09T23:23:21.884Z"
      },
      {
        "duration": 7,
        "start_time": "2023-09-09T23:23:22.737Z"
      },
      {
        "duration": 31,
        "start_time": "2023-09-09T23:23:22.746Z"
      },
      {
        "duration": 4,
        "start_time": "2023-09-09T23:23:22.779Z"
      },
      {
        "duration": 215,
        "start_time": "2023-09-09T23:23:22.785Z"
      },
      {
        "duration": 4,
        "start_time": "2023-09-09T23:23:23.001Z"
      },
      {
        "duration": 112,
        "start_time": "2023-09-09T23:23:23.006Z"
      },
      {
        "duration": 3,
        "start_time": "2023-09-09T23:23:23.120Z"
      },
      {
        "duration": 6,
        "start_time": "2023-09-09T23:23:23.124Z"
      },
      {
        "duration": 14,
        "start_time": "2023-09-09T23:23:23.131Z"
      },
      {
        "duration": 3,
        "start_time": "2023-09-09T23:23:23.146Z"
      },
      {
        "duration": 8,
        "start_time": "2023-09-09T23:23:23.150Z"
      },
      {
        "duration": 14,
        "start_time": "2023-09-09T23:23:23.161Z"
      },
      {
        "duration": 47,
        "start_time": "2023-09-09T23:23:23.177Z"
      },
      {
        "duration": 63,
        "start_time": "2023-09-09T23:23:23.226Z"
      },
      {
        "duration": 35,
        "start_time": "2023-09-09T23:23:23.291Z"
      },
      {
        "duration": 76,
        "start_time": "2023-09-09T23:23:23.328Z"
      },
      {
        "duration": 15,
        "start_time": "2023-09-09T23:23:23.406Z"
      },
      {
        "duration": 3,
        "start_time": "2023-09-09T23:23:23.422Z"
      },
      {
        "duration": 40,
        "start_time": "2023-09-09T23:23:23.445Z"
      },
      {
        "duration": 22,
        "start_time": "2023-09-09T23:23:23.487Z"
      },
      {
        "duration": 20,
        "start_time": "2023-09-09T23:23:23.511Z"
      },
      {
        "duration": 212,
        "start_time": "2023-09-09T23:23:23.533Z"
      },
      {
        "duration": 4,
        "start_time": "2023-09-09T23:23:23.747Z"
      },
      {
        "duration": 7,
        "start_time": "2023-09-09T23:23:23.753Z"
      },
      {
        "duration": 7,
        "start_time": "2023-09-09T23:23:23.762Z"
      },
      {
        "duration": 104,
        "start_time": "2023-09-09T23:23:23.770Z"
      },
      {
        "duration": 630,
        "start_time": "2023-09-09T23:23:23.876Z"
      },
      {
        "duration": 3,
        "start_time": "2023-09-09T23:23:24.507Z"
      },
      {
        "duration": 4,
        "start_time": "2023-09-09T23:23:24.512Z"
      },
      {
        "duration": 5,
        "start_time": "2023-09-09T23:23:24.518Z"
      },
      {
        "duration": 20,
        "start_time": "2023-09-09T23:23:24.524Z"
      },
      {
        "duration": 3,
        "start_time": "2023-09-09T23:23:24.545Z"
      },
      {
        "duration": 202,
        "start_time": "2023-09-09T23:23:24.550Z"
      },
      {
        "duration": 8,
        "start_time": "2023-09-09T23:23:24.754Z"
      },
      {
        "duration": 0,
        "start_time": "2023-09-09T23:23:24.763Z"
      },
      {
        "duration": 1159,
        "start_time": "2023-09-09T23:25:06.568Z"
      },
      {
        "duration": 802,
        "start_time": "2023-09-09T23:25:07.729Z"
      },
      {
        "duration": 3,
        "start_time": "2023-09-09T23:25:08.532Z"
      },
      {
        "duration": 26,
        "start_time": "2023-09-09T23:25:08.536Z"
      },
      {
        "duration": 4,
        "start_time": "2023-09-09T23:25:08.565Z"
      },
      {
        "duration": 202,
        "start_time": "2023-09-09T23:25:08.571Z"
      },
      {
        "duration": 3,
        "start_time": "2023-09-09T23:25:08.775Z"
      },
      {
        "duration": 98,
        "start_time": "2023-09-09T23:25:08.779Z"
      },
      {
        "duration": 3,
        "start_time": "2023-09-09T23:25:08.879Z"
      },
      {
        "duration": 8,
        "start_time": "2023-09-09T23:25:08.883Z"
      },
      {
        "duration": 14,
        "start_time": "2023-09-09T23:25:08.892Z"
      },
      {
        "duration": 4,
        "start_time": "2023-09-09T23:25:08.907Z"
      },
      {
        "duration": 9,
        "start_time": "2023-09-09T23:25:08.912Z"
      },
      {
        "duration": 22,
        "start_time": "2023-09-09T23:25:08.924Z"
      },
      {
        "duration": 50,
        "start_time": "2023-09-09T23:25:08.947Z"
      },
      {
        "duration": 45,
        "start_time": "2023-09-09T23:25:08.999Z"
      },
      {
        "duration": 34,
        "start_time": "2023-09-09T23:25:09.046Z"
      },
      {
        "duration": 69,
        "start_time": "2023-09-09T23:25:09.081Z"
      },
      {
        "duration": 15,
        "start_time": "2023-09-09T23:25:09.151Z"
      },
      {
        "duration": 3,
        "start_time": "2023-09-09T23:25:09.168Z"
      },
      {
        "duration": 23,
        "start_time": "2023-09-09T23:25:09.173Z"
      },
      {
        "duration": 33,
        "start_time": "2023-09-09T23:25:09.197Z"
      },
      {
        "duration": 29,
        "start_time": "2023-09-09T23:25:09.231Z"
      },
      {
        "duration": 198,
        "start_time": "2023-09-09T23:25:09.262Z"
      },
      {
        "duration": 3,
        "start_time": "2023-09-09T23:25:09.461Z"
      },
      {
        "duration": 9,
        "start_time": "2023-09-09T23:25:09.466Z"
      },
      {
        "duration": 18,
        "start_time": "2023-09-09T23:25:09.476Z"
      },
      {
        "duration": 106,
        "start_time": "2023-09-09T23:25:09.495Z"
      },
      {
        "duration": 505,
        "start_time": "2023-09-09T23:25:09.603Z"
      },
      {
        "duration": 2,
        "start_time": "2023-09-09T23:25:10.110Z"
      },
      {
        "duration": 22,
        "start_time": "2023-09-09T23:25:10.114Z"
      },
      {
        "duration": 24,
        "start_time": "2023-09-09T23:25:26.713Z"
      },
      {
        "duration": 106,
        "start_time": "2023-09-09T23:25:39.628Z"
      },
      {
        "duration": 4,
        "start_time": "2023-09-09T23:25:58.232Z"
      },
      {
        "duration": 199,
        "start_time": "2023-09-09T23:26:01.047Z"
      },
      {
        "duration": 1175,
        "start_time": "2023-09-09T23:29:33.574Z"
      },
      {
        "duration": 782,
        "start_time": "2023-09-09T23:29:34.751Z"
      },
      {
        "duration": 2,
        "start_time": "2023-09-09T23:29:35.535Z"
      },
      {
        "duration": 160,
        "start_time": "2023-09-09T23:29:35.543Z"
      },
      {
        "duration": 14,
        "start_time": "2023-09-09T23:29:35.705Z"
      },
      {
        "duration": 196,
        "start_time": "2023-09-09T23:29:35.720Z"
      },
      {
        "duration": 3,
        "start_time": "2023-09-09T23:29:35.917Z"
      },
      {
        "duration": 137,
        "start_time": "2023-09-09T23:29:35.922Z"
      },
      {
        "duration": 3,
        "start_time": "2023-09-09T23:29:36.061Z"
      },
      {
        "duration": 9,
        "start_time": "2023-09-09T23:29:36.065Z"
      },
      {
        "duration": 12,
        "start_time": "2023-09-09T23:29:36.075Z"
      },
      {
        "duration": 3,
        "start_time": "2023-09-09T23:29:36.088Z"
      },
      {
        "duration": 4,
        "start_time": "2023-09-09T23:29:36.092Z"
      },
      {
        "duration": 13,
        "start_time": "2023-09-09T23:29:36.099Z"
      },
      {
        "duration": 61,
        "start_time": "2023-09-09T23:29:36.114Z"
      },
      {
        "duration": 46,
        "start_time": "2023-09-09T23:29:36.177Z"
      },
      {
        "duration": 42,
        "start_time": "2023-09-09T23:29:36.224Z"
      },
      {
        "duration": 66,
        "start_time": "2023-09-09T23:29:36.267Z"
      },
      {
        "duration": 14,
        "start_time": "2023-09-09T23:29:36.344Z"
      },
      {
        "duration": 3,
        "start_time": "2023-09-09T23:29:36.360Z"
      },
      {
        "duration": 21,
        "start_time": "2023-09-09T23:29:36.364Z"
      },
      {
        "duration": 19,
        "start_time": "2023-09-09T23:29:36.386Z"
      },
      {
        "duration": 44,
        "start_time": "2023-09-09T23:29:36.406Z"
      },
      {
        "duration": 194,
        "start_time": "2023-09-09T23:29:36.451Z"
      },
      {
        "duration": 2,
        "start_time": "2023-09-09T23:29:36.647Z"
      },
      {
        "duration": 11,
        "start_time": "2023-09-09T23:29:36.651Z"
      },
      {
        "duration": 18,
        "start_time": "2023-09-09T23:29:36.663Z"
      },
      {
        "duration": 93,
        "start_time": "2023-09-09T23:29:36.682Z"
      },
      {
        "duration": 567,
        "start_time": "2023-09-09T23:29:36.777Z"
      },
      {
        "duration": 2,
        "start_time": "2023-09-09T23:29:37.346Z"
      },
      {
        "duration": 8,
        "start_time": "2023-09-09T23:29:37.350Z"
      },
      {
        "duration": 19,
        "start_time": "2023-09-09T23:29:37.359Z"
      },
      {
        "duration": 120,
        "start_time": "2023-09-09T23:29:37.379Z"
      },
      {
        "duration": 4,
        "start_time": "2023-09-09T23:29:37.500Z"
      },
      {
        "duration": 3740,
        "start_time": "2023-09-09T23:29:37.505Z"
      },
      {
        "duration": 9,
        "start_time": "2023-09-09T23:30:25.081Z"
      },
      {
        "duration": 1777,
        "start_time": "2023-09-09T23:30:26.041Z"
      },
      {
        "duration": 14,
        "start_time": "2023-09-09T23:32:51.041Z"
      },
      {
        "duration": 13,
        "start_time": "2023-09-09T23:33:27.671Z"
      },
      {
        "duration": 11,
        "start_time": "2023-09-09T23:34:27.215Z"
      },
      {
        "duration": 8,
        "start_time": "2023-09-09T23:34:41.990Z"
      },
      {
        "duration": 4,
        "start_time": "2023-09-09T23:35:01.685Z"
      },
      {
        "duration": 126,
        "start_time": "2023-09-09T23:35:02.885Z"
      },
      {
        "duration": 4,
        "start_time": "2023-09-09T23:35:42.936Z"
      },
      {
        "duration": 131,
        "start_time": "2023-09-09T23:35:43.611Z"
      },
      {
        "duration": 2520,
        "start_time": "2023-09-09T23:36:06.247Z"
      },
      {
        "duration": 5,
        "start_time": "2023-09-09T23:37:28.272Z"
      },
      {
        "duration": 2230,
        "start_time": "2023-09-09T23:37:28.793Z"
      },
      {
        "duration": 1508,
        "start_time": "2023-09-09T23:39:42.483Z"
      },
      {
        "duration": 1558,
        "start_time": "2023-09-09T23:40:04.961Z"
      },
      {
        "duration": 3,
        "start_time": "2023-09-09T23:40:36.889Z"
      },
      {
        "duration": 2617,
        "start_time": "2023-09-09T23:40:53.165Z"
      },
      {
        "duration": 3,
        "start_time": "2023-09-09T23:41:24.725Z"
      },
      {
        "duration": 2238,
        "start_time": "2023-09-09T23:41:28.061Z"
      },
      {
        "duration": 163,
        "start_time": "2023-09-09T23:42:00.717Z"
      },
      {
        "duration": 112,
        "start_time": "2023-09-09T23:44:10.267Z"
      },
      {
        "duration": 1357,
        "start_time": "2023-09-09T23:46:07.704Z"
      },
      {
        "duration": 91,
        "start_time": "2023-09-09T23:47:46.045Z"
      },
      {
        "duration": 1181,
        "start_time": "2023-09-09T23:49:14.350Z"
      },
      {
        "duration": 822,
        "start_time": "2023-09-09T23:49:15.533Z"
      },
      {
        "duration": 4,
        "start_time": "2023-09-09T23:49:16.359Z"
      },
      {
        "duration": 26,
        "start_time": "2023-09-09T23:49:16.365Z"
      },
      {
        "duration": 14,
        "start_time": "2023-09-09T23:49:16.393Z"
      },
      {
        "duration": 226,
        "start_time": "2023-09-09T23:49:16.408Z"
      },
      {
        "duration": 9,
        "start_time": "2023-09-09T23:49:16.635Z"
      },
      {
        "duration": 99,
        "start_time": "2023-09-09T23:49:16.645Z"
      },
      {
        "duration": 3,
        "start_time": "2023-09-09T23:49:16.746Z"
      },
      {
        "duration": 13,
        "start_time": "2023-09-09T23:49:16.750Z"
      },
      {
        "duration": 14,
        "start_time": "2023-09-09T23:49:16.764Z"
      },
      {
        "duration": 9,
        "start_time": "2023-09-09T23:49:16.779Z"
      },
      {
        "duration": 5,
        "start_time": "2023-09-09T23:49:16.791Z"
      },
      {
        "duration": 18,
        "start_time": "2023-09-09T23:49:16.797Z"
      },
      {
        "duration": 49,
        "start_time": "2023-09-09T23:49:16.816Z"
      },
      {
        "duration": 47,
        "start_time": "2023-09-09T23:49:16.867Z"
      },
      {
        "duration": 51,
        "start_time": "2023-09-09T23:49:16.916Z"
      },
      {
        "duration": 65,
        "start_time": "2023-09-09T23:49:16.969Z"
      },
      {
        "duration": 21,
        "start_time": "2023-09-09T23:49:17.036Z"
      },
      {
        "duration": 7,
        "start_time": "2023-09-09T23:49:17.059Z"
      },
      {
        "duration": 23,
        "start_time": "2023-09-09T23:49:17.067Z"
      },
      {
        "duration": 20,
        "start_time": "2023-09-09T23:49:17.091Z"
      },
      {
        "duration": 40,
        "start_time": "2023-09-09T23:49:17.112Z"
      },
      {
        "duration": 198,
        "start_time": "2023-09-09T23:49:17.153Z"
      },
      {
        "duration": 3,
        "start_time": "2023-09-09T23:49:17.352Z"
      },
      {
        "duration": 5,
        "start_time": "2023-09-09T23:49:17.356Z"
      },
      {
        "duration": 6,
        "start_time": "2023-09-09T23:49:17.362Z"
      },
      {
        "duration": 102,
        "start_time": "2023-09-09T23:49:17.369Z"
      },
      {
        "duration": 545,
        "start_time": "2023-09-09T23:49:17.473Z"
      },
      {
        "duration": 2,
        "start_time": "2023-09-09T23:49:18.020Z"
      },
      {
        "duration": 11,
        "start_time": "2023-09-09T23:49:18.024Z"
      },
      {
        "duration": 26,
        "start_time": "2023-09-09T23:49:18.043Z"
      },
      {
        "duration": 122,
        "start_time": "2023-09-09T23:49:18.070Z"
      },
      {
        "duration": 5,
        "start_time": "2023-09-09T23:49:18.193Z"
      },
      {
        "duration": 195,
        "start_time": "2023-09-09T23:49:18.199Z"
      },
      {
        "duration": 11,
        "start_time": "2023-09-09T23:49:18.396Z"
      },
      {
        "duration": 0,
        "start_time": "2023-09-09T23:49:18.408Z"
      },
      {
        "duration": 1245,
        "start_time": "2023-09-09T23:49:55.427Z"
      },
      {
        "duration": 776,
        "start_time": "2023-09-09T23:49:56.674Z"
      },
      {
        "duration": 3,
        "start_time": "2023-09-09T23:49:57.451Z"
      },
      {
        "duration": 33,
        "start_time": "2023-09-09T23:49:57.455Z"
      },
      {
        "duration": 14,
        "start_time": "2023-09-09T23:49:57.490Z"
      },
      {
        "duration": 204,
        "start_time": "2023-09-09T23:49:57.505Z"
      },
      {
        "duration": 3,
        "start_time": "2023-09-09T23:49:57.711Z"
      },
      {
        "duration": 99,
        "start_time": "2023-09-09T23:49:57.715Z"
      },
      {
        "duration": 3,
        "start_time": "2023-09-09T23:49:57.815Z"
      },
      {
        "duration": 9,
        "start_time": "2023-09-09T23:49:57.819Z"
      },
      {
        "duration": 27,
        "start_time": "2023-09-09T23:49:57.829Z"
      },
      {
        "duration": 4,
        "start_time": "2023-09-09T23:49:57.857Z"
      },
      {
        "duration": 7,
        "start_time": "2023-09-09T23:49:57.863Z"
      },
      {
        "duration": 18,
        "start_time": "2023-09-09T23:49:57.872Z"
      },
      {
        "duration": 42,
        "start_time": "2023-09-09T23:49:57.891Z"
      },
      {
        "duration": 47,
        "start_time": "2023-09-09T23:49:57.935Z"
      },
      {
        "duration": 34,
        "start_time": "2023-09-09T23:49:57.984Z"
      },
      {
        "duration": 71,
        "start_time": "2023-09-09T23:49:58.019Z"
      },
      {
        "duration": 14,
        "start_time": "2023-09-09T23:49:58.091Z"
      },
      {
        "duration": 3,
        "start_time": "2023-09-09T23:49:58.106Z"
      },
      {
        "duration": 34,
        "start_time": "2023-09-09T23:49:58.111Z"
      },
      {
        "duration": 18,
        "start_time": "2023-09-09T23:49:58.146Z"
      },
      {
        "duration": 19,
        "start_time": "2023-09-09T23:49:58.166Z"
      },
      {
        "duration": 198,
        "start_time": "2023-09-09T23:49:58.187Z"
      },
      {
        "duration": 4,
        "start_time": "2023-09-09T23:49:58.386Z"
      },
      {
        "duration": 15,
        "start_time": "2023-09-09T23:49:58.391Z"
      },
      {
        "duration": 12,
        "start_time": "2023-09-09T23:49:58.407Z"
      },
      {
        "duration": 91,
        "start_time": "2023-09-09T23:49:58.420Z"
      },
      {
        "duration": 548,
        "start_time": "2023-09-09T23:49:58.513Z"
      },
      {
        "duration": 3,
        "start_time": "2023-09-09T23:49:59.062Z"
      },
      {
        "duration": 7,
        "start_time": "2023-09-09T23:49:59.067Z"
      },
      {
        "duration": 35,
        "start_time": "2023-09-09T23:49:59.075Z"
      },
      {
        "duration": 109,
        "start_time": "2023-09-09T23:49:59.112Z"
      },
      {
        "duration": 5,
        "start_time": "2023-09-09T23:49:59.222Z"
      },
      {
        "duration": 3836,
        "start_time": "2023-09-09T23:49:59.229Z"
      },
      {
        "duration": 79,
        "start_time": "2023-09-09T23:50:03.067Z"
      },
      {
        "duration": 1727,
        "start_time": "2023-09-09T23:50:03.148Z"
      },
      {
        "duration": 64,
        "start_time": "2023-09-09T23:50:33.327Z"
      },
      {
        "duration": 1722,
        "start_time": "2023-09-09T23:51:10.318Z"
      },
      {
        "duration": 9,
        "start_time": "2023-09-09T23:53:05.174Z"
      },
      {
        "duration": 9,
        "start_time": "2023-09-09T23:53:25.214Z"
      },
      {
        "duration": 2,
        "start_time": "2023-09-09T23:54:16.762Z"
      },
      {
        "duration": 3,
        "start_time": "2023-09-09T23:54:17.827Z"
      },
      {
        "duration": 94,
        "start_time": "2023-09-09T23:55:03.907Z"
      },
      {
        "duration": 9,
        "start_time": "2023-09-09T23:55:50.716Z"
      },
      {
        "duration": 4,
        "start_time": "2023-09-09T23:56:15.691Z"
      },
      {
        "duration": 3,
        "start_time": "2023-09-09T23:56:16.449Z"
      },
      {
        "duration": 3,
        "start_time": "2023-09-09T23:56:18.069Z"
      },
      {
        "duration": 22264,
        "start_time": "2023-09-09T23:56:19.142Z"
      },
      {
        "duration": 29949,
        "start_time": "2023-09-09T23:57:15.212Z"
      },
      {
        "duration": 8,
        "start_time": "2023-09-09T23:58:57.311Z"
      },
      {
        "duration": 1685,
        "start_time": "2023-09-09T23:59:25.349Z"
      },
      {
        "duration": 1363,
        "start_time": "2023-09-14T22:47:45.233Z"
      },
      {
        "duration": 3350,
        "start_time": "2023-09-14T22:47:46.597Z"
      },
      {
        "duration": 4,
        "start_time": "2023-09-14T22:47:49.948Z"
      },
      {
        "duration": 43,
        "start_time": "2023-09-14T22:47:49.954Z"
      },
      {
        "duration": 6,
        "start_time": "2023-09-14T22:47:49.999Z"
      },
      {
        "duration": 205,
        "start_time": "2023-09-14T22:47:50.006Z"
      },
      {
        "duration": 3,
        "start_time": "2023-09-14T22:47:50.214Z"
      },
      {
        "duration": 144,
        "start_time": "2023-09-14T22:47:50.219Z"
      },
      {
        "duration": 5,
        "start_time": "2023-09-14T22:47:50.365Z"
      },
      {
        "duration": 8,
        "start_time": "2023-09-14T22:47:50.372Z"
      },
      {
        "duration": 12,
        "start_time": "2023-09-14T22:47:50.381Z"
      },
      {
        "duration": 8,
        "start_time": "2023-09-14T22:47:50.394Z"
      },
      {
        "duration": 25,
        "start_time": "2023-09-14T22:47:50.403Z"
      },
      {
        "duration": 51,
        "start_time": "2023-09-14T22:47:50.430Z"
      },
      {
        "duration": 47,
        "start_time": "2023-09-14T22:47:50.483Z"
      },
      {
        "duration": 57,
        "start_time": "2023-09-14T22:47:50.532Z"
      },
      {
        "duration": 41,
        "start_time": "2023-09-14T22:47:50.591Z"
      },
      {
        "duration": 77,
        "start_time": "2023-09-14T22:47:50.633Z"
      },
      {
        "duration": 14,
        "start_time": "2023-09-14T22:47:50.711Z"
      },
      {
        "duration": 19,
        "start_time": "2023-09-14T22:47:50.726Z"
      },
      {
        "duration": 31,
        "start_time": "2023-09-14T22:47:50.746Z"
      },
      {
        "duration": 21,
        "start_time": "2023-09-14T22:47:50.778Z"
      },
      {
        "duration": 18,
        "start_time": "2023-09-14T22:47:50.801Z"
      },
      {
        "duration": 233,
        "start_time": "2023-09-14T22:47:50.821Z"
      },
      {
        "duration": 6,
        "start_time": "2023-09-14T22:47:51.055Z"
      },
      {
        "duration": 7,
        "start_time": "2023-09-14T22:47:51.062Z"
      },
      {
        "duration": 7,
        "start_time": "2023-09-14T22:47:51.076Z"
      },
      {
        "duration": 121,
        "start_time": "2023-09-14T22:47:51.086Z"
      },
      {
        "duration": 643,
        "start_time": "2023-09-14T22:47:51.209Z"
      },
      {
        "duration": 12,
        "start_time": "2023-09-14T22:47:51.854Z"
      },
      {
        "duration": 24,
        "start_time": "2023-09-14T22:47:51.867Z"
      },
      {
        "duration": 64,
        "start_time": "2023-09-14T22:47:51.893Z"
      },
      {
        "duration": 116,
        "start_time": "2023-09-14T22:47:51.966Z"
      },
      {
        "duration": 5,
        "start_time": "2023-09-14T22:47:52.084Z"
      },
      {
        "duration": 222280,
        "start_time": "2023-09-14T22:47:52.091Z"
      },
      {
        "duration": 9,
        "start_time": "2023-09-14T22:51:34.373Z"
      },
      {
        "duration": 2105,
        "start_time": "2023-09-14T22:51:34.384Z"
      },
      {
        "duration": 28,
        "start_time": "2023-09-14T23:01:20.102Z"
      },
      {
        "duration": 1311,
        "start_time": "2023-09-14T23:01:25.469Z"
      },
      {
        "duration": 894,
        "start_time": "2023-09-14T23:01:26.782Z"
      },
      {
        "duration": 3,
        "start_time": "2023-09-14T23:01:27.683Z"
      },
      {
        "duration": 39,
        "start_time": "2023-09-14T23:01:27.687Z"
      },
      {
        "duration": 15,
        "start_time": "2023-09-14T23:01:27.728Z"
      },
      {
        "duration": 218,
        "start_time": "2023-09-14T23:01:27.755Z"
      },
      {
        "duration": 4,
        "start_time": "2023-09-14T23:01:27.975Z"
      },
      {
        "duration": 104,
        "start_time": "2023-09-14T23:01:27.980Z"
      },
      {
        "duration": 11,
        "start_time": "2023-09-14T23:01:28.085Z"
      },
      {
        "duration": 69,
        "start_time": "2023-09-14T23:01:28.098Z"
      },
      {
        "duration": 55,
        "start_time": "2023-09-14T23:01:28.169Z"
      },
      {
        "duration": 90,
        "start_time": "2023-09-14T23:01:28.225Z"
      },
      {
        "duration": 18,
        "start_time": "2023-09-14T23:01:28.317Z"
      },
      {
        "duration": 16,
        "start_time": "2023-09-14T23:01:28.346Z"
      },
      {
        "duration": 20,
        "start_time": "2023-09-14T23:01:28.367Z"
      },
      {
        "duration": 20,
        "start_time": "2023-09-14T23:01:28.389Z"
      },
      {
        "duration": 21,
        "start_time": "2023-09-14T23:01:28.410Z"
      },
      {
        "duration": 389,
        "start_time": "2023-09-14T23:16:29.667Z"
      },
      {
        "duration": 910,
        "start_time": "2023-09-14T23:17:26.442Z"
      },
      {
        "duration": 3,
        "start_time": "2023-09-14T23:17:28.480Z"
      },
      {
        "duration": 16,
        "start_time": "2023-09-14T23:17:29.413Z"
      },
      {
        "duration": 7,
        "start_time": "2023-09-14T23:17:30.340Z"
      },
      {
        "duration": 196,
        "start_time": "2023-09-14T23:17:34.063Z"
      },
      {
        "duration": 3,
        "start_time": "2023-09-14T23:17:35.815Z"
      },
      {
        "duration": 87,
        "start_time": "2023-09-14T23:17:37.510Z"
      },
      {
        "duration": 153,
        "start_time": "2023-09-14T23:18:49.951Z"
      },
      {
        "duration": 5,
        "start_time": "2023-09-14T23:18:51.009Z"
      },
      {
        "duration": 84,
        "start_time": "2023-09-14T23:18:51.770Z"
      },
      {
        "duration": 16,
        "start_time": "2023-09-14T23:18:54.483Z"
      },
      {
        "duration": 126,
        "start_time": "2023-09-14T23:20:02.181Z"
      },
      {
        "duration": 9,
        "start_time": "2023-09-14T23:20:45.810Z"
      },
      {
        "duration": 211,
        "start_time": "2023-09-14T23:20:50.114Z"
      },
      {
        "duration": 188,
        "start_time": "2023-09-14T23:21:39.444Z"
      },
      {
        "duration": 196,
        "start_time": "2023-09-14T23:22:41.077Z"
      },
      {
        "duration": 14,
        "start_time": "2023-09-14T23:24:20.427Z"
      },
      {
        "duration": 6,
        "start_time": "2023-09-14T23:24:22.206Z"
      },
      {
        "duration": 17,
        "start_time": "2023-09-14T23:24:22.741Z"
      },
      {
        "duration": 22,
        "start_time": "2023-09-14T23:24:23.269Z"
      },
      {
        "duration": 11,
        "start_time": "2023-09-14T23:24:51.841Z"
      },
      {
        "duration": 4,
        "start_time": "2023-09-14T23:24:52.182Z"
      },
      {
        "duration": 17,
        "start_time": "2023-09-14T23:24:53.325Z"
      },
      {
        "duration": 11,
        "start_time": "2023-09-14T23:24:55.574Z"
      },
      {
        "duration": 21,
        "start_time": "2023-09-14T23:25:00.063Z"
      },
      {
        "duration": 1615,
        "start_time": "2023-09-14T23:25:43.421Z"
      },
      {
        "duration": 927,
        "start_time": "2023-09-14T23:25:45.039Z"
      },
      {
        "duration": 3,
        "start_time": "2023-09-14T23:25:45.968Z"
      },
      {
        "duration": 35,
        "start_time": "2023-09-14T23:25:45.972Z"
      },
      {
        "duration": 7,
        "start_time": "2023-09-14T23:25:46.009Z"
      },
      {
        "duration": 165,
        "start_time": "2023-09-14T23:25:46.017Z"
      },
      {
        "duration": 5,
        "start_time": "2023-09-14T23:25:46.184Z"
      },
      {
        "duration": 119,
        "start_time": "2023-09-14T23:25:46.191Z"
      },
      {
        "duration": 38,
        "start_time": "2023-09-14T23:25:46.312Z"
      },
      {
        "duration": 222,
        "start_time": "2023-09-14T23:25:46.352Z"
      },
      {
        "duration": 247,
        "start_time": "2023-09-14T23:25:46.575Z"
      },
      {
        "duration": 49,
        "start_time": "2023-09-14T23:25:46.823Z"
      },
      {
        "duration": 10,
        "start_time": "2023-09-14T23:25:46.873Z"
      },
      {
        "duration": 16,
        "start_time": "2023-09-14T23:25:46.885Z"
      },
      {
        "duration": 23,
        "start_time": "2023-09-14T23:25:46.903Z"
      },
      {
        "duration": 5,
        "start_time": "2023-09-14T23:25:46.928Z"
      },
      {
        "duration": 27,
        "start_time": "2023-09-14T23:25:46.934Z"
      },
      {
        "duration": 19,
        "start_time": "2023-09-14T23:25:46.962Z"
      },
      {
        "duration": 20,
        "start_time": "2023-09-14T23:25:46.982Z"
      },
      {
        "duration": 19,
        "start_time": "2023-09-14T23:25:47.003Z"
      },
      {
        "duration": 1482,
        "start_time": "2023-09-14T23:27:35.107Z"
      },
      {
        "duration": 873,
        "start_time": "2023-09-14T23:27:36.591Z"
      },
      {
        "duration": 3,
        "start_time": "2023-09-14T23:27:37.465Z"
      },
      {
        "duration": 36,
        "start_time": "2023-09-14T23:27:37.469Z"
      },
      {
        "duration": 32,
        "start_time": "2023-09-14T23:27:37.507Z"
      },
      {
        "duration": 159,
        "start_time": "2023-09-14T23:27:37.541Z"
      },
      {
        "duration": 4,
        "start_time": "2023-09-14T23:27:37.702Z"
      },
      {
        "duration": 128,
        "start_time": "2023-09-14T23:27:37.707Z"
      },
      {
        "duration": 29,
        "start_time": "2023-09-14T23:27:37.836Z"
      },
      {
        "duration": 214,
        "start_time": "2023-09-14T23:27:37.867Z"
      },
      {
        "duration": 243,
        "start_time": "2023-09-14T23:27:38.082Z"
      },
      {
        "duration": 32,
        "start_time": "2023-09-14T23:27:38.326Z"
      },
      {
        "duration": 22,
        "start_time": "2023-09-14T23:27:38.361Z"
      },
      {
        "duration": 71,
        "start_time": "2023-09-14T23:27:38.385Z"
      },
      {
        "duration": 10,
        "start_time": "2023-09-14T23:27:38.458Z"
      },
      {
        "duration": 4,
        "start_time": "2023-09-14T23:27:38.469Z"
      },
      {
        "duration": 17,
        "start_time": "2023-09-14T23:27:38.475Z"
      },
      {
        "duration": 15,
        "start_time": "2023-09-14T23:27:38.494Z"
      },
      {
        "duration": 40,
        "start_time": "2023-09-14T23:27:38.510Z"
      },
      {
        "duration": 108,
        "start_time": "2023-09-14T23:30:19.081Z"
      },
      {
        "duration": 2008,
        "start_time": "2023-09-14T23:30:23.961Z"
      },
      {
        "duration": 23,
        "start_time": "2023-09-14T23:30:34.844Z"
      },
      {
        "duration": 1525,
        "start_time": "2023-09-14T23:30:40.470Z"
      },
      {
        "duration": 908,
        "start_time": "2023-09-14T23:30:41.997Z"
      },
      {
        "duration": 3,
        "start_time": "2023-09-14T23:30:42.906Z"
      },
      {
        "duration": 30,
        "start_time": "2023-09-14T23:30:42.910Z"
      },
      {
        "duration": 19,
        "start_time": "2023-09-14T23:30:42.953Z"
      },
      {
        "duration": 167,
        "start_time": "2023-09-14T23:30:42.974Z"
      },
      {
        "duration": 4,
        "start_time": "2023-09-14T23:30:43.142Z"
      },
      {
        "duration": 114,
        "start_time": "2023-09-14T23:30:43.149Z"
      },
      {
        "duration": 25,
        "start_time": "2023-09-14T23:30:43.265Z"
      },
      {
        "duration": 264,
        "start_time": "2023-09-14T23:30:43.292Z"
      },
      {
        "duration": 256,
        "start_time": "2023-09-14T23:30:43.559Z"
      },
      {
        "duration": 35,
        "start_time": "2023-09-14T23:30:43.817Z"
      },
      {
        "duration": 29,
        "start_time": "2023-09-14T23:30:43.855Z"
      },
      {
        "duration": 21,
        "start_time": "2023-09-14T23:30:43.886Z"
      },
      {
        "duration": 75,
        "start_time": "2023-09-14T23:30:43.908Z"
      },
      {
        "duration": 10,
        "start_time": "2023-09-14T23:30:43.984Z"
      },
      {
        "duration": 4,
        "start_time": "2023-09-14T23:30:43.995Z"
      },
      {
        "duration": 21,
        "start_time": "2023-09-14T23:30:44.000Z"
      },
      {
        "duration": 42,
        "start_time": "2023-09-14T23:30:44.023Z"
      },
      {
        "duration": 22,
        "start_time": "2023-09-14T23:30:44.067Z"
      },
      {
        "duration": 102,
        "start_time": "2023-09-15T00:09:49.277Z"
      },
      {
        "duration": 1775,
        "start_time": "2023-09-15T00:09:58.080Z"
      },
      {
        "duration": 18,
        "start_time": "2023-09-15T00:10:10.777Z"
      },
      {
        "duration": 1743,
        "start_time": "2023-09-15T00:13:33.566Z"
      },
      {
        "duration": 25,
        "start_time": "2023-09-15T00:13:38.877Z"
      },
      {
        "duration": 25,
        "start_time": "2023-09-15T00:15:26.936Z"
      },
      {
        "duration": 16,
        "start_time": "2023-09-15T00:16:02.280Z"
      },
      {
        "duration": 8,
        "start_time": "2023-09-15T00:17:18.893Z"
      },
      {
        "duration": 1755,
        "start_time": "2023-09-15T00:17:24.424Z"
      },
      {
        "duration": 5,
        "start_time": "2023-09-15T00:17:38.058Z"
      },
      {
        "duration": 11,
        "start_time": "2023-09-15T00:18:18.171Z"
      },
      {
        "duration": 25,
        "start_time": "2023-09-15T00:22:02.284Z"
      },
      {
        "duration": 9,
        "start_time": "2023-09-15T00:26:20.984Z"
      },
      {
        "duration": 9,
        "start_time": "2023-09-15T00:26:40.187Z"
      },
      {
        "duration": 244,
        "start_time": "2023-09-15T00:26:51.670Z"
      },
      {
        "duration": 245,
        "start_time": "2023-09-15T00:26:54.693Z"
      },
      {
        "duration": 230,
        "start_time": "2023-09-15T00:26:55.509Z"
      },
      {
        "duration": 16,
        "start_time": "2023-09-15T00:27:43.455Z"
      },
      {
        "duration": 78,
        "start_time": "2023-09-15T00:28:03.603Z"
      },
      {
        "duration": 1654,
        "start_time": "2023-09-15T08:06:41.717Z"
      },
      {
        "duration": 1212,
        "start_time": "2023-09-15T08:06:43.373Z"
      },
      {
        "duration": 3,
        "start_time": "2023-09-15T08:06:44.586Z"
      },
      {
        "duration": 23,
        "start_time": "2023-09-15T08:06:44.590Z"
      },
      {
        "duration": 4,
        "start_time": "2023-09-15T08:06:44.615Z"
      },
      {
        "duration": 148,
        "start_time": "2023-09-15T08:06:44.620Z"
      },
      {
        "duration": 3,
        "start_time": "2023-09-15T08:06:44.770Z"
      },
      {
        "duration": 97,
        "start_time": "2023-09-15T08:06:44.774Z"
      },
      {
        "duration": 24,
        "start_time": "2023-09-15T08:06:44.873Z"
      },
      {
        "duration": 213,
        "start_time": "2023-09-15T08:06:44.899Z"
      },
      {
        "duration": 236,
        "start_time": "2023-09-15T08:06:45.114Z"
      },
      {
        "duration": 24,
        "start_time": "2023-09-15T08:06:45.352Z"
      },
      {
        "duration": 22,
        "start_time": "2023-09-15T08:06:45.377Z"
      },
      {
        "duration": 55,
        "start_time": "2023-09-15T08:06:45.402Z"
      },
      {
        "duration": 63,
        "start_time": "2023-09-15T08:06:45.459Z"
      },
      {
        "duration": 10,
        "start_time": "2023-09-15T08:06:45.524Z"
      },
      {
        "duration": 8,
        "start_time": "2023-09-15T08:06:45.535Z"
      },
      {
        "duration": 20,
        "start_time": "2023-09-15T08:06:45.545Z"
      },
      {
        "duration": 18,
        "start_time": "2023-09-15T08:06:45.567Z"
      },
      {
        "duration": 16,
        "start_time": "2023-09-15T08:06:45.587Z"
      },
      {
        "duration": 35,
        "start_time": "2023-09-15T08:06:45.604Z"
      },
      {
        "duration": 41,
        "start_time": "2023-09-15T08:06:45.640Z"
      },
      {
        "duration": 18,
        "start_time": "2023-09-15T08:06:45.683Z"
      },
      {
        "duration": 29,
        "start_time": "2023-09-15T08:06:45.702Z"
      },
      {
        "duration": 229,
        "start_time": "2023-09-15T08:06:45.733Z"
      },
      {
        "duration": 226,
        "start_time": "2023-09-15T08:06:45.964Z"
      },
      {
        "duration": 224,
        "start_time": "2023-09-15T08:06:46.192Z"
      },
      {
        "duration": 18,
        "start_time": "2023-09-15T08:06:46.417Z"
      },
      {
        "duration": 74,
        "start_time": "2023-09-15T08:06:46.444Z"
      },
      {
        "duration": 107,
        "start_time": "2023-09-15T08:45:49.351Z"
      },
      {
        "duration": 200,
        "start_time": "2023-09-15T09:17:22.725Z"
      },
      {
        "duration": 4,
        "start_time": "2023-09-15T09:19:17.601Z"
      },
      {
        "duration": 15,
        "start_time": "2023-09-15T09:20:04.449Z"
      },
      {
        "duration": 67,
        "start_time": "2023-09-15T09:20:11.136Z"
      },
      {
        "duration": 64,
        "start_time": "2023-09-15T09:20:42.172Z"
      },
      {
        "duration": 73,
        "start_time": "2023-09-15T09:21:05.162Z"
      },
      {
        "duration": 74,
        "start_time": "2023-09-15T09:21:36.136Z"
      },
      {
        "duration": 41,
        "start_time": "2023-09-15T09:21:44.079Z"
      },
      {
        "duration": 45,
        "start_time": "2023-09-15T09:23:36.145Z"
      },
      {
        "duration": 70,
        "start_time": "2023-09-15T09:23:37.664Z"
      },
      {
        "duration": 4,
        "start_time": "2023-09-15T09:23:42.148Z"
      },
      {
        "duration": 4,
        "start_time": "2023-09-15T09:23:46.161Z"
      },
      {
        "duration": 271,
        "start_time": "2023-09-15T09:24:08.215Z"
      },
      {
        "duration": 1832,
        "start_time": "2023-09-15T10:15:23.283Z"
      },
      {
        "duration": 961,
        "start_time": "2023-09-15T10:15:25.117Z"
      },
      {
        "duration": 3,
        "start_time": "2023-09-15T10:15:26.080Z"
      },
      {
        "duration": 33,
        "start_time": "2023-09-15T10:15:26.084Z"
      },
      {
        "duration": 6,
        "start_time": "2023-09-15T10:15:26.120Z"
      },
      {
        "duration": 181,
        "start_time": "2023-09-15T10:15:26.127Z"
      },
      {
        "duration": 5,
        "start_time": "2023-09-15T10:15:26.310Z"
      },
      {
        "duration": 111,
        "start_time": "2023-09-15T10:15:26.317Z"
      },
      {
        "duration": 32,
        "start_time": "2023-09-15T10:15:26.431Z"
      },
      {
        "duration": 223,
        "start_time": "2023-09-15T10:15:26.465Z"
      },
      {
        "duration": 255,
        "start_time": "2023-09-15T10:15:26.690Z"
      },
      {
        "duration": 29,
        "start_time": "2023-09-15T10:15:26.947Z"
      },
      {
        "duration": 25,
        "start_time": "2023-09-15T10:15:26.978Z"
      },
      {
        "duration": 46,
        "start_time": "2023-09-15T10:15:27.007Z"
      },
      {
        "duration": 114,
        "start_time": "2023-09-15T10:15:27.055Z"
      },
      {
        "duration": 20,
        "start_time": "2023-09-15T10:15:27.172Z"
      },
      {
        "duration": 5,
        "start_time": "2023-09-15T10:15:27.195Z"
      },
      {
        "duration": 25,
        "start_time": "2023-09-15T10:15:27.202Z"
      },
      {
        "duration": 17,
        "start_time": "2023-09-15T10:15:27.244Z"
      },
      {
        "duration": 47,
        "start_time": "2023-09-15T10:15:27.263Z"
      },
      {
        "duration": 46,
        "start_time": "2023-09-15T10:15:27.311Z"
      },
      {
        "duration": 40,
        "start_time": "2023-09-15T10:15:27.358Z"
      },
      {
        "duration": 31,
        "start_time": "2023-09-15T10:15:27.400Z"
      },
      {
        "duration": 35,
        "start_time": "2023-09-15T10:15:27.433Z"
      },
      {
        "duration": 250,
        "start_time": "2023-09-15T10:15:27.470Z"
      },
      {
        "duration": 256,
        "start_time": "2023-09-15T10:15:27.722Z"
      },
      {
        "duration": 243,
        "start_time": "2023-09-15T10:15:27.980Z"
      },
      {
        "duration": 26,
        "start_time": "2023-09-15T10:15:28.224Z"
      },
      {
        "duration": 73,
        "start_time": "2023-09-15T10:15:28.252Z"
      },
      {
        "duration": 227,
        "start_time": "2023-09-15T10:15:28.327Z"
      },
      {
        "duration": 3,
        "start_time": "2023-09-15T10:15:28.556Z"
      },
      {
        "duration": 78,
        "start_time": "2023-09-15T10:15:28.561Z"
      },
      {
        "duration": 61,
        "start_time": "2023-09-15T10:15:28.640Z"
      },
      {
        "duration": 81,
        "start_time": "2023-09-15T10:15:28.703Z"
      },
      {
        "duration": 74,
        "start_time": "2023-09-15T10:15:28.786Z"
      },
      {
        "duration": 23,
        "start_time": "2023-09-15T10:15:28.862Z"
      },
      {
        "duration": 56,
        "start_time": "2023-09-15T10:15:28.887Z"
      },
      {
        "duration": 70,
        "start_time": "2023-09-15T10:15:28.945Z"
      },
      {
        "duration": 4,
        "start_time": "2023-09-15T10:15:29.017Z"
      },
      {
        "duration": 40,
        "start_time": "2023-09-15T10:15:29.023Z"
      },
      {
        "duration": 374,
        "start_time": "2023-09-15T10:15:29.068Z"
      },
      {
        "duration": 19,
        "start_time": "2023-09-15T10:17:14.693Z"
      },
      {
        "duration": 20,
        "start_time": "2023-09-15T10:17:15.737Z"
      },
      {
        "duration": 18,
        "start_time": "2023-09-15T10:17:18.901Z"
      },
      {
        "duration": 1757,
        "start_time": "2023-09-15T10:17:26.422Z"
      },
      {
        "duration": 1061,
        "start_time": "2023-09-15T10:17:28.182Z"
      },
      {
        "duration": 9,
        "start_time": "2023-09-15T10:17:29.245Z"
      },
      {
        "duration": 40,
        "start_time": "2023-09-15T10:17:29.257Z"
      },
      {
        "duration": 7,
        "start_time": "2023-09-15T10:17:29.299Z"
      },
      {
        "duration": 179,
        "start_time": "2023-09-15T10:17:29.308Z"
      },
      {
        "duration": 5,
        "start_time": "2023-09-15T10:17:29.489Z"
      },
      {
        "duration": 114,
        "start_time": "2023-09-15T10:17:29.497Z"
      },
      {
        "duration": 30,
        "start_time": "2023-09-15T10:17:29.614Z"
      },
      {
        "duration": 339,
        "start_time": "2023-09-15T10:17:29.648Z"
      },
      {
        "duration": 374,
        "start_time": "2023-09-15T10:17:29.990Z"
      },
      {
        "duration": 25,
        "start_time": "2023-09-15T10:17:30.366Z"
      },
      {
        "duration": 39,
        "start_time": "2023-09-15T10:17:30.394Z"
      },
      {
        "duration": 45,
        "start_time": "2023-09-15T10:17:30.435Z"
      },
      {
        "duration": 96,
        "start_time": "2023-09-15T10:17:30.482Z"
      },
      {
        "duration": 15,
        "start_time": "2023-09-15T10:17:30.581Z"
      },
      {
        "duration": 72,
        "start_time": "2023-09-15T10:17:30.598Z"
      },
      {
        "duration": 54,
        "start_time": "2023-09-15T10:17:30.673Z"
      },
      {
        "duration": 133,
        "start_time": "2023-09-15T10:17:30.730Z"
      },
      {
        "duration": 65,
        "start_time": "2023-09-15T10:17:30.867Z"
      },
      {
        "duration": 89,
        "start_time": "2023-09-15T10:17:30.935Z"
      },
      {
        "duration": 78,
        "start_time": "2023-09-15T10:17:31.026Z"
      },
      {
        "duration": 60,
        "start_time": "2023-09-15T10:17:31.107Z"
      },
      {
        "duration": 67,
        "start_time": "2023-09-15T10:17:31.170Z"
      },
      {
        "duration": 298,
        "start_time": "2023-09-15T10:17:31.239Z"
      },
      {
        "duration": 255,
        "start_time": "2023-09-15T10:17:31.538Z"
      },
      {
        "duration": 280,
        "start_time": "2023-09-15T10:17:31.795Z"
      },
      {
        "duration": 19,
        "start_time": "2023-09-15T10:17:32.079Z"
      },
      {
        "duration": 138,
        "start_time": "2023-09-15T10:17:32.100Z"
      },
      {
        "duration": 275,
        "start_time": "2023-09-15T10:17:32.240Z"
      },
      {
        "duration": 4,
        "start_time": "2023-09-15T10:17:32.516Z"
      },
      {
        "duration": 98,
        "start_time": "2023-09-15T10:17:32.522Z"
      },
      {
        "duration": 70,
        "start_time": "2023-09-15T10:17:32.621Z"
      },
      {
        "duration": 79,
        "start_time": "2023-09-15T10:17:32.693Z"
      },
      {
        "duration": 99,
        "start_time": "2023-09-15T10:17:32.774Z"
      },
      {
        "duration": 32,
        "start_time": "2023-09-15T10:17:32.876Z"
      },
      {
        "duration": 40,
        "start_time": "2023-09-15T10:17:32.911Z"
      },
      {
        "duration": 19,
        "start_time": "2023-09-15T10:17:32.954Z"
      },
      {
        "duration": 95,
        "start_time": "2023-09-15T10:17:32.975Z"
      },
      {
        "duration": 5,
        "start_time": "2023-09-15T10:17:33.073Z"
      },
      {
        "duration": 13,
        "start_time": "2023-09-15T10:17:33.084Z"
      },
      {
        "duration": 261,
        "start_time": "2023-09-15T10:17:33.100Z"
      },
      {
        "duration": 53,
        "start_time": "2023-09-15T10:18:10.540Z"
      },
      {
        "duration": 9,
        "start_time": "2023-09-15T10:20:43.674Z"
      },
      {
        "duration": 123,
        "start_time": "2023-09-15T10:21:00.188Z"
      },
      {
        "duration": 8,
        "start_time": "2023-09-15T10:21:05.848Z"
      },
      {
        "duration": 4390,
        "start_time": "2023-09-15T10:56:36.855Z"
      },
      {
        "duration": 4,
        "start_time": "2023-09-15T10:57:01.646Z"
      },
      {
        "duration": 1035,
        "start_time": "2023-09-15T10:57:07.514Z"
      },
      {
        "duration": 11,
        "start_time": "2023-09-15T10:57:17.359Z"
      },
      {
        "duration": 5,
        "start_time": "2023-09-15T10:57:24.312Z"
      },
      {
        "duration": 124,
        "start_time": "2023-09-15T10:58:07.412Z"
      },
      {
        "duration": 92063,
        "start_time": "2023-09-15T10:58:17.381Z"
      },
      {
        "duration": 37510,
        "start_time": "2023-09-15T10:59:49.447Z"
      },
      {
        "duration": 100,
        "start_time": "2023-09-15T11:00:27.046Z"
      },
      {
        "duration": 102,
        "start_time": "2023-09-15T11:00:27.149Z"
      },
      {
        "duration": 15004,
        "start_time": "2023-09-15T11:01:08.955Z"
      },
      {
        "duration": 85,
        "start_time": "2023-09-15T11:01:36.364Z"
      },
      {
        "duration": 9,
        "start_time": "2023-09-15T11:01:36.787Z"
      },
      {
        "duration": 6,
        "start_time": "2023-09-15T11:01:37.411Z"
      },
      {
        "duration": 1590,
        "start_time": "2023-09-15T11:08:11.987Z"
      },
      {
        "duration": 900,
        "start_time": "2023-09-15T11:08:13.580Z"
      },
      {
        "duration": 3,
        "start_time": "2023-09-15T11:08:14.482Z"
      },
      {
        "duration": 51,
        "start_time": "2023-09-15T11:08:14.488Z"
      },
      {
        "duration": 7,
        "start_time": "2023-09-15T11:08:14.544Z"
      },
      {
        "duration": 280,
        "start_time": "2023-09-15T11:08:14.553Z"
      },
      {
        "duration": 8,
        "start_time": "2023-09-15T11:08:14.837Z"
      },
      {
        "duration": 121,
        "start_time": "2023-09-15T11:08:14.848Z"
      },
      {
        "duration": 31,
        "start_time": "2023-09-15T11:08:14.971Z"
      },
      {
        "duration": 437,
        "start_time": "2023-09-15T11:08:15.005Z"
      },
      {
        "duration": 243,
        "start_time": "2023-09-15T11:08:15.444Z"
      },
      {
        "duration": 24,
        "start_time": "2023-09-15T11:08:15.689Z"
      },
      {
        "duration": 51,
        "start_time": "2023-09-15T11:08:15.716Z"
      },
      {
        "duration": 31,
        "start_time": "2023-09-15T11:08:15.772Z"
      },
      {
        "duration": 100,
        "start_time": "2023-09-15T11:08:15.806Z"
      },
      {
        "duration": 11,
        "start_time": "2023-09-15T11:08:15.908Z"
      },
      {
        "duration": 9,
        "start_time": "2023-09-15T11:08:15.920Z"
      },
      {
        "duration": 21,
        "start_time": "2023-09-15T11:08:15.944Z"
      },
      {
        "duration": 29,
        "start_time": "2023-09-15T11:08:15.966Z"
      },
      {
        "duration": 24,
        "start_time": "2023-09-15T11:08:15.997Z"
      },
      {
        "duration": 46,
        "start_time": "2023-09-15T11:08:16.023Z"
      },
      {
        "duration": 35,
        "start_time": "2023-09-15T11:08:16.071Z"
      },
      {
        "duration": 43,
        "start_time": "2023-09-15T11:08:16.109Z"
      },
      {
        "duration": 56,
        "start_time": "2023-09-15T11:08:16.155Z"
      },
      {
        "duration": 258,
        "start_time": "2023-09-15T11:08:16.213Z"
      },
      {
        "duration": 251,
        "start_time": "2023-09-15T11:08:16.474Z"
      },
      {
        "duration": 272,
        "start_time": "2023-09-15T11:08:16.726Z"
      },
      {
        "duration": 43,
        "start_time": "2023-09-15T11:08:17.001Z"
      },
      {
        "duration": 97,
        "start_time": "2023-09-15T11:08:17.047Z"
      },
      {
        "duration": 260,
        "start_time": "2023-09-15T11:08:17.146Z"
      },
      {
        "duration": 3,
        "start_time": "2023-09-15T11:08:17.408Z"
      },
      {
        "duration": 90,
        "start_time": "2023-09-15T11:08:17.413Z"
      },
      {
        "duration": 73,
        "start_time": "2023-09-15T11:08:17.505Z"
      },
      {
        "duration": 77,
        "start_time": "2023-09-15T11:08:17.580Z"
      },
      {
        "duration": 67,
        "start_time": "2023-09-15T11:08:17.661Z"
      },
      {
        "duration": 42,
        "start_time": "2023-09-15T11:08:17.730Z"
      },
      {
        "duration": 21,
        "start_time": "2023-09-15T11:08:17.773Z"
      },
      {
        "duration": 15,
        "start_time": "2023-09-15T11:08:17.795Z"
      },
      {
        "duration": 67,
        "start_time": "2023-09-15T11:08:17.812Z"
      },
      {
        "duration": 6,
        "start_time": "2023-09-15T11:08:17.881Z"
      },
      {
        "duration": 4,
        "start_time": "2023-09-15T11:08:17.893Z"
      },
      {
        "duration": 268,
        "start_time": "2023-09-15T11:08:17.899Z"
      },
      {
        "duration": 32,
        "start_time": "2023-09-15T11:08:18.168Z"
      },
      {
        "duration": 158,
        "start_time": "2023-09-15T11:08:18.202Z"
      },
      {
        "duration": 0,
        "start_time": "2023-09-15T11:08:18.362Z"
      },
      {
        "duration": 0,
        "start_time": "2023-09-15T11:08:18.364Z"
      },
      {
        "duration": 0,
        "start_time": "2023-09-15T11:08:18.366Z"
      },
      {
        "duration": 0,
        "start_time": "2023-09-15T11:08:18.367Z"
      },
      {
        "duration": 0,
        "start_time": "2023-09-15T11:08:18.369Z"
      },
      {
        "duration": 0,
        "start_time": "2023-09-15T11:08:18.370Z"
      },
      {
        "duration": 0,
        "start_time": "2023-09-15T11:08:18.372Z"
      },
      {
        "duration": 0,
        "start_time": "2023-09-15T11:08:18.374Z"
      },
      {
        "duration": 0,
        "start_time": "2023-09-15T11:08:18.375Z"
      },
      {
        "duration": 0,
        "start_time": "2023-09-15T11:08:18.376Z"
      },
      {
        "duration": 0,
        "start_time": "2023-09-15T11:08:18.378Z"
      },
      {
        "duration": 0,
        "start_time": "2023-09-15T11:08:18.379Z"
      },
      {
        "duration": 0,
        "start_time": "2023-09-15T11:08:18.380Z"
      },
      {
        "duration": 0,
        "start_time": "2023-09-15T11:08:18.381Z"
      },
      {
        "duration": 10,
        "start_time": "2023-09-15T11:08:28.714Z"
      },
      {
        "duration": 5192,
        "start_time": "2023-09-15T11:08:30.971Z"
      },
      {
        "duration": 81,
        "start_time": "2023-09-15T11:08:36.166Z"
      },
      {
        "duration": 801,
        "start_time": "2023-09-15T11:08:36.250Z"
      },
      {
        "duration": 11,
        "start_time": "2023-09-15T11:08:37.054Z"
      },
      {
        "duration": 88,
        "start_time": "2023-09-15T11:08:37.068Z"
      },
      {
        "duration": 126890,
        "start_time": "2023-09-15T11:08:37.158Z"
      },
      {
        "duration": 32694,
        "start_time": "2023-09-15T11:10:44.051Z"
      },
      {
        "duration": 108,
        "start_time": "2023-09-15T11:11:16.747Z"
      },
      {
        "duration": 93,
        "start_time": "2023-09-15T11:11:16.858Z"
      },
      {
        "duration": 14797,
        "start_time": "2023-09-15T11:11:16.955Z"
      },
      {
        "duration": 193,
        "start_time": "2023-09-15T11:11:31.755Z"
      },
      {
        "duration": 13,
        "start_time": "2023-09-15T11:11:31.950Z"
      },
      {
        "duration": 182,
        "start_time": "2023-09-15T11:11:31.965Z"
      },
      {
        "duration": 21,
        "start_time": "2023-09-15T11:11:32.149Z"
      },
      {
        "duration": 54,
        "start_time": "2023-09-15T11:11:32.173Z"
      },
      {
        "duration": 30,
        "start_time": "2023-09-15T11:11:57.712Z"
      },
      {
        "duration": 27,
        "start_time": "2023-09-15T11:12:19.788Z"
      },
      {
        "duration": 110,
        "start_time": "2023-09-15T11:12:28.222Z"
      },
      {
        "duration": 5,
        "start_time": "2023-09-15T11:12:32.906Z"
      },
      {
        "duration": 4,
        "start_time": "2023-09-15T11:12:37.602Z"
      },
      {
        "duration": 4,
        "start_time": "2023-09-15T11:12:56.874Z"
      },
      {
        "duration": 1633,
        "start_time": "2023-09-15T11:13:02.404Z"
      },
      {
        "duration": 3,
        "start_time": "2023-09-15T11:15:29.262Z"
      },
      {
        "duration": 99,
        "start_time": "2023-09-15T11:15:29.719Z"
      },
      {
        "duration": 4,
        "start_time": "2023-09-15T11:15:30.130Z"
      },
      {
        "duration": 5,
        "start_time": "2023-09-15T11:15:30.704Z"
      },
      {
        "duration": 3,
        "start_time": "2023-09-15T11:15:31.137Z"
      },
      {
        "duration": 1506,
        "start_time": "2023-09-15T11:33:55.306Z"
      },
      {
        "duration": 853,
        "start_time": "2023-09-15T11:33:56.814Z"
      },
      {
        "duration": 3,
        "start_time": "2023-09-15T11:33:57.669Z"
      },
      {
        "duration": 27,
        "start_time": "2023-09-15T11:33:57.673Z"
      },
      {
        "duration": 4,
        "start_time": "2023-09-15T11:33:57.703Z"
      },
      {
        "duration": 150,
        "start_time": "2023-09-15T11:33:57.709Z"
      },
      {
        "duration": 4,
        "start_time": "2023-09-15T11:33:57.861Z"
      },
      {
        "duration": 154,
        "start_time": "2023-09-15T11:33:57.867Z"
      },
      {
        "duration": 24,
        "start_time": "2023-09-15T11:33:58.022Z"
      },
      {
        "duration": 217,
        "start_time": "2023-09-15T11:33:58.048Z"
      },
      {
        "duration": 226,
        "start_time": "2023-09-15T11:33:58.267Z"
      },
      {
        "duration": 28,
        "start_time": "2023-09-15T11:33:58.495Z"
      },
      {
        "duration": 45,
        "start_time": "2023-09-15T11:33:58.525Z"
      },
      {
        "duration": 21,
        "start_time": "2023-09-15T11:33:58.573Z"
      },
      {
        "duration": 84,
        "start_time": "2023-09-15T11:33:58.596Z"
      },
      {
        "duration": 10,
        "start_time": "2023-09-15T11:33:58.681Z"
      },
      {
        "duration": 5,
        "start_time": "2023-09-15T11:33:58.693Z"
      },
      {
        "duration": 45,
        "start_time": "2023-09-15T11:33:58.700Z"
      },
      {
        "duration": 34,
        "start_time": "2023-09-15T11:33:58.746Z"
      },
      {
        "duration": 17,
        "start_time": "2023-09-15T11:33:58.782Z"
      },
      {
        "duration": 43,
        "start_time": "2023-09-15T11:33:58.801Z"
      },
      {
        "duration": 27,
        "start_time": "2023-09-15T11:33:58.846Z"
      },
      {
        "duration": 18,
        "start_time": "2023-09-15T11:33:58.875Z"
      },
      {
        "duration": 50,
        "start_time": "2023-09-15T11:33:58.894Z"
      },
      {
        "duration": 250,
        "start_time": "2023-09-15T11:33:58.945Z"
      },
      {
        "duration": 237,
        "start_time": "2023-09-15T11:33:59.197Z"
      },
      {
        "duration": 233,
        "start_time": "2023-09-15T11:33:59.436Z"
      },
      {
        "duration": 16,
        "start_time": "2023-09-15T11:33:59.671Z"
      },
      {
        "duration": 87,
        "start_time": "2023-09-15T11:33:59.689Z"
      },
      {
        "duration": 215,
        "start_time": "2023-09-15T11:33:59.778Z"
      },
      {
        "duration": 3,
        "start_time": "2023-09-15T11:33:59.994Z"
      },
      {
        "duration": 99,
        "start_time": "2023-09-15T11:33:59.999Z"
      },
      {
        "duration": 69,
        "start_time": "2023-09-15T11:34:00.100Z"
      },
      {
        "duration": 73,
        "start_time": "2023-09-15T11:34:00.171Z"
      },
      {
        "duration": 64,
        "start_time": "2023-09-15T11:34:00.245Z"
      },
      {
        "duration": 40,
        "start_time": "2023-09-15T11:34:00.311Z"
      },
      {
        "duration": 39,
        "start_time": "2023-09-15T11:34:00.354Z"
      },
      {
        "duration": 40,
        "start_time": "2023-09-15T11:34:00.395Z"
      },
      {
        "duration": 98,
        "start_time": "2023-09-15T11:34:00.437Z"
      },
      {
        "duration": 4,
        "start_time": "2023-09-15T11:34:00.537Z"
      },
      {
        "duration": 58,
        "start_time": "2023-09-15T11:34:00.546Z"
      },
      {
        "duration": 280,
        "start_time": "2023-09-15T11:34:00.606Z"
      },
      {
        "duration": 32,
        "start_time": "2023-09-15T11:34:00.887Z"
      },
      {
        "duration": 56,
        "start_time": "2023-09-15T11:34:00.920Z"
      },
      {
        "duration": 4779,
        "start_time": "2023-09-15T11:34:00.977Z"
      },
      {
        "duration": 87,
        "start_time": "2023-09-15T11:34:05.759Z"
      },
      {
        "duration": 1096,
        "start_time": "2023-09-15T11:34:05.848Z"
      },
      {
        "duration": 11,
        "start_time": "2023-09-15T11:34:06.946Z"
      },
      {
        "duration": 98,
        "start_time": "2023-09-15T11:34:06.959Z"
      },
      {
        "duration": 130108,
        "start_time": "2023-09-15T11:34:07.143Z"
      },
      {
        "duration": 31895,
        "start_time": "2023-09-15T11:36:17.254Z"
      },
      {
        "duration": 198,
        "start_time": "2023-09-15T11:36:49.151Z"
      },
      {
        "duration": 95,
        "start_time": "2023-09-15T11:36:49.352Z"
      },
      {
        "duration": 14604,
        "start_time": "2023-09-15T11:36:49.449Z"
      },
      {
        "duration": 297,
        "start_time": "2023-09-15T11:37:04.055Z"
      },
      {
        "duration": 103,
        "start_time": "2023-09-15T11:37:04.357Z"
      },
      {
        "duration": 7,
        "start_time": "2023-09-15T11:37:04.462Z"
      },
      {
        "duration": 4,
        "start_time": "2023-09-15T11:37:04.544Z"
      },
      {
        "duration": 152,
        "start_time": "2023-09-15T11:37:04.551Z"
      },
      {
        "duration": 4,
        "start_time": "2023-09-15T11:37:04.705Z"
      },
      {
        "duration": 5,
        "start_time": "2023-09-15T11:37:04.712Z"
      },
      {
        "duration": 24,
        "start_time": "2023-09-15T11:37:04.720Z"
      },
      {
        "duration": 15158998,
        "start_time": "2023-09-15T11:37:04.747Z"
      },
      {
        "duration": 21,
        "start_time": "2023-09-15T21:00:42.581Z"
      },
      {
        "duration": 136,
        "start_time": "2023-09-15T21:01:28.620Z"
      },
      {
        "duration": 81,
        "start_time": "2023-09-15T21:03:07.006Z"
      },
      {
        "duration": 2912788,
        "start_time": "2023-09-16T07:40:28.776Z"
      },
      {
        "duration": 5,
        "start_time": "2023-09-16T09:09:44.785Z"
      },
      {
        "duration": 3,
        "start_time": "2023-09-16T09:09:49.922Z"
      },
      {
        "duration": 336,
        "start_time": "2023-09-16T09:10:02.081Z"
      },
      {
        "duration": 9,
        "start_time": "2023-09-16T09:10:02.504Z"
      },
      {
        "duration": 2085744,
        "start_time": "2023-09-16T09:32:13.407Z"
      },
      {
        "duration": 7,
        "start_time": "2023-09-16T10:06:59.153Z"
      },
      {
        "duration": 6,
        "start_time": "2023-09-16T10:06:59.163Z"
      },
      {
        "duration": 425,
        "start_time": "2023-09-16T10:06:59.173Z"
      },
      {
        "duration": 9,
        "start_time": "2023-09-16T10:06:59.600Z"
      },
      {
        "duration": 1763,
        "start_time": "2023-09-16T22:43:10.598Z"
      },
      {
        "duration": 1332,
        "start_time": "2023-09-16T22:43:12.363Z"
      },
      {
        "duration": 4,
        "start_time": "2023-09-16T22:43:13.697Z"
      },
      {
        "duration": 45,
        "start_time": "2023-09-16T22:43:13.703Z"
      },
      {
        "duration": 15,
        "start_time": "2023-09-16T22:43:13.750Z"
      },
      {
        "duration": 205,
        "start_time": "2023-09-16T22:43:13.766Z"
      },
      {
        "duration": 4,
        "start_time": "2023-09-16T22:43:13.973Z"
      },
      {
        "duration": 112,
        "start_time": "2023-09-16T22:43:13.978Z"
      },
      {
        "duration": 35,
        "start_time": "2023-09-16T22:43:14.093Z"
      },
      {
        "duration": 277,
        "start_time": "2023-09-16T22:43:14.131Z"
      },
      {
        "duration": 295,
        "start_time": "2023-09-16T22:43:14.416Z"
      },
      {
        "duration": 30,
        "start_time": "2023-09-16T22:43:14.713Z"
      },
      {
        "duration": 113,
        "start_time": "2023-09-16T22:43:14.745Z"
      },
      {
        "duration": 28,
        "start_time": "2023-09-16T22:43:14.859Z"
      },
      {
        "duration": 66,
        "start_time": "2023-09-16T22:43:14.890Z"
      },
      {
        "duration": 12,
        "start_time": "2023-09-16T22:43:14.957Z"
      },
      {
        "duration": 23,
        "start_time": "2023-09-16T22:43:14.970Z"
      },
      {
        "duration": 74,
        "start_time": "2023-09-16T22:43:14.995Z"
      },
      {
        "duration": 75,
        "start_time": "2023-09-16T22:43:15.071Z"
      },
      {
        "duration": 124,
        "start_time": "2023-09-16T22:43:15.148Z"
      },
      {
        "duration": 150,
        "start_time": "2023-09-16T22:43:15.275Z"
      },
      {
        "duration": 38,
        "start_time": "2023-09-16T22:43:15.427Z"
      },
      {
        "duration": 19,
        "start_time": "2023-09-16T22:43:15.467Z"
      },
      {
        "duration": 41,
        "start_time": "2023-09-16T22:43:15.488Z"
      },
      {
        "duration": 286,
        "start_time": "2023-09-16T22:43:15.531Z"
      },
      {
        "duration": 252,
        "start_time": "2023-09-16T22:43:15.819Z"
      },
      {
        "duration": 254,
        "start_time": "2023-09-16T22:43:16.073Z"
      },
      {
        "duration": 17,
        "start_time": "2023-09-16T22:43:16.331Z"
      },
      {
        "duration": 103,
        "start_time": "2023-09-16T22:43:16.350Z"
      },
      {
        "duration": 267,
        "start_time": "2023-09-16T22:43:16.454Z"
      },
      {
        "duration": 5,
        "start_time": "2023-09-16T22:43:16.723Z"
      },
      {
        "duration": 134,
        "start_time": "2023-09-16T22:43:16.730Z"
      },
      {
        "duration": 0,
        "start_time": "2023-09-16T22:43:16.866Z"
      },
      {
        "duration": 0,
        "start_time": "2023-09-16T22:43:16.869Z"
      },
      {
        "duration": 0,
        "start_time": "2023-09-16T22:43:16.870Z"
      },
      {
        "duration": 0,
        "start_time": "2023-09-16T22:43:16.872Z"
      },
      {
        "duration": 0,
        "start_time": "2023-09-16T22:43:16.874Z"
      },
      {
        "duration": 0,
        "start_time": "2023-09-16T22:43:16.875Z"
      },
      {
        "duration": 0,
        "start_time": "2023-09-16T22:43:16.876Z"
      },
      {
        "duration": 0,
        "start_time": "2023-09-16T22:43:16.878Z"
      },
      {
        "duration": 1,
        "start_time": "2023-09-16T22:43:16.879Z"
      },
      {
        "duration": 0,
        "start_time": "2023-09-16T22:43:16.905Z"
      },
      {
        "duration": 0,
        "start_time": "2023-09-16T22:43:16.906Z"
      },
      {
        "duration": 0,
        "start_time": "2023-09-16T22:43:16.911Z"
      },
      {
        "duration": 0,
        "start_time": "2023-09-16T22:43:16.916Z"
      },
      {
        "duration": 0,
        "start_time": "2023-09-16T22:43:16.917Z"
      },
      {
        "duration": 0,
        "start_time": "2023-09-16T22:43:16.918Z"
      },
      {
        "duration": 0,
        "start_time": "2023-09-16T22:43:16.921Z"
      },
      {
        "duration": 0,
        "start_time": "2023-09-16T22:43:16.922Z"
      },
      {
        "duration": 0,
        "start_time": "2023-09-16T22:43:16.922Z"
      },
      {
        "duration": 0,
        "start_time": "2023-09-16T22:43:16.924Z"
      },
      {
        "duration": 0,
        "start_time": "2023-09-16T22:43:16.925Z"
      },
      {
        "duration": 0,
        "start_time": "2023-09-16T22:43:16.926Z"
      },
      {
        "duration": 0,
        "start_time": "2023-09-16T22:43:16.927Z"
      },
      {
        "duration": 0,
        "start_time": "2023-09-16T22:43:16.928Z"
      },
      {
        "duration": 0,
        "start_time": "2023-09-16T22:43:16.929Z"
      },
      {
        "duration": 0,
        "start_time": "2023-09-16T22:43:16.931Z"
      },
      {
        "duration": 0,
        "start_time": "2023-09-16T22:43:16.932Z"
      },
      {
        "duration": 0,
        "start_time": "2023-09-16T22:43:16.933Z"
      },
      {
        "duration": 0,
        "start_time": "2023-09-16T22:43:16.934Z"
      },
      {
        "duration": 0,
        "start_time": "2023-09-16T22:43:16.935Z"
      },
      {
        "duration": 0,
        "start_time": "2023-09-16T22:43:16.936Z"
      },
      {
        "duration": 0,
        "start_time": "2023-09-16T22:43:16.938Z"
      },
      {
        "duration": 0,
        "start_time": "2023-09-16T22:43:16.939Z"
      },
      {
        "duration": 0,
        "start_time": "2023-09-16T22:43:16.940Z"
      },
      {
        "duration": 0,
        "start_time": "2023-09-16T22:43:16.941Z"
      },
      {
        "duration": 0,
        "start_time": "2023-09-16T22:43:16.942Z"
      },
      {
        "duration": 10,
        "start_time": "2023-09-16T22:44:01.417Z"
      },
      {
        "duration": 71,
        "start_time": "2023-09-16T22:44:59.648Z"
      },
      {
        "duration": 71,
        "start_time": "2023-09-16T22:45:00.663Z"
      },
      {
        "duration": 77,
        "start_time": "2023-09-16T22:45:00.874Z"
      },
      {
        "duration": 103,
        "start_time": "2023-09-16T22:45:01.124Z"
      },
      {
        "duration": 33,
        "start_time": "2023-09-16T22:45:01.230Z"
      },
      {
        "duration": 54,
        "start_time": "2023-09-16T22:45:01.265Z"
      },
      {
        "duration": 114,
        "start_time": "2023-09-16T22:45:01.323Z"
      },
      {
        "duration": 107,
        "start_time": "2023-09-16T22:45:01.438Z"
      },
      {
        "duration": 31,
        "start_time": "2023-09-16T22:45:01.547Z"
      },
      {
        "duration": 565,
        "start_time": "2023-09-16T22:45:01.581Z"
      },
      {
        "duration": 608,
        "start_time": "2023-09-16T22:45:02.148Z"
      },
      {
        "duration": 33,
        "start_time": "2023-09-16T22:45:02.758Z"
      },
      {
        "duration": 24,
        "start_time": "2023-09-16T22:45:02.802Z"
      },
      {
        "duration": 5580,
        "start_time": "2023-09-16T22:45:02.828Z"
      },
      {
        "duration": 6,
        "start_time": "2023-09-16T22:45:08.411Z"
      },
      {
        "duration": 1204,
        "start_time": "2023-09-16T22:45:08.419Z"
      },
      {
        "duration": 93,
        "start_time": "2023-09-16T22:45:09.625Z"
      },
      {
        "duration": 76,
        "start_time": "2023-09-16T22:45:09.732Z"
      },
      {
        "duration": 348400,
        "start_time": "2023-09-16T22:45:09.810Z"
      },
      {
        "duration": 120502,
        "start_time": "2023-09-16T22:50:58.211Z"
      },
      {
        "duration": 96,
        "start_time": "2023-09-16T22:52:58.728Z"
      },
      {
        "duration": 83,
        "start_time": "2023-09-16T22:52:58.830Z"
      },
      {
        "duration": 14806,
        "start_time": "2023-09-16T22:52:58.915Z"
      },
      {
        "duration": 284,
        "start_time": "2023-09-16T22:53:13.724Z"
      },
      {
        "duration": 12,
        "start_time": "2023-09-16T22:53:14.010Z"
      },
      {
        "duration": 84,
        "start_time": "2023-09-16T22:53:14.024Z"
      },
      {
        "duration": 14,
        "start_time": "2023-09-16T22:53:14.112Z"
      },
      {
        "duration": 68,
        "start_time": "2023-09-16T22:53:14.205Z"
      },
      {
        "duration": 5,
        "start_time": "2023-09-16T22:53:14.275Z"
      },
      {
        "duration": 28,
        "start_time": "2023-09-16T22:53:14.282Z"
      },
      {
        "duration": 11,
        "start_time": "2023-09-16T22:53:14.312Z"
      },
      {
        "duration": 2967481,
        "start_time": "2023-09-16T22:53:14.325Z"
      },
      {
        "duration": 4,
        "start_time": "2023-09-16T23:42:41.808Z"
      },
      {
        "duration": 25,
        "start_time": "2023-09-16T23:42:41.814Z"
      },
      {
        "duration": 371,
        "start_time": "2023-09-16T23:42:41.841Z"
      },
      {
        "duration": 7,
        "start_time": "2023-09-16T23:42:42.214Z"
      },
      {
        "duration": 61621,
        "start_time": "2023-09-16T23:42:56.187Z"
      },
      {
        "duration": 4,
        "start_time": "2023-09-16T23:43:57.810Z"
      },
      {
        "duration": 14,
        "start_time": "2023-09-16T23:43:57.816Z"
      },
      {
        "duration": 377,
        "start_time": "2023-09-16T23:43:57.833Z"
      },
      {
        "duration": 8,
        "start_time": "2023-09-16T23:43:58.213Z"
      },
      {
        "duration": 352775,
        "start_time": "2023-09-16T23:45:48.643Z"
      },
      {
        "duration": 4,
        "start_time": "2023-09-16T23:51:41.421Z"
      },
      {
        "duration": 56,
        "start_time": "2023-09-16T23:51:41.427Z"
      },
      {
        "duration": 413,
        "start_time": "2023-09-16T23:51:41.502Z"
      },
      {
        "duration": 6,
        "start_time": "2023-09-16T23:51:41.918Z"
      },
      {
        "duration": 31107,
        "start_time": "2023-09-17T00:03:26.701Z"
      },
      {
        "duration": 3,
        "start_time": "2023-09-17T00:03:57.811Z"
      },
      {
        "duration": 20,
        "start_time": "2023-09-17T00:03:57.816Z"
      },
      {
        "duration": 375,
        "start_time": "2023-09-17T00:03:57.838Z"
      },
      {
        "duration": 8,
        "start_time": "2023-09-17T00:03:58.215Z"
      },
      {
        "duration": 2,
        "start_time": "2023-09-17T00:21:52.171Z"
      },
      {
        "duration": 10,
        "start_time": "2023-09-17T00:25:08.768Z"
      },
      {
        "duration": 4,
        "start_time": "2023-09-17T00:26:39.448Z"
      },
      {
        "duration": 11,
        "start_time": "2023-09-17T00:26:45.465Z"
      },
      {
        "duration": 11,
        "start_time": "2023-09-17T00:27:18.635Z"
      },
      {
        "duration": 5498,
        "start_time": "2023-09-17T07:05:42.961Z"
      },
      {
        "duration": 1358,
        "start_time": "2023-09-17T07:05:48.461Z"
      },
      {
        "duration": 3,
        "start_time": "2023-09-17T07:05:49.821Z"
      },
      {
        "duration": 35,
        "start_time": "2023-09-17T07:05:49.825Z"
      },
      {
        "duration": 7,
        "start_time": "2023-09-17T07:05:49.864Z"
      },
      {
        "duration": 213,
        "start_time": "2023-09-17T07:05:49.873Z"
      },
      {
        "duration": 5,
        "start_time": "2023-09-17T07:05:50.088Z"
      },
      {
        "duration": 124,
        "start_time": "2023-09-17T07:05:50.096Z"
      },
      {
        "duration": 31,
        "start_time": "2023-09-17T07:05:50.223Z"
      },
      {
        "duration": 265,
        "start_time": "2023-09-17T07:05:50.256Z"
      },
      {
        "duration": 268,
        "start_time": "2023-09-17T07:05:50.523Z"
      },
      {
        "duration": 24,
        "start_time": "2023-09-17T07:05:50.794Z"
      },
      {
        "duration": 45,
        "start_time": "2023-09-17T07:05:50.820Z"
      },
      {
        "duration": 22,
        "start_time": "2023-09-17T07:05:50.870Z"
      },
      {
        "duration": 73,
        "start_time": "2023-09-17T07:05:50.894Z"
      },
      {
        "duration": 11,
        "start_time": "2023-09-17T07:05:50.969Z"
      },
      {
        "duration": 17,
        "start_time": "2023-09-17T07:05:50.982Z"
      },
      {
        "duration": 33,
        "start_time": "2023-09-17T07:05:51.000Z"
      },
      {
        "duration": 52,
        "start_time": "2023-09-17T07:05:51.035Z"
      },
      {
        "duration": 24,
        "start_time": "2023-09-17T07:05:51.091Z"
      },
      {
        "duration": 51,
        "start_time": "2023-09-17T07:05:51.117Z"
      },
      {
        "duration": 45,
        "start_time": "2023-09-17T07:05:51.172Z"
      },
      {
        "duration": 42,
        "start_time": "2023-09-17T07:05:51.219Z"
      },
      {
        "duration": 36,
        "start_time": "2023-09-17T07:05:51.263Z"
      },
      {
        "duration": 293,
        "start_time": "2023-09-17T07:05:51.301Z"
      },
      {
        "duration": 267,
        "start_time": "2023-09-17T07:05:51.595Z"
      },
      {
        "duration": 262,
        "start_time": "2023-09-17T07:05:51.864Z"
      },
      {
        "duration": 36,
        "start_time": "2023-09-17T07:05:52.128Z"
      },
      {
        "duration": 93,
        "start_time": "2023-09-17T07:05:52.169Z"
      },
      {
        "duration": 240,
        "start_time": "2023-09-17T07:05:52.264Z"
      },
      {
        "duration": 3,
        "start_time": "2023-09-17T07:05:52.506Z"
      },
      {
        "duration": 97,
        "start_time": "2023-09-17T07:05:52.511Z"
      },
      {
        "duration": 74,
        "start_time": "2023-09-17T07:05:52.610Z"
      },
      {
        "duration": 76,
        "start_time": "2023-09-17T07:05:52.686Z"
      },
      {
        "duration": 83,
        "start_time": "2023-09-17T07:05:52.766Z"
      },
      {
        "duration": 31,
        "start_time": "2023-09-17T07:05:52.851Z"
      },
      {
        "duration": 22,
        "start_time": "2023-09-17T07:05:52.884Z"
      },
      {
        "duration": 25,
        "start_time": "2023-09-17T07:05:52.908Z"
      },
      {
        "duration": 50,
        "start_time": "2023-09-17T07:05:52.947Z"
      },
      {
        "duration": 4,
        "start_time": "2023-09-17T07:05:52.999Z"
      },
      {
        "duration": 17,
        "start_time": "2023-09-17T07:05:53.007Z"
      },
      {
        "duration": 260,
        "start_time": "2023-09-17T07:05:53.026Z"
      },
      {
        "duration": 36,
        "start_time": "2023-09-17T07:05:53.287Z"
      },
      {
        "duration": 4,
        "start_time": "2023-09-17T07:09:32.140Z"
      },
      {
        "duration": 61,
        "start_time": "2023-09-17T07:09:34.191Z"
      },
      {
        "duration": 5,
        "start_time": "2023-09-17T07:12:29.446Z"
      },
      {
        "duration": 9,
        "start_time": "2023-09-17T07:12:31.144Z"
      },
      {
        "duration": 7,
        "start_time": "2023-09-17T07:12:34.043Z"
      },
      {
        "duration": 32,
        "start_time": "2023-09-17T07:12:52.746Z"
      },
      {
        "duration": 33,
        "start_time": "2023-09-17T07:13:39.071Z"
      },
      {
        "duration": 1622,
        "start_time": "2023-09-17T21:25:04.633Z"
      },
      {
        "duration": 2795,
        "start_time": "2023-09-17T21:25:06.257Z"
      },
      {
        "duration": 3,
        "start_time": "2023-09-17T21:25:09.053Z"
      },
      {
        "duration": 29,
        "start_time": "2023-09-17T21:25:09.058Z"
      },
      {
        "duration": 8,
        "start_time": "2023-09-17T21:25:09.088Z"
      },
      {
        "duration": 147,
        "start_time": "2023-09-17T21:25:09.097Z"
      },
      {
        "duration": 4,
        "start_time": "2023-09-17T21:25:09.246Z"
      },
      {
        "duration": 130,
        "start_time": "2023-09-17T21:25:09.251Z"
      },
      {
        "duration": 20,
        "start_time": "2023-09-17T21:25:09.383Z"
      },
      {
        "duration": 204,
        "start_time": "2023-09-17T21:25:09.406Z"
      },
      {
        "duration": 228,
        "start_time": "2023-09-17T21:25:09.612Z"
      },
      {
        "duration": 29,
        "start_time": "2023-09-17T21:25:09.843Z"
      },
      {
        "duration": 30,
        "start_time": "2023-09-17T21:25:09.873Z"
      },
      {
        "duration": 20,
        "start_time": "2023-09-17T21:25:09.905Z"
      },
      {
        "duration": 64,
        "start_time": "2023-09-17T21:25:09.926Z"
      },
      {
        "duration": 10,
        "start_time": "2023-09-17T21:25:09.992Z"
      },
      {
        "duration": 7,
        "start_time": "2023-09-17T21:25:10.003Z"
      },
      {
        "duration": 34,
        "start_time": "2023-09-17T21:25:10.011Z"
      },
      {
        "duration": 24,
        "start_time": "2023-09-17T21:25:10.046Z"
      },
      {
        "duration": 28,
        "start_time": "2023-09-17T21:25:10.072Z"
      },
      {
        "duration": 32,
        "start_time": "2023-09-17T21:25:10.101Z"
      },
      {
        "duration": 28,
        "start_time": "2023-09-17T21:25:10.134Z"
      },
      {
        "duration": 26,
        "start_time": "2023-09-17T21:25:10.164Z"
      },
      {
        "duration": 43,
        "start_time": "2023-09-17T21:25:10.191Z"
      },
      {
        "duration": 217,
        "start_time": "2023-09-17T21:25:10.235Z"
      },
      {
        "duration": 225,
        "start_time": "2023-09-17T21:25:10.454Z"
      },
      {
        "duration": 213,
        "start_time": "2023-09-17T21:25:10.681Z"
      },
      {
        "duration": 16,
        "start_time": "2023-09-17T21:25:10.897Z"
      },
      {
        "duration": 81,
        "start_time": "2023-09-17T21:25:10.914Z"
      },
      {
        "duration": 213,
        "start_time": "2023-09-17T21:25:10.997Z"
      },
      {
        "duration": 3,
        "start_time": "2023-09-17T21:25:11.211Z"
      },
      {
        "duration": 72,
        "start_time": "2023-09-17T21:25:11.215Z"
      },
      {
        "duration": 64,
        "start_time": "2023-09-17T21:25:11.289Z"
      },
      {
        "duration": 65,
        "start_time": "2023-09-17T21:25:11.354Z"
      },
      {
        "duration": 71,
        "start_time": "2023-09-17T21:25:11.421Z"
      },
      {
        "duration": 92,
        "start_time": "2023-09-17T21:25:11.493Z"
      },
      {
        "duration": 24,
        "start_time": "2023-09-17T21:25:11.587Z"
      },
      {
        "duration": 50,
        "start_time": "2023-09-17T21:25:11.612Z"
      },
      {
        "duration": 102,
        "start_time": "2023-09-17T21:25:11.663Z"
      },
      {
        "duration": 97,
        "start_time": "2023-09-17T21:25:11.766Z"
      },
      {
        "duration": 8,
        "start_time": "2023-09-17T21:25:11.865Z"
      },
      {
        "duration": 220,
        "start_time": "2023-09-17T21:25:11.875Z"
      },
      {
        "duration": 4,
        "start_time": "2023-09-17T21:25:12.096Z"
      },
      {
        "duration": 31,
        "start_time": "2023-09-17T21:25:12.101Z"
      },
      {
        "duration": 15,
        "start_time": "2023-09-17T21:25:12.133Z"
      },
      {
        "duration": 3705,
        "start_time": "2023-09-17T21:25:12.150Z"
      },
      {
        "duration": 91,
        "start_time": "2023-09-17T21:25:15.857Z"
      },
      {
        "duration": 807,
        "start_time": "2023-09-17T21:25:15.950Z"
      },
      {
        "duration": 88,
        "start_time": "2023-09-17T21:25:16.759Z"
      },
      {
        "duration": 95,
        "start_time": "2023-09-17T21:25:16.851Z"
      },
      {
        "duration": 51305,
        "start_time": "2023-09-17T21:25:16.947Z"
      },
      {
        "duration": 13196,
        "start_time": "2023-09-17T21:26:08.256Z"
      },
      {
        "duration": 107,
        "start_time": "2023-09-17T21:26:21.543Z"
      },
      {
        "duration": 98,
        "start_time": "2023-09-17T21:26:21.654Z"
      },
      {
        "duration": 14895,
        "start_time": "2023-09-17T21:26:21.754Z"
      },
      {
        "duration": 294,
        "start_time": "2023-09-17T21:26:36.651Z"
      },
      {
        "duration": 100,
        "start_time": "2023-09-17T21:26:36.947Z"
      },
      {
        "duration": 5,
        "start_time": "2023-09-17T21:26:37.049Z"
      },
      {
        "duration": 4,
        "start_time": "2023-09-17T21:26:37.145Z"
      },
      {
        "duration": 93,
        "start_time": "2023-09-17T21:26:37.151Z"
      },
      {
        "duration": 3,
        "start_time": "2023-09-17T21:26:37.246Z"
      },
      {
        "duration": 10,
        "start_time": "2023-09-17T21:26:37.251Z"
      },
      {
        "duration": 17,
        "start_time": "2023-09-17T21:26:37.262Z"
      },
      {
        "duration": 26,
        "start_time": "2023-09-17T21:26:37.280Z"
      },
      {
        "duration": 21349,
        "start_time": "2023-09-17T21:26:37.308Z"
      },
      {
        "duration": 3,
        "start_time": "2023-09-17T21:26:58.659Z"
      },
      {
        "duration": 84,
        "start_time": "2023-09-17T21:26:58.663Z"
      },
      {
        "duration": 309,
        "start_time": "2023-09-17T21:26:58.749Z"
      },
      {
        "duration": 4,
        "start_time": "2023-09-17T21:26:59.060Z"
      },
      {
        "duration": 4,
        "start_time": "2023-09-17T21:28:08.619Z"
      },
      {
        "duration": 4,
        "start_time": "2023-09-17T21:28:18.205Z"
      },
      {
        "duration": 4,
        "start_time": "2023-09-17T21:28:32.285Z"
      },
      {
        "duration": 21,
        "start_time": "2023-09-17T21:28:40.604Z"
      },
      {
        "duration": 1504,
        "start_time": "2023-09-17T21:29:08.331Z"
      },
      {
        "duration": 823,
        "start_time": "2023-09-17T21:29:09.837Z"
      },
      {
        "duration": 3,
        "start_time": "2023-09-17T21:29:10.661Z"
      },
      {
        "duration": 37,
        "start_time": "2023-09-17T21:29:10.665Z"
      },
      {
        "duration": 6,
        "start_time": "2023-09-17T21:29:10.705Z"
      },
      {
        "duration": 157,
        "start_time": "2023-09-17T21:29:10.713Z"
      },
      {
        "duration": 3,
        "start_time": "2023-09-17T21:29:10.872Z"
      },
      {
        "duration": 94,
        "start_time": "2023-09-17T21:29:10.876Z"
      },
      {
        "duration": 23,
        "start_time": "2023-09-17T21:29:10.971Z"
      },
      {
        "duration": 208,
        "start_time": "2023-09-17T21:29:10.996Z"
      },
      {
        "duration": 235,
        "start_time": "2023-09-17T21:29:11.206Z"
      },
      {
        "duration": 23,
        "start_time": "2023-09-17T21:29:11.444Z"
      },
      {
        "duration": 24,
        "start_time": "2023-09-17T21:29:11.470Z"
      },
      {
        "duration": 23,
        "start_time": "2023-09-17T21:29:11.497Z"
      },
      {
        "duration": 77,
        "start_time": "2023-09-17T21:29:11.522Z"
      },
      {
        "duration": 13,
        "start_time": "2023-09-17T21:29:11.601Z"
      },
      {
        "duration": 3,
        "start_time": "2023-09-17T21:29:11.616Z"
      },
      {
        "duration": 16,
        "start_time": "2023-09-17T21:29:11.645Z"
      },
      {
        "duration": 16,
        "start_time": "2023-09-17T21:29:11.663Z"
      },
      {
        "duration": 16,
        "start_time": "2023-09-17T21:29:11.681Z"
      },
      {
        "duration": 47,
        "start_time": "2023-09-17T21:29:11.698Z"
      },
      {
        "duration": 25,
        "start_time": "2023-09-17T21:29:11.747Z"
      },
      {
        "duration": 17,
        "start_time": "2023-09-17T21:29:11.774Z"
      },
      {
        "duration": 29,
        "start_time": "2023-09-17T21:29:11.793Z"
      },
      {
        "duration": 270,
        "start_time": "2023-09-17T21:29:11.825Z"
      },
      {
        "duration": 223,
        "start_time": "2023-09-17T21:29:12.096Z"
      },
      {
        "duration": 224,
        "start_time": "2023-09-17T21:29:12.322Z"
      },
      {
        "duration": 16,
        "start_time": "2023-09-17T21:29:12.547Z"
      },
      {
        "duration": 81,
        "start_time": "2023-09-17T21:29:12.564Z"
      },
      {
        "duration": 213,
        "start_time": "2023-09-17T21:29:12.646Z"
      },
      {
        "duration": 3,
        "start_time": "2023-09-17T21:29:12.861Z"
      },
      {
        "duration": 66,
        "start_time": "2023-09-17T21:29:12.866Z"
      },
      {
        "duration": 66,
        "start_time": "2023-09-17T21:29:12.933Z"
      },
      {
        "duration": 80,
        "start_time": "2023-09-17T21:29:13.001Z"
      },
      {
        "duration": 70,
        "start_time": "2023-09-17T21:29:13.082Z"
      },
      {
        "duration": 25,
        "start_time": "2023-09-17T21:29:13.154Z"
      },
      {
        "duration": 24,
        "start_time": "2023-09-17T21:29:13.181Z"
      },
      {
        "duration": 13,
        "start_time": "2023-09-17T21:29:13.206Z"
      },
      {
        "duration": 45,
        "start_time": "2023-09-17T21:29:13.244Z"
      },
      {
        "duration": 4,
        "start_time": "2023-09-17T21:29:13.291Z"
      },
      {
        "duration": 4,
        "start_time": "2023-09-17T21:29:13.299Z"
      },
      {
        "duration": 6,
        "start_time": "2023-09-17T21:29:13.304Z"
      },
      {
        "duration": 40,
        "start_time": "2023-09-17T21:29:13.311Z"
      },
      {
        "duration": 12,
        "start_time": "2023-09-17T21:29:13.353Z"
      },
      {
        "duration": 4280,
        "start_time": "2023-09-17T21:29:13.366Z"
      },
      {
        "duration": 5,
        "start_time": "2023-09-17T21:29:17.648Z"
      },
      {
        "duration": 897,
        "start_time": "2023-09-17T21:29:17.655Z"
      },
      {
        "duration": 92,
        "start_time": "2023-09-17T21:29:18.554Z"
      },
      {
        "duration": 6,
        "start_time": "2023-09-17T21:29:18.648Z"
      },
      {
        "duration": 124694,
        "start_time": "2023-09-17T21:29:18.657Z"
      },
      {
        "duration": 26894,
        "start_time": "2023-09-17T21:31:23.355Z"
      },
      {
        "duration": 98,
        "start_time": "2023-09-17T21:31:50.251Z"
      },
      {
        "duration": 98,
        "start_time": "2023-09-17T21:31:50.351Z"
      },
      {
        "duration": 15194,
        "start_time": "2023-09-17T21:31:50.451Z"
      },
      {
        "duration": 201,
        "start_time": "2023-09-17T21:32:05.651Z"
      },
      {
        "duration": 101,
        "start_time": "2023-09-17T21:32:05.854Z"
      },
      {
        "duration": 7,
        "start_time": "2023-09-17T21:32:06.046Z"
      },
      {
        "duration": 3,
        "start_time": "2023-09-17T21:32:06.145Z"
      },
      {
        "duration": 55,
        "start_time": "2023-09-17T21:32:06.149Z"
      },
      {
        "duration": 4,
        "start_time": "2023-09-17T21:32:06.205Z"
      },
      {
        "duration": 6,
        "start_time": "2023-09-17T21:32:06.210Z"
      },
      {
        "duration": 5,
        "start_time": "2023-09-17T21:32:06.217Z"
      },
      {
        "duration": 44,
        "start_time": "2023-09-17T21:32:06.223Z"
      },
      {
        "duration": 21782,
        "start_time": "2023-09-17T21:32:06.269Z"
      },
      {
        "duration": 2,
        "start_time": "2023-09-17T21:32:28.053Z"
      },
      {
        "duration": 11,
        "start_time": "2023-09-17T21:32:28.056Z"
      },
      {
        "duration": 292,
        "start_time": "2023-09-17T21:32:28.068Z"
      },
      {
        "duration": 82,
        "start_time": "2023-09-17T21:32:28.362Z"
      },
      {
        "duration": 3,
        "start_time": "2023-09-17T21:34:49.871Z"
      },
      {
        "duration": 2,
        "start_time": "2023-09-17T21:35:04.648Z"
      },
      {
        "duration": 5,
        "start_time": "2023-09-17T22:06:11.083Z"
      },
      {
        "duration": 11,
        "start_time": "2023-09-17T22:07:32.725Z"
      },
      {
        "duration": 17,
        "start_time": "2023-09-17T22:07:33.372Z"
      },
      {
        "duration": 108,
        "start_time": "2023-09-17T22:11:51.236Z"
      },
      {
        "duration": 126,
        "start_time": "2023-09-17T22:25:07.354Z"
      },
      {
        "duration": 51,
        "start_time": "2023-09-18T09:30:46.167Z"
      },
      {
        "duration": 1687,
        "start_time": "2023-09-19T14:18:11.902Z"
      },
      {
        "duration": 1215,
        "start_time": "2023-09-19T14:18:13.591Z"
      },
      {
        "duration": 3,
        "start_time": "2023-09-19T14:18:14.807Z"
      },
      {
        "duration": 49,
        "start_time": "2023-09-19T14:18:14.812Z"
      },
      {
        "duration": 17,
        "start_time": "2023-09-19T14:18:14.863Z"
      },
      {
        "duration": 184,
        "start_time": "2023-09-19T14:18:14.881Z"
      },
      {
        "duration": 4,
        "start_time": "2023-09-19T14:18:15.067Z"
      },
      {
        "duration": 133,
        "start_time": "2023-09-19T14:18:15.072Z"
      },
      {
        "duration": 26,
        "start_time": "2023-09-19T14:18:15.206Z"
      },
      {
        "duration": 250,
        "start_time": "2023-09-19T14:18:15.234Z"
      },
      {
        "duration": 299,
        "start_time": "2023-09-19T14:18:15.486Z"
      },
      {
        "duration": 23,
        "start_time": "2023-09-19T14:18:15.787Z"
      },
      {
        "duration": 34,
        "start_time": "2023-09-19T14:18:15.813Z"
      },
      {
        "duration": 23,
        "start_time": "2023-09-19T14:18:15.850Z"
      },
      {
        "duration": 78,
        "start_time": "2023-09-19T14:18:15.875Z"
      },
      {
        "duration": 12,
        "start_time": "2023-09-19T14:18:15.955Z"
      },
      {
        "duration": 19,
        "start_time": "2023-09-19T14:18:15.968Z"
      },
      {
        "duration": 52,
        "start_time": "2023-09-19T14:18:15.988Z"
      },
      {
        "duration": 27,
        "start_time": "2023-09-19T14:18:16.042Z"
      },
      {
        "duration": 49,
        "start_time": "2023-09-19T14:18:16.071Z"
      },
      {
        "duration": 30,
        "start_time": "2023-09-19T14:18:16.122Z"
      },
      {
        "duration": 48,
        "start_time": "2023-09-19T14:18:16.153Z"
      },
      {
        "duration": 26,
        "start_time": "2023-09-19T14:18:16.203Z"
      },
      {
        "duration": 44,
        "start_time": "2023-09-19T14:18:16.231Z"
      },
      {
        "duration": 264,
        "start_time": "2023-09-19T14:18:16.276Z"
      },
      {
        "duration": 259,
        "start_time": "2023-09-19T14:18:16.542Z"
      },
      {
        "duration": 257,
        "start_time": "2023-09-19T14:18:16.802Z"
      },
      {
        "duration": 18,
        "start_time": "2023-09-19T14:18:17.061Z"
      },
      {
        "duration": 80,
        "start_time": "2023-09-19T14:18:17.081Z"
      },
      {
        "duration": 25,
        "start_time": "2023-09-19T14:18:17.163Z"
      },
      {
        "duration": 29,
        "start_time": "2023-09-19T14:18:17.189Z"
      },
      {
        "duration": 91,
        "start_time": "2023-09-19T14:18:17.219Z"
      },
      {
        "duration": 252,
        "start_time": "2023-09-19T14:18:17.312Z"
      },
      {
        "duration": 3,
        "start_time": "2023-09-19T14:18:17.566Z"
      },
      {
        "duration": 81,
        "start_time": "2023-09-19T14:18:17.571Z"
      },
      {
        "duration": 60,
        "start_time": "2023-09-19T14:18:17.653Z"
      },
      {
        "duration": 85,
        "start_time": "2023-09-19T14:18:17.715Z"
      },
      {
        "duration": 73,
        "start_time": "2023-09-19T14:18:17.802Z"
      },
      {
        "duration": 26,
        "start_time": "2023-09-19T14:18:17.876Z"
      },
      {
        "duration": 105,
        "start_time": "2023-09-19T14:18:17.904Z"
      },
      {
        "duration": 11,
        "start_time": "2023-09-19T14:18:18.013Z"
      },
      {
        "duration": 51,
        "start_time": "2023-09-19T14:18:18.026Z"
      },
      {
        "duration": 4,
        "start_time": "2023-09-19T14:18:18.079Z"
      },
      {
        "duration": 14,
        "start_time": "2023-09-19T14:18:18.084Z"
      },
      {
        "duration": 6,
        "start_time": "2023-09-19T14:18:18.100Z"
      },
      {
        "duration": 7,
        "start_time": "2023-09-19T14:18:18.108Z"
      },
      {
        "duration": 14,
        "start_time": "2023-09-19T14:18:18.117Z"
      },
      {
        "duration": 28,
        "start_time": "2023-09-19T14:18:18.133Z"
      },
      {
        "duration": 18,
        "start_time": "2023-09-19T14:18:18.163Z"
      },
      {
        "duration": 4068,
        "start_time": "2023-09-19T14:18:18.183Z"
      },
      {
        "duration": 93,
        "start_time": "2023-09-19T14:18:22.254Z"
      },
      {
        "duration": 807,
        "start_time": "2023-09-19T14:18:22.349Z"
      },
      {
        "duration": 92,
        "start_time": "2023-09-19T14:18:23.158Z"
      },
      {
        "duration": 98,
        "start_time": "2023-09-19T14:18:23.253Z"
      },
      {
        "duration": 79898,
        "start_time": "2023-09-19T14:18:23.354Z"
      },
      {
        "duration": 29998,
        "start_time": "2023-09-19T14:19:43.254Z"
      },
      {
        "duration": 196,
        "start_time": "2023-09-19T14:20:13.255Z"
      },
      {
        "duration": 97,
        "start_time": "2023-09-19T14:20:13.454Z"
      },
      {
        "duration": 14999,
        "start_time": "2023-09-19T14:20:13.555Z"
      },
      {
        "duration": 202,
        "start_time": "2023-09-19T14:20:28.651Z"
      },
      {
        "duration": 192,
        "start_time": "2023-09-19T14:20:28.856Z"
      },
      {
        "duration": 114,
        "start_time": "2023-09-19T14:20:29.051Z"
      },
      {
        "duration": 20,
        "start_time": "2023-09-19T14:20:29.167Z"
      },
      {
        "duration": 76,
        "start_time": "2023-09-19T14:20:29.188Z"
      },
      {
        "duration": 4,
        "start_time": "2023-09-19T14:20:29.266Z"
      },
      {
        "duration": 18,
        "start_time": "2023-09-19T14:20:29.271Z"
      },
      {
        "duration": 16,
        "start_time": "2023-09-19T14:20:29.291Z"
      },
      {
        "duration": 39,
        "start_time": "2023-09-19T14:20:29.309Z"
      },
      {
        "duration": 3905,
        "start_time": "2023-09-19T14:20:29.350Z"
      },
      {
        "duration": 25303,
        "start_time": "2023-09-19T14:20:33.257Z"
      },
      {
        "duration": 3,
        "start_time": "2023-09-19T14:20:58.562Z"
      },
      {
        "duration": 4,
        "start_time": "2023-09-19T14:20:58.647Z"
      },
      {
        "duration": 310,
        "start_time": "2023-09-19T14:20:58.653Z"
      },
      {
        "duration": 5,
        "start_time": "2023-09-19T14:20:59.047Z"
      },
      {
        "duration": 1572,
        "start_time": "2023-09-19T14:25:47.683Z"
      },
      {
        "duration": 933,
        "start_time": "2023-09-19T14:25:49.257Z"
      },
      {
        "duration": 3,
        "start_time": "2023-09-19T14:25:50.191Z"
      },
      {
        "duration": 54,
        "start_time": "2023-09-19T14:25:50.196Z"
      },
      {
        "duration": 10,
        "start_time": "2023-09-19T14:25:50.252Z"
      },
      {
        "duration": 205,
        "start_time": "2023-09-19T14:25:50.264Z"
      },
      {
        "duration": 4,
        "start_time": "2023-09-19T14:25:50.470Z"
      },
      {
        "duration": 123,
        "start_time": "2023-09-19T14:25:50.476Z"
      },
      {
        "duration": 26,
        "start_time": "2023-09-19T14:25:50.600Z"
      },
      {
        "duration": 248,
        "start_time": "2023-09-19T14:25:50.627Z"
      },
      {
        "duration": 266,
        "start_time": "2023-09-19T14:25:50.877Z"
      },
      {
        "duration": 24,
        "start_time": "2023-09-19T14:25:51.147Z"
      },
      {
        "duration": 37,
        "start_time": "2023-09-19T14:25:51.173Z"
      },
      {
        "duration": 34,
        "start_time": "2023-09-19T14:25:51.215Z"
      },
      {
        "duration": 74,
        "start_time": "2023-09-19T14:25:51.251Z"
      },
      {
        "duration": 10,
        "start_time": "2023-09-19T14:25:51.327Z"
      },
      {
        "duration": 35,
        "start_time": "2023-09-19T14:25:51.339Z"
      },
      {
        "duration": 27,
        "start_time": "2023-09-19T14:25:51.376Z"
      },
      {
        "duration": 42,
        "start_time": "2023-09-19T14:25:51.405Z"
      },
      {
        "duration": 38,
        "start_time": "2023-09-19T14:25:51.449Z"
      },
      {
        "duration": 28,
        "start_time": "2023-09-19T14:25:51.488Z"
      },
      {
        "duration": 47,
        "start_time": "2023-09-19T14:25:51.518Z"
      },
      {
        "duration": 70,
        "start_time": "2023-09-19T14:25:51.567Z"
      },
      {
        "duration": 187,
        "start_time": "2023-09-19T14:25:51.639Z"
      },
      {
        "duration": 266,
        "start_time": "2023-09-19T14:25:51.828Z"
      },
      {
        "duration": 277,
        "start_time": "2023-09-19T14:25:52.095Z"
      },
      {
        "duration": 278,
        "start_time": "2023-09-19T14:25:52.374Z"
      },
      {
        "duration": 21,
        "start_time": "2023-09-19T14:25:52.654Z"
      },
      {
        "duration": 20,
        "start_time": "2023-09-19T14:25:52.677Z"
      },
      {
        "duration": 26,
        "start_time": "2023-09-19T14:25:52.698Z"
      },
      {
        "duration": 24,
        "start_time": "2023-09-19T14:25:52.725Z"
      },
      {
        "duration": 199,
        "start_time": "2023-09-19T14:25:52.751Z"
      },
      {
        "duration": 263,
        "start_time": "2023-09-19T14:25:52.952Z"
      },
      {
        "duration": 3,
        "start_time": "2023-09-19T14:25:53.217Z"
      },
      {
        "duration": 112,
        "start_time": "2023-09-19T14:25:53.221Z"
      },
      {
        "duration": 74,
        "start_time": "2023-09-19T14:25:53.335Z"
      },
      {
        "duration": 77,
        "start_time": "2023-09-19T14:25:53.411Z"
      },
      {
        "duration": 79,
        "start_time": "2023-09-19T14:25:53.490Z"
      },
      {
        "duration": 27,
        "start_time": "2023-09-19T14:25:53.570Z"
      },
      {
        "duration": 23,
        "start_time": "2023-09-19T14:25:53.599Z"
      },
      {
        "duration": 18,
        "start_time": "2023-09-19T14:25:53.646Z"
      },
      {
        "duration": 61,
        "start_time": "2023-09-19T14:25:53.665Z"
      },
      {
        "duration": 4,
        "start_time": "2023-09-19T14:25:53.729Z"
      },
      {
        "duration": 21,
        "start_time": "2023-09-19T14:25:53.735Z"
      },
      {
        "duration": 25,
        "start_time": "2023-09-19T14:25:53.758Z"
      },
      {
        "duration": 4,
        "start_time": "2023-09-19T14:25:53.785Z"
      },
      {
        "duration": 6,
        "start_time": "2023-09-19T14:25:53.791Z"
      },
      {
        "duration": 37,
        "start_time": "2023-09-19T14:25:53.798Z"
      },
      {
        "duration": 18,
        "start_time": "2023-09-19T14:25:53.837Z"
      },
      {
        "duration": 4193,
        "start_time": "2023-09-19T14:25:53.857Z"
      },
      {
        "duration": 92,
        "start_time": "2023-09-19T14:25:58.056Z"
      },
      {
        "duration": 817,
        "start_time": "2023-09-19T14:25:58.150Z"
      },
      {
        "duration": 98,
        "start_time": "2023-09-19T14:25:59.048Z"
      },
      {
        "duration": 95,
        "start_time": "2023-09-19T14:25:59.153Z"
      },
      {
        "duration": 78403,
        "start_time": "2023-09-19T14:25:59.249Z"
      },
      {
        "duration": 25701,
        "start_time": "2023-09-19T14:27:17.655Z"
      },
      {
        "duration": 101,
        "start_time": "2023-09-19T14:27:43.449Z"
      },
      {
        "duration": 6,
        "start_time": "2023-09-19T14:27:43.646Z"
      },
      {
        "duration": 14994,
        "start_time": "2023-09-19T14:27:43.654Z"
      },
      {
        "duration": 204,
        "start_time": "2023-09-19T14:27:58.650Z"
      },
      {
        "duration": 99,
        "start_time": "2023-09-19T14:27:58.857Z"
      },
      {
        "duration": 104,
        "start_time": "2023-09-19T14:27:59.049Z"
      },
      {
        "duration": 11,
        "start_time": "2023-09-19T14:27:59.155Z"
      },
      {
        "duration": 74,
        "start_time": "2023-09-19T14:27:59.168Z"
      },
      {
        "duration": 4,
        "start_time": "2023-09-19T14:27:59.244Z"
      },
      {
        "duration": 26,
        "start_time": "2023-09-19T14:27:59.249Z"
      },
      {
        "duration": 14,
        "start_time": "2023-09-19T14:27:59.277Z"
      },
      {
        "duration": 42,
        "start_time": "2023-09-19T14:27:59.292Z"
      },
      {
        "duration": 4130,
        "start_time": "2023-09-19T14:27:59.335Z"
      },
      {
        "duration": 25092,
        "start_time": "2023-09-19T14:28:03.466Z"
      },
      {
        "duration": 3,
        "start_time": "2023-09-19T14:28:28.560Z"
      },
      {
        "duration": 14,
        "start_time": "2023-09-19T14:28:28.565Z"
      },
      {
        "duration": 319,
        "start_time": "2023-09-19T14:28:28.647Z"
      },
      {
        "duration": 80,
        "start_time": "2023-09-19T14:28:28.968Z"
      },
      {
        "duration": 2604,
        "start_time": "2023-09-19T14:56:22.587Z"
      },
      {
        "duration": 21,
        "start_time": "2023-09-19T15:02:34.846Z"
      },
      {
        "duration": 7902,
        "start_time": "2023-09-19T16:56:55.347Z"
      },
      {
        "duration": 13094,
        "start_time": "2023-09-19T16:57:03.251Z"
      },
      {
        "duration": 4,
        "start_time": "2023-09-19T16:57:16.347Z"
      },
      {
        "duration": 106,
        "start_time": "2023-09-19T16:57:16.355Z"
      },
      {
        "duration": 280,
        "start_time": "2023-09-19T16:57:16.463Z"
      },
      {
        "duration": 826,
        "start_time": "2023-09-19T16:57:16.746Z"
      },
      {
        "duration": 4,
        "start_time": "2023-09-19T16:57:17.574Z"
      },
      {
        "duration": 665,
        "start_time": "2023-09-19T16:57:17.580Z"
      },
      {
        "duration": 25,
        "start_time": "2023-09-19T16:57:18.247Z"
      },
      {
        "duration": 1184,
        "start_time": "2023-09-19T16:57:18.274Z"
      },
      {
        "duration": 1285,
        "start_time": "2023-09-19T16:57:19.460Z"
      },
      {
        "duration": 201,
        "start_time": "2023-09-19T16:57:20.747Z"
      },
      {
        "duration": 113,
        "start_time": "2023-09-19T16:57:20.949Z"
      },
      {
        "duration": 81,
        "start_time": "2023-09-19T16:57:21.064Z"
      },
      {
        "duration": 310,
        "start_time": "2023-09-19T16:57:21.152Z"
      },
      {
        "duration": 10,
        "start_time": "2023-09-19T16:57:21.464Z"
      },
      {
        "duration": 107,
        "start_time": "2023-09-19T16:57:21.546Z"
      },
      {
        "duration": 114,
        "start_time": "2023-09-19T16:57:21.745Z"
      },
      {
        "duration": 290,
        "start_time": "2023-09-19T16:57:21.860Z"
      },
      {
        "duration": 203,
        "start_time": "2023-09-19T16:57:22.152Z"
      },
      {
        "duration": 101,
        "start_time": "2023-09-19T16:57:22.358Z"
      },
      {
        "duration": 302,
        "start_time": "2023-09-19T16:57:22.461Z"
      },
      {
        "duration": 386,
        "start_time": "2023-09-19T16:57:22.764Z"
      },
      {
        "duration": 192,
        "start_time": "2023-09-19T16:57:23.153Z"
      },
      {
        "duration": 1496,
        "start_time": "2023-09-19T16:57:23.348Z"
      },
      {
        "duration": 1211,
        "start_time": "2023-09-19T16:57:24.846Z"
      },
      {
        "duration": 1305,
        "start_time": "2023-09-19T16:57:26.059Z"
      },
      {
        "duration": 109,
        "start_time": "2023-09-19T16:57:27.543Z"
      },
      {
        "duration": 5,
        "start_time": "2023-09-19T16:57:27.654Z"
      }
    ],
    "kernelspec": {
      "display_name": "Python 3 (ipykernel)",
      "language": "python",
      "name": "python3"
    },
    "language_info": {
      "codemirror_mode": {
        "name": "ipython",
        "version": 3
      },
      "file_extension": ".py",
      "mimetype": "text/x-python",
      "name": "python",
      "nbconvert_exporter": "python",
      "pygments_lexer": "ipython3",
      "version": "3.9.5"
    },
    "toc": {
      "base_numbering": 1,
      "nav_menu": {},
      "number_sections": true,
      "sideBar": true,
      "skip_h1_title": true,
      "title_cell": "Table of Contents",
      "title_sidebar": "Contents",
      "toc_cell": false,
      "toc_position": {
        "height": "calc(100% - 180px)",
        "left": "10px",
        "top": "150px",
        "width": "349.091px"
      },
      "toc_section_display": true,
      "toc_window_display": true
    },
    "colab": {
      "provenance": [],
      "include_colab_link": true
    }
  },
  "nbformat": 4,
  "nbformat_minor": 0
}